{
 "cells": [
  {
   "cell_type": "markdown",
   "metadata": {},
   "source": [
    "# Import Libraries"
   ]
  },
  {
   "cell_type": "code",
   "execution_count": 2,
   "metadata": {},
   "outputs": [],
   "source": [
    "import pandas as pd\n",
    "pd.set_option(\"display.max_columns\",500)\n",
    "pd.set_option(\"display.max_rows\",500)\n",
    "\n",
    "import matplotlib.pyplot as plt\n",
    "\n",
    "from sklearn.model_selection import train_test_split, cross_val_score\n",
    "from sklearn.metrics import accuracy_score\n",
    "from sklearn.linear_model import LogisticRegression\n",
    "from sklearn.neighbors import KNeighborsClassifier\n",
    "from sklearn.naive_bayes import MultinomialNB\n",
    "from sklearn.tree import DecisionTreeClassifier, ExtraTreeClassifier\n",
    "from sklearn.ensemble import BaggingClassifier, RandomForestClassifier, VotingClassifier, GradientBoostingClassifier, AdaBoostClassifier\n",
    "from sklearn import svm"
   ]
  },
  {
   "cell_type": "markdown",
   "metadata": {},
   "source": [
    "# Import Train/Test Data"
   ]
  },
  {
   "cell_type": "code",
   "execution_count": 14,
   "metadata": {},
   "outputs": [],
   "source": [
    "#import data\n",
    "balanced_train = pd.read_csv('./west-nile-project-4/data/BALANCED_west_nile_train.csv', index_col=0)\n",
    "test = pd.read_csv('./west-nile-project-4/data/west_nile_test.csv', index_col='Id')\n",
    "spray = pd.read_csv('./west-nile-project-4/data/spray.csv')\n",
    "train_spray_dummy = pd.read_csv('./west-nile-project-4/data/west_nile_train_spray.csv', index_col=0)\n",
    "pd.read_csv('./', index_col=0)"
   ]
  },
  {
   "cell_type": "markdown",
   "metadata": {},
   "source": [
    "# Set X and y variables"
   ]
  },
  {
   "cell_type": "code",
   "execution_count": 16,
   "metadata": {},
   "outputs": [],
   "source": [
    "#id X and y\n",
    "X = train_spray_dummy.drop(['Date', 'NumMosquitos', 'WnvPresent', 'Latitude', 'Longitude'], axis=1)\n",
    "y = train_spray_dummy.WnvPresent"
   ]
  },
  {
   "cell_type": "markdown",
   "metadata": {},
   "source": [
    "# Train Test Split"
   ]
  },
  {
   "cell_type": "code",
   "execution_count": 17,
   "metadata": {},
   "outputs": [],
   "source": [
    "#train split\n",
    "X_train, X_test, y_train, y_test = train_test_split(X, y)"
   ]
  },
  {
   "cell_type": "markdown",
   "metadata": {},
   "source": [
    "# Cross Val Score Potential Classification Models"
   ]
  },
  {
   "cell_type": "code",
   "execution_count": 18,
   "metadata": {},
   "outputs": [
    {
     "name": "stdout",
     "output_type": "stream",
     "text": [
      "lr 0.7133769250664524\n",
      "knn 0.7285814182538713\n",
      "dt 0.7499498900731144\n",
      "et 0.7488781998479178\n",
      "bag 0.7492800214319203\n",
      "rf 0.7512894389217194\n",
      "gb 0.7086209909635771\n",
      "ad 0.7041328616458863\n",
      "svm 0.6918750825070781\n"
     ]
    }
   ],
   "source": [
    "#cross val score all potential classification models\n",
    "lr = LogisticRegression() \n",
    "knn = KNeighborsClassifier() \n",
    "#nb = MultinomialNB() won't take neg vals\n",
    "dt = DecisionTreeClassifier() \n",
    "et = ExtraTreeClassifier()\n",
    "bag = BaggingClassifier()\n",
    "rf = RandomForestClassifier()\n",
    "gb = GradientBoostingClassifier()\n",
    "ad = AdaBoostClassifier()\n",
    "svm1 = svm.SVC()\n",
    "\n",
    "\n",
    "print('lr', cross_val_score(lr, X_train, y_train).mean())\n",
    "print('knn', cross_val_score(knn, X_train, y_train).mean())\n",
    "#print('nb', cross_val_score(nb, X_train, y_train).mean()) \n",
    "print('dt', cross_val_score(dt, X_train, y_train).mean()) \n",
    "print('et', cross_val_score(et, X_train, y_train).mean()) \n",
    "print('bag', cross_val_score(bag, X_train, y_train).mean())\n",
    "print('rf', cross_val_score(rf, X_train, y_train).mean()) \n",
    "print('gb', cross_val_score(gb, X_train, y_train).mean()) \n",
    "print('ad', cross_val_score(ad, X_train, y_train).mean()) \n",
    "print('svm', cross_val_score(svm1, X_train, y_train).mean())"
   ]
  },
  {
   "cell_type": "markdown",
   "metadata": {},
   "source": [
    "# Making an Interpretable Equation"
   ]
  },
  {
   "cell_type": "code",
   "execution_count": 19,
   "metadata": {},
   "outputs": [
    {
     "data": {
      "text/plain": [
       "Species_CULEX PIPIENS             2.127675\n",
       "Trap_T228                         2.051289\n",
       "Trap_T003                         2.034390\n",
       "Trap_T014                         1.990741\n",
       "Trap_T225                         1.865276\n",
       "Trap_T070                         1.815498\n",
       "Trap_T107                         1.582188\n",
       "zipcode_60631                     1.513486\n",
       "Trap_T096                         1.489098\n",
       "Species_CULEX PIPIENS/RESTUANS    1.477714\n",
       "Trap_T230                         1.451553\n",
       "Trap_T128                         1.440091\n",
       "Trap_T155                         1.439869\n",
       "Trap_T215                         1.398097\n",
       "Trap_T086                         1.330856\n",
       "Trap_T005                         1.275161\n",
       "Sprays_In_Last_Month              1.243696\n",
       "Trap_T081                         1.233224\n",
       "zipcode_60656                     1.228005\n",
       "Trap_T006                         1.049547\n",
       "Trap_T002                         1.030661\n",
       "zipcode_60666                     0.984612\n",
       "Trap_T900                         0.984612\n",
       "Trap_T035                         0.963000\n",
       "Trap_T008                         0.954884\n",
       "Trap_T011                         0.935432\n",
       "Trap_T045                         0.916414\n",
       "Trap_T065                         0.898019\n",
       "Trap_T223                         0.862833\n",
       "Trap_T114                         0.854461\n",
       "zipcode_60655                     0.853857\n",
       "Trap_T083                         0.843880\n",
       "Trap_T115                         0.800373\n",
       "zipcode_60614                     0.760664\n",
       "Trap_T013                         0.757322\n",
       "Trap_T082                         0.742011\n",
       "Trap_T160                         0.741451\n",
       "Trap_T231                         0.739332\n",
       "Trap_T154                         0.718233\n",
       "Trap_T027                         0.716041\n",
       "Trap_T218                         0.705237\n",
       "zipcode_60633                     0.704444\n",
       "Trap_T221                         0.704444\n",
       "zipcode_60621                     0.694400\n",
       "Trap_T235                         0.694400\n",
       "Trap_T095                         0.670706\n",
       "Trap_T143                         0.663982\n",
       "Trap_T103                         0.663478\n",
       "Trap_T047                         0.641648\n",
       "Trap_T061                         0.638121\n",
       "zipcode_60659                     0.593829\n",
       "Trap_T028                         0.593829\n",
       "Trap_T067                         0.590332\n",
       "Trap_T015                         0.583339\n",
       "Trap_T036                         0.534103\n",
       "zipcode_60622                     0.531575\n",
       "Trap_T903                         0.527444\n",
       "zipcode_60106                     0.527444\n",
       "Trap_T091                         0.493866\n",
       "zipcode_60827                     0.488841\n",
       "Trap_T097                         0.488841\n",
       "zipcode_60018                     0.479114\n",
       "zipcode_60634                     0.459125\n",
       "zipcode_60803                     0.458305\n",
       "Trap_T135                         0.458305\n",
       "Trap_T142                         0.456571\n",
       "Trap_T030                         0.446388\n",
       "Trap_T138                         0.424586\n",
       "Trap_T039                         0.414683\n",
       "Trap_T031                         0.391767\n",
       "zipcode_60646                     0.385183\n",
       "zipcode_60609                     0.361345\n",
       "zipcode_60639                     0.349285\n",
       "Trap_T227                         0.348875\n",
       "Trap_T084                         0.330047\n",
       "zipcode_60628                     0.330047\n",
       "Trap_T073                         0.322495\n",
       "Trap_T151                         0.320001\n",
       "Trap_T077                         0.317320\n",
       "Trap_T212                         0.314311\n",
       "Trap_T236                         0.295928\n",
       "Trap_T226                         0.292735\n",
       "zipcode_60619                     0.290195\n",
       "zipcode_60625                     0.283287\n",
       "Trap_T220                         0.283287\n",
       "Trap_T147                         0.269236\n",
       "zipcode_60643                     0.262328\n",
       "Trap_T009                         0.260947\n",
       "Species_CULEX RESTUANS            0.260181\n",
       "Trap_T090                         0.248993\n",
       "zipcode_60607                     0.248993\n",
       "zipcode_60629                     0.245267\n",
       "Trap_T156                         0.227508\n",
       "Trap_T016                         0.188007\n",
       "zipcode_60632                     0.186850\n",
       "Trap_T054                         0.183228\n",
       "Trap_T158                         0.183151\n",
       "Trap_T080                         0.167561\n",
       "Trap_T159                         0.144672\n",
       "zipcode_60620                     0.144672\n",
       "zipcode_60608                     0.130865\n",
       "Trap_T162                         0.122634\n",
       "zipcode_60651                     0.117670\n",
       "Trap_T012                         0.102867\n",
       "zipcode_60637                     0.071716\n",
       "Trap_T066                         0.017759\n",
       "Trap_T033                         0.000966\n",
       "Trap_T218B                        0.000000\n",
       "Trap_T128A                        0.000000\n",
       "Trap_T218A                        0.000000\n",
       "Trap_T200B                        0.000000\n",
       "Trap_T200A                        0.000000\n",
       "Trap_T065A                        0.000000\n",
       "Trap_T090C                        0.000000\n",
       "Trap_T090B                        0.000000\n",
       "Trap_T090A                        0.000000\n",
       "Trap_T218C                        0.000000\n",
       "Trap_T002B                        0.000000\n",
       "Trap_T002A                        0.000000\n",
       "Species_UNSPECIFIED CULEX         0.000000\n",
       "Trap_T234                         0.000000\n",
       "Block                            -0.000132\n",
       "zipcode_60707                    -0.000345\n",
       "Trap_T152                        -0.025579\n",
       "Trap_T144                        -0.042787\n",
       "Trap_T089                        -0.056864\n",
       "zipcode_60652                    -0.063514\n",
       "Trap_T094                        -0.087049\n",
       "Trap_T048                        -0.092709\n",
       "zipcode_60660                    -0.126125\n",
       "zipcode_60623                    -0.141517\n",
       "AddressAccuracy                  -0.182833\n",
       "zipcode_60618                    -0.196247\n",
       "Trap_T232                        -0.210843\n",
       "zipcode_60638                    -0.211599\n",
       "Trap_T040                        -0.245348\n",
       "zipcode_Unk                      -0.253552\n",
       "Species_CULEX ERRATICUS          -0.257926\n",
       "Trap_T079                        -0.259939\n",
       "zipcode_60649                    -0.259939\n",
       "zipcode_60617                    -0.284486\n",
       "Species_CULEX TARSALIS           -0.296692\n",
       "Trap_T209                        -0.309096\n",
       "Trap_T037                        -0.320346\n",
       "Trap_T054C                       -0.338979\n",
       "Trap_T078                        -0.348671\n",
       "Trap_T233                        -0.388050\n",
       "Trap_T085                        -0.395727\n",
       "Trap_T063                        -0.404692\n",
       "zipcode_60641                    -0.405219\n",
       "Trap_T224                        -0.420336\n",
       "zipcode_60613                    -0.420336\n",
       "Trap_T049                        -0.441714\n",
       "zipcode_60642                    -0.441714\n",
       "Trap_T150                        -0.462142\n",
       "Trap_T237                        -0.488958\n",
       "Trap_T094B                       -0.490959\n",
       "Trap_T044                        -0.518335\n",
       "Trap_T238                        -0.564728\n",
       "Trap_T076                        -0.568098\n",
       "Trap_T074                        -0.632121\n",
       "Trap_T062                        -0.667611\n",
       "zipcode_60630                    -0.713119\n",
       "Trap_T229                        -0.721028\n",
       "Trap_T102                        -0.780829\n",
       "Trap_T069                        -0.781098\n",
       "Trap_T004                        -0.790479\n",
       "zipcode_60612                    -0.845948\n",
       "Trap_T141                        -0.864786\n",
       "Trap_T149                        -0.865457\n",
       "Trap_T072                        -0.875104\n",
       "Trap_T050                        -0.896433\n",
       "zipcode_60647                    -0.896433\n",
       "zipcode_60615                    -0.927885\n",
       "Trap_T075                        -0.927885\n",
       "Trap_T219                        -0.969173\n",
       "zipcode_60640                    -0.969173\n",
       "Trap_T088                        -0.969261\n",
       "Trap_T092                        -1.057143\n",
       "zipcode_60605                    -1.057143\n",
       "Trap_T018                        -1.074493\n",
       "Trap_T025                        -1.092243\n",
       "Trap_T019                        -1.092445\n",
       "Trap_T129                        -1.108756\n",
       "zipcode_60611                    -1.108756\n",
       "Trap_T001                        -1.110456\n",
       "zipcode_60636                    -1.129769\n",
       "Trap_T071                        -1.130560\n",
       "Trap_T051                        -1.222478\n",
       "Trap_T034                        -1.226978\n",
       "zipcode_60645                    -1.253753\n",
       "Trap_T148                        -1.253753\n",
       "Trap_T145                        -1.262270\n",
       "Trap_T200                        -1.388979\n",
       "Trap_T100                        -1.400897\n",
       "Trap_T146                        -1.424327\n",
       "Trap_T157                        -1.483079\n",
       "zipcode_60654                    -1.534037\n",
       "Trap_T046                        -1.534037\n",
       "zipcode_60626                    -1.536636\n",
       "Trap_T222                        -1.540952\n",
       "Trap_T206                        -1.564913\n",
       "Trap_T161                        -1.583891\n",
       "Trap_T060                        -1.619891\n",
       "Trap_T099                        -1.669437\n",
       "Trap_T007                        -1.684536\n",
       "Trap_T153                        -1.780271\n",
       "Species_CULEX SALINARIUS         -1.923254\n",
       "Species_CULEX TERRITANS          -2.479539\n",
       "Trap_T043                        -3.000359\n",
       "Trap_T017                        -3.195913\n",
       "Name: coef, dtype: float64"
      ]
     },
     "execution_count": 19,
     "metadata": {},
     "output_type": "execute_result"
    }
   ],
   "source": [
    "#printing the model coefs\n",
    "lr.fit(X_train, y_train)\n",
    "lr_coefs = pd.DataFrame(lr.coef_, columns=X.columns, index=['coef']).T\n",
    "lr_coefs.coef.sort_values(ascending=False)\n",
    "#higher coefs are more likely to indicate WNV"
   ]
  },
  {
   "cell_type": "markdown",
   "metadata": {},
   "source": [
    "# Accuracy Score"
   ]
  },
  {
   "cell_type": "code",
   "execution_count": 20,
   "metadata": {},
   "outputs": [
    {
     "data": {
      "text/plain": [
       "0.7185051235684147"
      ]
     },
     "execution_count": 20,
     "metadata": {},
     "output_type": "execute_result"
    }
   ],
   "source": [
    "#accuracy score\n",
    "lr.score(X_test, y_test)"
   ]
  },
  {
   "cell_type": "markdown",
   "metadata": {},
   "source": [
    "# Prepping for Export"
   ]
  },
  {
   "cell_type": "code",
   "execution_count": 26,
   "metadata": {},
   "outputs": [],
   "source": [
    "#prepping the test data\n",
    "test.drop(['Unnamed: 0', 'Date', 'Latitude', 'Longitude'], axis=1, inplace=True)"
   ]
  },
  {
   "cell_type": "code",
   "execution_count": 28,
   "metadata": {},
   "outputs": [],
   "source": [
    "#predictions for test data\n",
    "preds = lr.predict(test)"
   ]
  },
  {
   "cell_type": "code",
   "execution_count": 36,
   "metadata": {},
   "outputs": [],
   "source": [
    "#exporting to csv\n",
    "pd.DataFrame({'WnvPresent':preds}, index=test.index).to_csv('./preds1.csv')"
   ]
  }
 ],
 "metadata": {
  "kernelspec": {
   "display_name": "Python 3",
   "language": "python",
   "name": "python3"
  },
  "language_info": {
   "codemirror_mode": {
    "name": "ipython",
    "version": 3
   },
   "file_extension": ".py",
   "mimetype": "text/x-python",
   "name": "python",
   "nbconvert_exporter": "python",
   "pygments_lexer": "ipython3",
   "version": "3.6.5"
  }
 },
 "nbformat": 4,
 "nbformat_minor": 2
}
