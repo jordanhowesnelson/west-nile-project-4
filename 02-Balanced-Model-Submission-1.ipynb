{
 "cells": [
  {
   "cell_type": "markdown",
   "metadata": {},
   "source": [
    "# Import Libraries"
   ]
  },
  {
   "cell_type": "code",
   "execution_count": 1,
   "metadata": {},
   "outputs": [],
   "source": [
    "import pandas as pd\n",
    "pd.set_option(\"display.max_columns\",500)\n",
    "pd.set_option(\"display.max_rows\",500)\n",
    "\n",
    "import matplotlib.pyplot as plt\n",
    "\n",
    "from sklearn.model_selection import train_test_split, cross_val_score\n",
    "from sklearn.metrics import accuracy_score\n",
    "from sklearn.linear_model import LogisticRegression\n",
    "from sklearn.neighbors import KNeighborsClassifier\n",
    "from sklearn.naive_bayes import MultinomialNB\n",
    "from sklearn.tree import DecisionTreeClassifier, ExtraTreeClassifier\n",
    "from sklearn.ensemble import BaggingClassifier, RandomForestClassifier, VotingClassifier, GradientBoostingClassifier, AdaBoostClassifier\n",
    "from sklearn import svm"
   ]
  },
  {
   "cell_type": "markdown",
   "metadata": {},
   "source": [
    "# Import Train/Test Data"
   ]
  },
  {
   "cell_type": "code",
   "execution_count": 16,
   "metadata": {},
   "outputs": [],
   "source": [
    "#import data\n",
    "balenced_train = pd.read_csv('./west-nile-project-4/data/BALANCED_west_nile_train.csv', index_col=0)\n",
    "test = pd.read_csv('./west-nile-project-4/data/west_nile_test.csv', index_col='Id')"
   ]
  },
  {
   "cell_type": "code",
   "execution_count": 3,
   "metadata": {},
   "outputs": [
    {
     "data": {
      "text/plain": [
       "0    9955\n",
       "1    9951\n",
       "Name: WnvPresent, dtype: int64"
      ]
     },
     "execution_count": 3,
     "metadata": {},
     "output_type": "execute_result"
    }
   ],
   "source": [
    "balenced_train.WnvPresent.value_counts()"
   ]
  },
  {
   "cell_type": "markdown",
   "metadata": {},
   "source": [
    "# Set X and y variables"
   ]
  },
  {
   "cell_type": "code",
   "execution_count": 5,
   "metadata": {},
   "outputs": [],
   "source": [
    "#id X and y\n",
    "X = balenced_train.drop(['Date', 'NumMosquitos', 'WnvPresent', 'Latitude', 'Longitude'], axis=1)\n",
    "y = balenced_train.WnvPresent"
   ]
  },
  {
   "cell_type": "markdown",
   "metadata": {},
   "source": [
    "# Train Test Split"
   ]
  },
  {
   "cell_type": "code",
   "execution_count": 6,
   "metadata": {},
   "outputs": [],
   "source": [
    "#train split\n",
    "X_train, X_test, y_train, y_test = train_test_split(X, y)"
   ]
  },
  {
   "cell_type": "markdown",
   "metadata": {},
   "source": [
    "# Cross Val Score Potential Classification Models"
   ]
  },
  {
   "cell_type": "code",
   "execution_count": 7,
   "metadata": {},
   "outputs": [
    {
     "name": "stdout",
     "output_type": "stream",
     "text": [
      "lr 0.6834352006367554\n",
      "knn 0.6613975331541168\n",
      "dt 0.7076166254373549\n",
      "et 0.7072817113060917\n",
      "bag 0.7083531457997249\n",
      "rf 0.7093581170059661\n",
      "gb 0.6801531148319785\n",
      "ad 0.6668905260016009\n",
      "svm 0.6486038887133763\n"
     ]
    }
   ],
   "source": [
    "#cross val score all potential classification models\n",
    "lr = LogisticRegression() \n",
    "knn = KNeighborsClassifier() \n",
    "#nb = MultinomialNB() won't take neg vals\n",
    "dt = DecisionTreeClassifier() \n",
    "et = ExtraTreeClassifier()\n",
    "bag = BaggingClassifier()\n",
    "rf = RandomForestClassifier()\n",
    "gb = GradientBoostingClassifier()\n",
    "ad = AdaBoostClassifier()\n",
    "svm1 = svm.SVC()\n",
    "\n",
    "\n",
    "print('lr', cross_val_score(lr, X_train, y_train).mean())\n",
    "print('knn', cross_val_score(knn, X_train, y_train).mean())\n",
    "#print('nb', cross_val_score(nb, X_train, y_train).mean()) \n",
    "print('dt', cross_val_score(dt, X_train, y_train).mean()) \n",
    "print('et', cross_val_score(et, X_train, y_train).mean()) \n",
    "print('bag', cross_val_score(bag, X_train, y_train).mean())\n",
    "print('rf', cross_val_score(rf, X_train, y_train).mean()) \n",
    "print('gb', cross_val_score(gb, X_train, y_train).mean()) \n",
    "print('ad', cross_val_score(ad, X_train, y_train).mean()) \n",
    "print('svm', cross_val_score(svm1, X_train, y_train).mean())"
   ]
  },
  {
   "cell_type": "markdown",
   "metadata": {},
   "source": [
    "# Making an Interpretable Equation"
   ]
  },
  {
   "cell_type": "code",
   "execution_count": 8,
   "metadata": {
    "collapsed": true
   },
   "outputs": [
    {
     "data": {
      "text/plain": [
       "Trap_T003                         2.232976\n",
       "Trap_T225                         2.226825\n",
       "Species_CULEX PIPIENS             2.126706\n",
       "Trap_T228                         2.062375\n",
       "zipcode_60631                     1.572814\n",
       "Trap_T230                         1.551791\n",
       "Trap_T231                         1.550477\n",
       "Species_CULEX PIPIENS/RESTUANS    1.547181\n",
       "Trap_T014                         1.496524\n",
       "Trap_T128                         1.476684\n",
       "Trap_T096                         1.370413\n",
       "Trap_T215                         1.247445\n",
       "Trap_T047                         1.235089\n",
       "Trap_T005                         1.229313\n",
       "Trap_T086                         1.125798\n",
       "Trap_T002                         1.090446\n",
       "zipcode_60656                     1.088002\n",
       "Trap_T013                         1.085761\n",
       "Trap_T223                         1.063234\n",
       "Trap_T008                         1.046680\n",
       "Trap_T155                         1.035123\n",
       "Trap_T082                         0.991742\n",
       "Trap_T103                         0.975406\n",
       "Trap_T070                         0.956003\n",
       "Trap_T027                         0.919425\n",
       "Trap_T035                         0.906685\n",
       "Trap_T114                         0.890564\n",
       "Trap_T226                         0.888780\n",
       "Trap_T235                         0.887590\n",
       "zipcode_60621                     0.887590\n",
       "zipcode_60018                     0.867685\n",
       "Trap_T061                         0.861155\n",
       "Trap_T011                         0.819413\n",
       "Trap_T083                         0.819373\n",
       "Trap_T227                         0.804213\n",
       "Trap_T107                         0.794855\n",
       "Trap_T900                         0.788732\n",
       "zipcode_60666                     0.788732\n",
       "Trap_T030                         0.783417\n",
       "Trap_T218                         0.771183\n",
       "zipcode_60622                     0.715698\n",
       "Trap_T065                         0.676135\n",
       "Trap_T028                         0.665691\n",
       "zipcode_60659                     0.665691\n",
       "Trap_T081                         0.659660\n",
       "zipcode_60639                     0.654709\n",
       "Trap_T154                         0.640809\n",
       "Trap_T031                         0.625313\n",
       "zipcode_60655                     0.625279\n",
       "Trap_T147                         0.620412\n",
       "zipcode_60614                     0.576973\n",
       "Trap_T143                         0.559120\n",
       "Trap_T089                         0.551167\n",
       "Trap_T048                         0.540190\n",
       "Trap_T221                         0.540092\n",
       "zipcode_60633                     0.540092\n",
       "Trap_T115                         0.518461\n",
       "Trap_T006                         0.503884\n",
       "Trap_T054C                        0.501224\n",
       "zipcode_60634                     0.489964\n",
       "zipcode_60629                     0.487117\n",
       "zipcode_60106                     0.486913\n",
       "Trap_T903                         0.486913\n",
       "Trap_T015                         0.478121\n",
       "Trap_T233                         0.462553\n",
       "Trap_T095                         0.434400\n",
       "Trap_T009                         0.414333\n",
       "Trap_T066                         0.387670\n",
       "Trap_T091                         0.371064\n",
       "zipcode_60646                     0.364036\n",
       "zipcode_60625                     0.333534\n",
       "Trap_T220                         0.333534\n",
       "zipcode_60609                     0.330978\n",
       "Trap_T067                         0.314193\n",
       "Trap_T142                         0.312092\n",
       "Species_CULEX RESTUANS            0.309948\n",
       "Trap_T159                         0.286519\n",
       "zipcode_60620                     0.286519\n",
       "Trap_T151                         0.283636\n",
       "zipcode_60607                     0.280296\n",
       "Trap_T090                         0.280296\n",
       "Trap_T033                         0.278814\n",
       "Trap_T162                         0.260513\n",
       "zipcode_60643                     0.246440\n",
       "Trap_T077                         0.243661\n",
       "Trap_T160                         0.240784\n",
       "zipcode_60660                     0.235100\n",
       "zipcode_60619                     0.217180\n",
       "zipcode_60651                     0.214691\n",
       "Trap_T094                         0.201638\n",
       "zipcode_60707                     0.200664\n",
       "Trap_T232                         0.196100\n",
       "Trap_T138                         0.193845\n",
       "Trap_T158                         0.190879\n",
       "Trap_T152                         0.180354\n",
       "zipcode_60632                     0.173687\n",
       "Trap_T036                         0.171213\n",
       "Trap_T135                         0.169558\n",
       "zipcode_60803                     0.169558\n",
       "Trap_T045                         0.167399\n",
       "Trap_T039                         0.163348\n",
       "Trap_T236                         0.159676\n",
       "Trap_T073                         0.121273\n",
       "Trap_T156                         0.099447\n",
       "Trap_T016                         0.047257\n",
       "zipcode_60628                     0.044670\n",
       "Trap_T084                         0.044670\n",
       "Trap_T063                         0.041487\n",
       "zipcode_60623                     0.040596\n",
       "Trap_T212                         0.040464\n",
       "zipcode_60613                     0.035287\n",
       "Trap_T224                         0.035287\n",
       "Trap_T234                         0.000000\n",
       "Trap_T090A                        0.000000\n",
       "Trap_T090B                        0.000000\n",
       "Species_UNSPECIFIED CULEX         0.000000\n",
       "Trap_T002A                        0.000000\n",
       "Trap_T002B                        0.000000\n",
       "Trap_T218B                        0.000000\n",
       "Trap_T218A                        0.000000\n",
       "Trap_T200B                        0.000000\n",
       "Trap_T200A                        0.000000\n",
       "Trap_T065A                        0.000000\n",
       "Trap_T128A                        0.000000\n",
       "Trap_T218C                        0.000000\n",
       "Trap_T090C                        0.000000\n",
       "Block                            -0.002203\n",
       "zipcode_60652                    -0.005070\n",
       "Trap_T012                        -0.010281\n",
       "zipcode_60638                    -0.021282\n",
       "Trap_T080                        -0.043333\n",
       "Trap_T069                        -0.043795\n",
       "Trap_T079                        -0.056005\n",
       "zipcode_60649                    -0.056005\n",
       "Trap_T037                        -0.082972\n",
       "Trap_T054                        -0.091650\n",
       "zipcode_60637                    -0.107016\n",
       "AddressAccuracy                  -0.132280\n",
       "zipcode_Unk                      -0.138713\n",
       "Trap_T209                        -0.242495\n",
       "Species_CULEX ERRATICUS          -0.255396\n",
       "zipcode_60618                    -0.261386\n",
       "zipcode_60642                    -0.298714\n",
       "Trap_T049                        -0.298714\n",
       "Trap_T097                        -0.350211\n",
       "zipcode_60827                    -0.350211\n",
       "Trap_T040                        -0.352458\n",
       "zipcode_60608                    -0.361523\n",
       "zipcode_60641                    -0.379004\n",
       "Trap_T085                        -0.383263\n",
       "Trap_T144                        -0.399205\n",
       "zipcode_60617                    -0.431371\n",
       "Species_CULEX TARSALIS           -0.439178\n",
       "Trap_T094B                       -0.456730\n",
       "Trap_T237                        -0.458204\n",
       "Trap_T076                        -0.471950\n",
       "Trap_T238                        -0.592734\n",
       "Trap_T102                        -0.613013\n",
       "Trap_T074                        -0.649253\n",
       "Trap_T078                        -0.656923\n",
       "Trap_T150                        -0.700490\n",
       "zipcode_60636                    -0.700719\n",
       "Trap_T062                        -0.716877\n",
       "zipcode_60630                    -0.786200\n",
       "Trap_T044                        -0.865776\n",
       "Trap_T004                        -0.884975\n",
       "Trap_T050                        -0.912330\n",
       "zipcode_60647                    -0.912330\n",
       "Trap_T141                        -0.926222\n",
       "zipcode_60612                    -0.928292\n",
       "zipcode_60615                    -0.991927\n",
       "Trap_T075                        -0.991927\n",
       "Trap_T051                        -1.032001\n",
       "Trap_T018                        -1.038446\n",
       "Trap_T200                        -1.047972\n",
       "Trap_T145                        -1.053167\n",
       "Trap_T219                        -1.088239\n",
       "zipcode_60640                    -1.088239\n",
       "zipcode_60611                    -1.142747\n",
       "Trap_T129                        -1.142747\n",
       "Trap_T001                        -1.150188\n",
       "Trap_T229                        -1.153960\n",
       "Trap_T072                        -1.180957\n",
       "Trap_T092                        -1.206328\n",
       "zipcode_60605                    -1.206328\n",
       "Trap_T025                        -1.207979\n",
       "Trap_T034                        -1.218291\n",
       "Trap_T222                        -1.235209\n",
       "Trap_T088                        -1.297604\n",
       "zipcode_60645                    -1.308615\n",
       "Trap_T148                        -1.308615\n",
       "Trap_T149                        -1.315377\n",
       "Trap_T019                        -1.360757\n",
       "Trap_T100                        -1.380747\n",
       "Trap_T071                        -1.508305\n",
       "Trap_T157                        -1.518444\n",
       "Trap_T060                        -1.532326\n",
       "zipcode_60654                    -1.580914\n",
       "Trap_T046                        -1.580914\n",
       "Trap_T146                        -1.583416\n",
       "Trap_T161                        -1.611416\n",
       "Trap_T206                        -1.646724\n",
       "Trap_T099                        -1.720777\n",
       "zipcode_60626                    -1.738936\n",
       "Trap_T007                        -1.751464\n",
       "Species_CULEX SALINARIUS         -1.924431\n",
       "Trap_T043                        -2.048914\n",
       "Trap_T153                        -2.120518\n",
       "Species_CULEX TERRITANS          -2.539877\n",
       "Trap_T017                        -2.562095\n",
       "Name: coef, dtype: float64"
      ]
     },
     "execution_count": 8,
     "metadata": {},
     "output_type": "execute_result"
    }
   ],
   "source": [
    "#printing the model coefs\n",
    "lr.fit(X_train, y_train)\n",
    "lr_coefs = pd.DataFrame(lr.coef_, columns=X.columns, index=['coef']).T\n",
    "lr_coefs.coef.sort_values(ascending=False)\n",
    "#higher coefs are more likely to indicate WNV"
   ]
  },
  {
   "cell_type": "markdown",
   "metadata": {},
   "source": [
    "# Accuracy Score"
   ]
  },
  {
   "cell_type": "code",
   "execution_count": 10,
   "metadata": {},
   "outputs": [
    {
     "data": {
      "text/plain": [
       "0.6833433795459112"
      ]
     },
     "execution_count": 10,
     "metadata": {},
     "output_type": "execute_result"
    }
   ],
   "source": [
    "#accuracy score\n",
    "lr.score(X_test, y_test)"
   ]
  },
  {
   "cell_type": "markdown",
   "metadata": {},
   "source": [
    "# Prepping for Export"
   ]
  },
  {
   "cell_type": "code",
   "execution_count": 26,
   "metadata": {},
   "outputs": [],
   "source": [
    "#prepping the test data\n",
    "test.drop(['Unnamed: 0', 'Date', 'Latitude', 'Longitude'], axis=1, inplace=True)"
   ]
  },
  {
   "cell_type": "code",
   "execution_count": 28,
   "metadata": {},
   "outputs": [],
   "source": [
    "#predictions for test data\n",
    "preds = lr.predict(test)"
   ]
  },
  {
   "cell_type": "code",
   "execution_count": 36,
   "metadata": {},
   "outputs": [],
   "source": [
    "#exporting to csv\n",
    "pd.DataFrame({'WnvPresent':preds}, index=test.index).to_csv('./preds1.csv')"
   ]
  }
 ],
 "metadata": {
  "kernelspec": {
   "display_name": "Python 3",
   "language": "python",
   "name": "python3"
  },
  "language_info": {
   "codemirror_mode": {
    "name": "ipython",
    "version": 3
   },
   "file_extension": ".py",
   "mimetype": "text/x-python",
   "name": "python",
   "nbconvert_exporter": "python",
   "pygments_lexer": "ipython3",
   "version": "3.6.5"
  }
 },
 "nbformat": 4,
 "nbformat_minor": 2
}
