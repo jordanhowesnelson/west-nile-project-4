{
 "cells": [
  {
   "cell_type": "markdown",
   "metadata": {},
   "source": [
    "# Import Libraries"
   ]
  },
  {
   "cell_type": "code",
   "execution_count": 60,
   "metadata": {},
   "outputs": [],
   "source": [
    "import pandas as pd\n",
    "pd.set_option(\"display.max_columns\",500)\n",
    "pd.set_option(\"display.max_rows\",500)\n",
    "\n",
    "import matplotlib.pyplot as plt\n",
    "\n",
    "from sklearn.model_selection import train_test_split, cross_val_score\n",
    "from sklearn.metrics import accuracy_score, roc_auc_score\n",
    "from sklearn.linear_model import LogisticRegression\n",
    "from sklearn.neighbors import KNeighborsClassifier\n",
    "from sklearn.naive_bayes import MultinomialNB\n",
    "from sklearn.tree import DecisionTreeClassifier, ExtraTreeClassifier\n",
    "from sklearn.ensemble import BaggingClassifier, RandomForestClassifier, VotingClassifier, GradientBoostingClassifier, AdaBoostClassifier\n",
    "from sklearn import svm"
   ]
  },
  {
   "cell_type": "markdown",
   "metadata": {},
   "source": [
    "# Import Train/Test Data"
   ]
  },
  {
   "cell_type": "code",
   "execution_count": 47,
   "metadata": {},
   "outputs": [],
   "source": [
    "#import data\n",
    "train = pd.read_csv('./west-nile-project-4/data/weather-data/02_weather_spray_train.csv', index_col=0)\n",
    "test = pd.read_csv('./west-nile-project-4/data/weather-data/02_weather_spray_test.csv', index_col='Id')"
   ]
  },
  {
   "cell_type": "code",
   "execution_count": 48,
   "metadata": {},
   "outputs": [
    {
     "data": {
      "text/plain": [
       "0    9955\n",
       "1    9951\n",
       "Name: WnvPresent, dtype: int64"
      ]
     },
     "execution_count": 48,
     "metadata": {},
     "output_type": "execute_result"
    }
   ],
   "source": [
    "train.WnvPresent.value_counts()"
   ]
  },
  {
   "cell_type": "markdown",
   "metadata": {},
   "source": [
    "# Set X and y variables"
   ]
  },
  {
   "cell_type": "code",
   "execution_count": 64,
   "metadata": {},
   "outputs": [],
   "source": [
    "#id X and y\n",
    "X = train.drop(['NumMosquitos', 'WnvPresent', 'Latitude', 'Longitude', 'Sprays_In_Last_Month'], axis=1)\n",
    "y = train.WnvPresent"
   ]
  },
  {
   "cell_type": "markdown",
   "metadata": {},
   "source": [
    "# Train Test Split"
   ]
  },
  {
   "cell_type": "code",
   "execution_count": 65,
   "metadata": {},
   "outputs": [],
   "source": [
    "#train split\n",
    "X_train, X_test, y_train, y_test = train_test_split(X, y)"
   ]
  },
  {
   "cell_type": "markdown",
   "metadata": {},
   "source": [
    "# Cross Val Score Potential Classification Models"
   ]
  },
  {
   "cell_type": "code",
   "execution_count": 66,
   "metadata": {},
   "outputs": [
    {
     "name": "stdout",
     "output_type": "stream",
     "text": [
      "lr 0.7384941989432798\n",
      "knn 0.8717254748728572\n",
      "dt 0.9283933295840935\n",
      "et 0.9322782689820409\n",
      "bag 0.9304025451751423\n",
      "rf 0.9409198426665509\n",
      "gb 0.8032005584146032\n",
      "ad 0.7670299390597082\n",
      "svm 0.7757370066459819\n"
     ]
    }
   ],
   "source": [
    "#cross val score all potential classification models\n",
    "lr = LogisticRegression() \n",
    "knn = KNeighborsClassifier() \n",
    "#nb = MultinomialNB() won't take neg vals\n",
    "dt = DecisionTreeClassifier() \n",
    "et = ExtraTreeClassifier()\n",
    "bag = BaggingClassifier()\n",
    "rf = RandomForestClassifier()\n",
    "gb = GradientBoostingClassifier()\n",
    "ad = AdaBoostClassifier()\n",
    "#svm1 = svm.SVC() #too slow, not strong performer\n",
    "\n",
    "\n",
    "print('lr', cross_val_score(lr, X_train, y_train).mean())\n",
    "print('knn', cross_val_score(knn, X_train, y_train).mean())\n",
    "#print('nb', cross_val_score(nb, X_train, y_train).mean()) \n",
    "print('dt', cross_val_score(dt, X_train, y_train).mean()) \n",
    "print('et', cross_val_score(et, X_train, y_train).mean()) \n",
    "print('bag', cross_val_score(bag, X_train, y_train).mean())\n",
    "print('rf', cross_val_score(rf, X_train, y_train).mean()) \n",
    "print('gb', cross_val_score(gb, X_train, y_train).mean()) \n",
    "print('ad', cross_val_score(ad, X_train, y_train).mean()) \n",
    "#print('svm', cross_val_score(svm1, X_train, y_train).mean()) #too slow, not strong performer"
   ]
  },
  {
   "cell_type": "markdown",
   "metadata": {},
   "source": [
    "# Making an Interpretable Equation"
   ]
  },
  {
   "cell_type": "code",
   "execution_count": 67,
   "metadata": {
    "scrolled": true
   },
   "outputs": [
    {
     "data": {
      "text/plain": [
       "FG_dummy                          4.930031\n",
       "SeaLevel                          2.869533\n",
       "Trap_T003                         2.470125\n",
       "Species_CULEX PIPIENS             2.018140\n",
       "Trap_T215                         1.907735\n",
       "Trap_T225                         1.843590\n",
       "Trap_T228                         1.841689\n",
       "Species_CULEX PIPIENS/RESTUANS    1.603058\n",
       "Trap_T230                         1.586091\n",
       "Trap_T013                         1.563639\n",
       "Trap_T002                         1.472549\n",
       "zipcode_60631                     1.319873\n",
       "Trap_T096                         1.286431\n",
       "Trap_T014                         1.243646\n",
       "Trap_T107                         1.184685\n",
       "Trap_T231                         1.163873\n",
       "Trap_T226                         1.130865\n",
       "Trap_T223                         1.116895\n",
       "Trap_T086                         1.084546\n",
       "Trap_T047                         1.075692\n",
       "Trap_T147                         1.065068\n",
       "Trap_T070                         1.055791\n",
       "TS_dummy                          1.051935\n",
       "Trap_T027                         1.049849\n",
       "Trap_T035                         1.020789\n",
       "zipcode_60018                     1.004818\n",
       "Trap_T008                         0.997144\n",
       "Trap_T155                         0.950044\n",
       "zipcode_60656                     0.940893\n",
       "Cool                              0.919355\n",
       "Trap_T005                         0.882613\n",
       "Trap_T081                         0.878449\n",
       "Trap_T218                         0.877580\n",
       "Trap_T103                         0.874732\n",
       "Trap_T128                         0.844452\n",
       "Trap_T114                         0.836525\n",
       "Trap_T067                         0.818159\n",
       "zipcode_60655                     0.790704\n",
       "Trap_T015                         0.777395\n",
       "Trap_T061                         0.774032\n",
       "Trap_T143                         0.758320\n",
       "Trap_T011                         0.745148\n",
       "Trap_T028                         0.728594\n",
       "zipcode_60659                     0.728594\n",
       "Trap_T900                         0.717459\n",
       "zipcode_60666                     0.717459\n",
       "Trap_T082                         0.710384\n",
       "zipcode_60621                     0.695306\n",
       "Trap_T235                         0.695306\n",
       "Trap_T083                         0.681677\n",
       "Trap_T065                         0.674045\n",
       "Trap_T030                         0.636645\n",
       "Trap_T091                         0.611388\n",
       "Trap_T095                         0.598166\n",
       "zipcode_60614                     0.562931\n",
       "Trap_T115                         0.560145\n",
       "zipcode_60639                     0.556580\n",
       "Trap_T048                         0.550476\n",
       "zipcode_60629                     0.541568\n",
       "Trap_T160                         0.520193\n",
       "Trap_T903                         0.514601\n",
       "zipcode_60106                     0.514601\n",
       "Trap_T227                         0.507530\n",
       "Trap_T045                         0.496919\n",
       "Trap_T089                         0.493535\n",
       "zipcode_60622                     0.479608\n",
       "Trap_T073                         0.464715\n",
       "Trap_T097                         0.448415\n",
       "zipcode_60827                     0.448415\n",
       "zipcode_60634                     0.443143\n",
       "Trap_T221                         0.433763\n",
       "zipcode_60633                     0.433763\n",
       "Species_CULEX RESTUANS            0.432652\n",
       "Trap_T212                         0.427285\n",
       "Trap_T151                         0.425781\n",
       "zipcode_60609                     0.409588\n",
       "Trap_T094                         0.404246\n",
       "Trap_T006                         0.396465\n",
       "Trap_T135                         0.378350\n",
       "zipcode_60803                     0.378350\n",
       "zipcode_60646                     0.355782\n",
       "Trap_T220                         0.348492\n",
       "zipcode_60625                     0.348492\n",
       "Trap_T156                         0.327741\n",
       "zipcode_60632                     0.310475\n",
       "Trap_T090                         0.284572\n",
       "zipcode_60607                     0.284572\n",
       "zipcode_60651                     0.260484\n",
       "zipcode_60707                     0.260059\n",
       "WetBulb                           0.258407\n",
       "zipcode_60620                     0.252968\n",
       "Trap_T159                         0.252968\n",
       "Trap_T039                         0.249479\n",
       "Trap_T066                         0.213827\n",
       "zipcode_60628                     0.211309\n",
       "Trap_T084                         0.211309\n",
       "zipcode_60619                     0.203375\n",
       "Trap_T158                         0.192539\n",
       "Trap_T138                         0.190659\n",
       "zipcode_60652                     0.186438\n",
       "Trap_T233                         0.181750\n",
       "zipcode_60638                     0.173770\n",
       "zipcode_60643                     0.168577\n",
       "Trap_T036                         0.143130\n",
       "Trap_T162                         0.126860\n",
       "Trap_T077                         0.116970\n",
       "AvgSpeed                          0.116322\n",
       "Trap_T054                         0.114070\n",
       "Trap_T142                         0.111953\n",
       "Trap_T080                         0.076515\n",
       "Trap_T236                         0.064283\n",
       "Trap_T232                         0.056155\n",
       "Trap_T009                         0.051421\n",
       "Trap_T063                         0.044904\n",
       "ResultDir                         0.014814\n",
       "Trap_T031                         0.004465\n",
       "FZ_dummy                          0.000000\n",
       "SA_dummy                          0.000000\n",
       "VA_dummy                          0.000000\n",
       "BC_dummy                          0.000000\n",
       "DU_dummy                          0.000000\n",
       "DS_dummy                          0.000000\n",
       "Trap_T002A                        0.000000\n",
       "PO_dummy                          0.000000\n",
       "PR_dummy                          0.000000\n",
       "SS_dummy                          0.000000\n",
       "Trap_T237                         0.000000\n",
       "PY_dummy                          0.000000\n",
       "MI_dummy                          0.000000\n",
       "UP_dummy                          0.000000\n",
       "SQ_dummy                          0.000000\n",
       "DR_dummy                          0.000000\n",
       "Species_UNSPECIFIED CULEX         0.000000\n",
       "SH_dummy                          0.000000\n",
       "FU_dummy                          0.000000\n",
       "Trap_T200A                        0.000000\n",
       "Trap_T002B                        0.000000\n",
       "SnowFall                          0.000000\n",
       "Trap_T218A                        0.000000\n",
       "Trap_T128A                        0.000000\n",
       "Trap_T218B                        0.000000\n",
       "Trap_T218C                        0.000000\n",
       "Trap_T234                         0.000000\n",
       "Trap_T090C                        0.000000\n",
       "Trap_T090B                        0.000000\n",
       "Trap_T090A                        0.000000\n",
       "Depth                             0.000000\n",
       "Trap_T065A                        0.000000\n",
       "Trap_T200B                        0.000000\n",
       "+FC_dummy                         0.000000\n",
       "FC_dummy                          0.000000\n",
       "GR_dummy                          0.000000\n",
       "SN_dummy                          0.000000\n",
       "SG_dummy                          0.000000\n",
       "BL_dummy                          0.000000\n",
       "GS_dummy                          0.000000\n",
       "PL_dummy                          0.000000\n",
       "IC_dummy                          0.000000\n",
       "FG+_dummy                         0.000000\n",
       "Block                            -0.002962\n",
       "Trap_T016                        -0.016662\n",
       "DewPoint                         -0.019637\n",
       "Trap_T054C                       -0.048057\n",
       "zipcode_60613                    -0.062798\n",
       "Trap_T224                        -0.062798\n",
       "BR_dummy                         -0.066102\n",
       "Trap_T154                        -0.070651\n",
       "Trap_T040                        -0.082224\n",
       "AddressAccuracy                  -0.089006\n",
       "Trap_T033                        -0.096741\n",
       "Species_CULEX TARSALIS           -0.108477\n",
       "zipcode_60660                    -0.118052\n",
       "zipcode_60637                    -0.119479\n",
       "ResultSpeed                      -0.145330\n",
       "Trap_T037                        -0.165722\n",
       "zipcode_Unk                      -0.167970\n",
       "zipcode_60641                    -0.173730\n",
       "zipcode_60618                    -0.181939\n",
       "zipcode_60623                    -0.182860\n",
       "Trap_T012                        -0.190114\n",
       "Trap_T085                        -0.262109\n",
       "Species_CULEX ERRATICUS          -0.263419\n",
       "Trap_T144                        -0.266200\n",
       "Trap_T209                        -0.282679\n",
       "Trap_T152                        -0.288671\n",
       "Tmin                             -0.313376\n",
       "zipcode_60642                    -0.346469\n",
       "Trap_T049                        -0.346469\n",
       "Trap_T069                        -0.354510\n",
       "Tavg                             -0.356991\n",
       "Trap_T079                        -0.378314\n",
       "zipcode_60649                    -0.378314\n",
       "Tmax                             -0.400607\n",
       "zipcode_60617                    -0.417002\n",
       "Trap_T062                        -0.526049\n",
       "zipcode_60608                    -0.529108\n",
       "Trap_T150                        -0.538974\n",
       "Trap_T238                        -0.554124\n",
       "Trap_T078                        -0.637940\n",
       "zipcode_60630                    -0.681491\n",
       "Trap_T094B                       -0.686867\n",
       "Trap_T076                        -0.701165\n",
       "Trap_T074                        -0.702585\n",
       "Trap_T044                        -0.758464\n",
       "Trap_T102                        -0.785352\n",
       "Trap_T229                        -0.794268\n",
       "Trap_T004                        -0.832226\n",
       "Trap_T050                        -0.859705\n",
       "zipcode_60647                    -0.859705\n",
       "zipcode_60612                    -0.869224\n",
       "RA_dummy                         -0.897078\n",
       "zipcode_60611                    -0.951685\n",
       "Trap_T129                        -0.951685\n",
       "zipcode_60636                    -0.992450\n",
       "Heat                             -0.999629\n",
       "zipcode_60640                    -1.004323\n",
       "Trap_T219                        -1.004323\n",
       "zipcode_60615                    -1.033283\n",
       "Trap_T075                        -1.033283\n",
       "Trap_T051                        -1.034289\n",
       "Trap_T001                        -1.051310\n",
       "StnPressure                      -1.057325\n",
       "Trap_T072                        -1.103029\n",
       "Trap_T141                        -1.123268\n",
       "Trap_T018                        -1.127467\n",
       "DZ_dummy                         -1.129585\n",
       "zipcode_60605                    -1.165444\n",
       "Trap_T092                        -1.165444\n",
       "Trap_T222                        -1.185886\n",
       "Trap_T088                        -1.186453\n",
       "Trap_T025                        -1.196123\n",
       "PrecipTotal                      -1.198480\n",
       "Trap_T145                        -1.203361\n",
       "Trap_T200                        -1.225186\n",
       "Trap_T060                        -1.250693\n",
       "zipcode_60645                    -1.260222\n",
       "Trap_T148                        -1.260222\n",
       "Trap_T034                        -1.275831\n",
       "Trap_T149                        -1.281925\n",
       "HZ_dummy                         -1.313753\n",
       "Trap_T100                        -1.314414\n",
       "Trap_T157                        -1.470868\n",
       "Trap_T146                        -1.531580\n",
       "VC_dummy                         -1.550257\n",
       "zipcode_60654                    -1.556425\n",
       "Trap_T046                        -1.556425\n",
       "Trap_T019                        -1.557115\n",
       "Trap_T007                        -1.565379\n",
       "Trap_T161                        -1.657670\n",
       "Trap_T206                        -1.660270\n",
       "zipcode_60626                    -1.666442\n",
       "Trap_T071                        -1.784073\n",
       "Species_CULEX SALINARIUS         -1.822776\n",
       "Trap_T099                        -1.895519\n",
       "Trap_T043                        -1.946301\n",
       "Trap_T153                        -1.962252\n",
       "Trap_T017                        -2.502921\n",
       "Species_CULEX TERRITANS          -2.595095\n",
       "Name: coef, dtype: float64"
      ]
     },
     "execution_count": 67,
     "metadata": {},
     "output_type": "execute_result"
    }
   ],
   "source": [
    "#printing the model coefs\n",
    "lr.fit(X_train, y_train)\n",
    "lr_coefs = pd.DataFrame(lr.coef_, columns=X.columns, index=['coef']).T\n",
    "lr_coefs.coef.sort_values(ascending=False)\n",
    "#higher coefs are more likely to indicate WNV"
   ]
  },
  {
   "cell_type": "markdown",
   "metadata": {},
   "source": [
    "# ROC AUC Score"
   ]
  },
  {
   "cell_type": "code",
   "execution_count": 68,
   "metadata": {},
   "outputs": [
    {
     "data": {
      "text/plain": [
       "0.8133292112303783"
      ]
     },
     "execution_count": 68,
     "metadata": {},
     "output_type": "execute_result"
    }
   ],
   "source": [
    "#roc auc score\n",
    "lr_proba = lr.predict_proba(X_test)\n",
    "roc_auc_score(y_test, lr_proba[:, 1])"
   ]
  },
  {
   "cell_type": "markdown",
   "metadata": {},
   "source": [
    "# Random Forest Model"
   ]
  },
  {
   "cell_type": "code",
   "execution_count": 69,
   "metadata": {},
   "outputs": [
    {
     "data": {
      "text/plain": [
       "0.9574040586698814"
      ]
     },
     "execution_count": 69,
     "metadata": {},
     "output_type": "execute_result"
    }
   ],
   "source": [
    "rf.fit(X_train, y_train)\n",
    "rf.score(X_test, y_test)"
   ]
  },
  {
   "cell_type": "code",
   "execution_count": 70,
   "metadata": {},
   "outputs": [
    {
     "data": {
      "text/plain": [
       "0.9889877195996791"
      ]
     },
     "execution_count": 70,
     "metadata": {},
     "output_type": "execute_result"
    }
   ],
   "source": [
    "rf_proba = rf.predict_proba(X_test)\n",
    "roc_auc_score(y_test, rf_proba[:, 1])"
   ]
  },
  {
   "cell_type": "markdown",
   "metadata": {},
   "source": [
    "# Prepping for Export"
   ]
  },
  {
   "cell_type": "code",
   "execution_count": 71,
   "metadata": {},
   "outputs": [
    {
     "data": {
      "text/plain": [
       "array([0, 0, 0, ..., 0, 0, 0])"
      ]
     },
     "execution_count": 71,
     "metadata": {},
     "output_type": "execute_result"
    }
   ],
   "source": [
    "rf_preds = rf.predict(test.drop(['Date', 'Latitude', 'Longitude', 'Sprays_In_Last_Month'], axis=1))\n",
    "rf_preds"
   ]
  },
  {
   "cell_type": "code",
   "execution_count": 72,
   "metadata": {},
   "outputs": [],
   "source": [
    "#exporting to csv\n",
    "pd.DataFrame({'WnvPresent':rf_preds}, index=test.index).to_csv('./preds3.csv')"
   ]
  }
 ],
 "metadata": {
  "kernelspec": {
   "display_name": "Python 3",
   "language": "python",
   "name": "python3"
  },
  "language_info": {
   "codemirror_mode": {
    "name": "ipython",
    "version": 3
   },
   "file_extension": ".py",
   "mimetype": "text/x-python",
   "name": "python",
   "nbconvert_exporter": "python",
   "pygments_lexer": "ipython3",
   "version": "3.6.5"
  }
 },
 "nbformat": 4,
 "nbformat_minor": 2
}
