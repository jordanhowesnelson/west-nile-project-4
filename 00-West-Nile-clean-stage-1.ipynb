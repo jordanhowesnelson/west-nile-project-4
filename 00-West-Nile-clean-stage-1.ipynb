{
 "cells": [
  {
   "cell_type": "markdown",
   "metadata": {},
   "source": [
    "# West Nile Project"
   ]
  },
  {
   "cell_type": "markdown",
   "metadata": {},
   "source": [
    "\"Given weather, location, testing, and spraying data, this competition asks you to predict **when and where different species of mosquitos will test positive for West Nile virus**. A more accurate method of predicting outbreaks of West Nile virus in mosquitos will help the City of Chicago and CPHD more efficiently and effectively allocate resources towards preventing transmission of this potentially deadly virus.\" kaggle"
   ]
  },
  {
   "cell_type": "markdown",
   "metadata": {},
   "source": [
    "## Import Libraries\n"
   ]
  },
  {
   "cell_type": "code",
   "execution_count": 64,
   "metadata": {},
   "outputs": [],
   "source": [
    "#imports\n",
    "import pandas as pd\n",
    "import numpy as np\n",
    "import matplotlib.pyplot as plt\n",
    "import scipy.stats as stats\n",
    "\n",
    "#additional libraries\n",
    "import datetime as dt"
   ]
  },
  {
   "cell_type": "markdown",
   "metadata": {},
   "source": [
    "## Import the Data"
   ]
  },
  {
   "cell_type": "code",
   "execution_count": 65,
   "metadata": {},
   "outputs": [],
   "source": [
    "#long & lat for places in chi\n",
    "spray = pd.read_csv('./data/spray.csv')"
   ]
  },
  {
   "cell_type": "code",
   "execution_count": 66,
   "metadata": {},
   "outputs": [],
   "source": [
    "#weather data\n",
    "weather = pd.read_csv('./data/weather.csv')"
   ]
  },
  {
   "cell_type": "code",
   "execution_count": 67,
   "metadata": {},
   "outputs": [],
   "source": [
    "#train & test sets\n",
    "test = pd.read_csv('./data/test.csv')\n",
    "train = pd.read_csv('./data/train.csv')"
   ]
  },
  {
   "cell_type": "markdown",
   "metadata": {},
   "source": [
    "## Cleaning Test & Train"
   ]
  },
  {
   "cell_type": "markdown",
   "metadata": {},
   "source": [
    "#### Spray"
   ]
  },
  {
   "cell_type": "code",
   "execution_count": 68,
   "metadata": {},
   "outputs": [
    {
     "name": "stdout",
     "output_type": "stream",
     "text": [
      "<class 'pandas.core.frame.DataFrame'>\n",
      "RangeIndex: 14835 entries, 0 to 14834\n",
      "Data columns (total 4 columns):\n",
      "Date         14835 non-null object\n",
      "Time         14251 non-null object\n",
      "Latitude     14835 non-null float64\n",
      "Longitude    14835 non-null float64\n",
      "dtypes: float64(2), object(2)\n",
      "memory usage: 463.7+ KB\n"
     ]
    }
   ],
   "source": [
    "spray.info()"
   ]
  },
  {
   "cell_type": "code",
   "execution_count": 69,
   "metadata": {},
   "outputs": [
    {
     "data": {
      "text/html": [
       "<div>\n",
       "<style scoped>\n",
       "    .dataframe tbody tr th:only-of-type {\n",
       "        vertical-align: middle;\n",
       "    }\n",
       "\n",
       "    .dataframe tbody tr th {\n",
       "        vertical-align: top;\n",
       "    }\n",
       "\n",
       "    .dataframe thead th {\n",
       "        text-align: right;\n",
       "    }\n",
       "</style>\n",
       "<table border=\"1\" class=\"dataframe\">\n",
       "  <thead>\n",
       "    <tr style=\"text-align: right;\">\n",
       "      <th></th>\n",
       "      <th>Date</th>\n",
       "      <th>Time</th>\n",
       "      <th>Latitude</th>\n",
       "      <th>Longitude</th>\n",
       "    </tr>\n",
       "  </thead>\n",
       "  <tbody>\n",
       "    <tr>\n",
       "      <th>0</th>\n",
       "      <td>2011-08-29</td>\n",
       "      <td>6:56:58 PM</td>\n",
       "      <td>42.391623</td>\n",
       "      <td>-88.089163</td>\n",
       "    </tr>\n",
       "    <tr>\n",
       "      <th>1</th>\n",
       "      <td>2011-08-29</td>\n",
       "      <td>6:57:08 PM</td>\n",
       "      <td>42.391348</td>\n",
       "      <td>-88.089163</td>\n",
       "    </tr>\n",
       "    <tr>\n",
       "      <th>2</th>\n",
       "      <td>2011-08-29</td>\n",
       "      <td>6:57:18 PM</td>\n",
       "      <td>42.391022</td>\n",
       "      <td>-88.089157</td>\n",
       "    </tr>\n",
       "    <tr>\n",
       "      <th>3</th>\n",
       "      <td>2011-08-29</td>\n",
       "      <td>6:57:28 PM</td>\n",
       "      <td>42.390637</td>\n",
       "      <td>-88.089158</td>\n",
       "    </tr>\n",
       "    <tr>\n",
       "      <th>4</th>\n",
       "      <td>2011-08-29</td>\n",
       "      <td>6:57:38 PM</td>\n",
       "      <td>42.390410</td>\n",
       "      <td>-88.088858</td>\n",
       "    </tr>\n",
       "  </tbody>\n",
       "</table>\n",
       "</div>"
      ],
      "text/plain": [
       "         Date        Time   Latitude  Longitude\n",
       "0  2011-08-29  6:56:58 PM  42.391623 -88.089163\n",
       "1  2011-08-29  6:57:08 PM  42.391348 -88.089163\n",
       "2  2011-08-29  6:57:18 PM  42.391022 -88.089157\n",
       "3  2011-08-29  6:57:28 PM  42.390637 -88.089158\n",
       "4  2011-08-29  6:57:38 PM  42.390410 -88.088858"
      ]
     },
     "execution_count": 69,
     "metadata": {},
     "output_type": "execute_result"
    }
   ],
   "source": [
    "spray.head()"
   ]
  },
  {
   "cell_type": "code",
   "execution_count": 70,
   "metadata": {},
   "outputs": [],
   "source": [
    "spray.Date = pd.to_datetime(spray.Date)"
   ]
  },
  {
   "cell_type": "code",
   "execution_count": 71,
   "metadata": {},
   "outputs": [],
   "source": [
    "#since only time has NaNs, taking a shortcut to fill all NaNs with 12PM\n",
    "#Note that we can't use time to measure effectiveness of spray now, if that ever comes up\n",
    "\n",
    "\n",
    "spray.fillna('12:00:00 PM', inplace=True)"
   ]
  },
  {
   "cell_type": "code",
   "execution_count": 72,
   "metadata": {},
   "outputs": [],
   "source": [
    "#did not use this cell as it was adding the current date to the time\n",
    "#spray.Time = pd.to_datetime(spray.Time)\n"
   ]
  },
  {
   "cell_type": "code",
   "execution_count": 73,
   "metadata": {},
   "outputs": [
    {
     "name": "stdout",
     "output_type": "stream",
     "text": [
      "<class 'pandas.core.frame.DataFrame'>\n",
      "RangeIndex: 14835 entries, 0 to 14834\n",
      "Data columns (total 4 columns):\n",
      "Date         14835 non-null datetime64[ns]\n",
      "Time         14835 non-null object\n",
      "Latitude     14835 non-null float64\n",
      "Longitude    14835 non-null float64\n",
      "dtypes: datetime64[ns](1), float64(2), object(1)\n",
      "memory usage: 463.7+ KB\n"
     ]
    }
   ],
   "source": [
    "spray.info()"
   ]
  },
  {
   "cell_type": "code",
   "execution_count": 74,
   "metadata": {},
   "outputs": [
    {
     "data": {
      "text/plain": [
       "2013-08-15    2668\n",
       "2013-08-29    2302\n",
       "2013-07-17    2202\n",
       "2011-09-07    2114\n",
       "2013-07-25    1607\n",
       "2013-08-22    1587\n",
       "2013-08-08    1195\n",
       "2013-09-05     924\n",
       "2013-08-16     141\n",
       "2011-08-29      95\n",
       "Name: Date, dtype: int64"
      ]
     },
     "execution_count": 74,
     "metadata": {},
     "output_type": "execute_result"
    }
   ],
   "source": [
    "#10 sprays total\n",
    "spray.Date.value_counts()"
   ]
  },
  {
   "cell_type": "code",
   "execution_count": 75,
   "metadata": {},
   "outputs": [],
   "source": [
    "spray.set_index('Date', inplace=True)"
   ]
  },
  {
   "cell_type": "code",
   "execution_count": 76,
   "metadata": {},
   "outputs": [],
   "source": [
    "spray_centers = spray.groupby('Date').mean()"
   ]
  },
  {
   "cell_type": "code",
   "execution_count": 77,
   "metadata": {},
   "outputs": [
    {
     "data": {
      "text/html": [
       "<div>\n",
       "<style scoped>\n",
       "    .dataframe tbody tr th:only-of-type {\n",
       "        vertical-align: middle;\n",
       "    }\n",
       "\n",
       "    .dataframe tbody tr th {\n",
       "        vertical-align: top;\n",
       "    }\n",
       "\n",
       "    .dataframe thead th {\n",
       "        text-align: right;\n",
       "    }\n",
       "</style>\n",
       "<table border=\"1\" class=\"dataframe\">\n",
       "  <thead>\n",
       "    <tr style=\"text-align: right;\">\n",
       "      <th></th>\n",
       "      <th>Latitude</th>\n",
       "      <th>Longitude</th>\n",
       "    </tr>\n",
       "    <tr>\n",
       "      <th>Date</th>\n",
       "      <th></th>\n",
       "      <th></th>\n",
       "    </tr>\n",
       "  </thead>\n",
       "  <tbody>\n",
       "    <tr>\n",
       "      <th>2011-08-29</th>\n",
       "      <td>42.392331</td>\n",
       "      <td>-88.093370</td>\n",
       "    </tr>\n",
       "    <tr>\n",
       "      <th>2011-09-07</th>\n",
       "      <td>41.983344</td>\n",
       "      <td>-87.805927</td>\n",
       "    </tr>\n",
       "    <tr>\n",
       "      <th>2013-07-17</th>\n",
       "      <td>41.798570</td>\n",
       "      <td>-87.681137</td>\n",
       "    </tr>\n",
       "    <tr>\n",
       "      <th>2013-07-25</th>\n",
       "      <td>41.954535</td>\n",
       "      <td>-87.722879</td>\n",
       "    </tr>\n",
       "    <tr>\n",
       "      <th>2013-08-08</th>\n",
       "      <td>41.931466</td>\n",
       "      <td>-87.697035</td>\n",
       "    </tr>\n",
       "    <tr>\n",
       "      <th>2013-08-15</th>\n",
       "      <td>41.926007</td>\n",
       "      <td>-87.783171</td>\n",
       "    </tr>\n",
       "    <tr>\n",
       "      <th>2013-08-16</th>\n",
       "      <td>41.957809</td>\n",
       "      <td>-87.780646</td>\n",
       "    </tr>\n",
       "    <tr>\n",
       "      <th>2013-08-22</th>\n",
       "      <td>41.814052</td>\n",
       "      <td>-87.666029</td>\n",
       "    </tr>\n",
       "    <tr>\n",
       "      <th>2013-08-29</th>\n",
       "      <td>41.860128</td>\n",
       "      <td>-87.703237</td>\n",
       "    </tr>\n",
       "    <tr>\n",
       "      <th>2013-09-05</th>\n",
       "      <td>42.005436</td>\n",
       "      <td>-87.813085</td>\n",
       "    </tr>\n",
       "  </tbody>\n",
       "</table>\n",
       "</div>"
      ],
      "text/plain": [
       "             Latitude  Longitude\n",
       "Date                            \n",
       "2011-08-29  42.392331 -88.093370\n",
       "2011-09-07  41.983344 -87.805927\n",
       "2013-07-17  41.798570 -87.681137\n",
       "2013-07-25  41.954535 -87.722879\n",
       "2013-08-08  41.931466 -87.697035\n",
       "2013-08-15  41.926007 -87.783171\n",
       "2013-08-16  41.957809 -87.780646\n",
       "2013-08-22  41.814052 -87.666029\n",
       "2013-08-29  41.860128 -87.703237\n",
       "2013-09-05  42.005436 -87.813085"
      ]
     },
     "execution_count": 77,
     "metadata": {},
     "output_type": "execute_result"
    }
   ],
   "source": [
    "#Because this is showing the mean lat/long, I think it's safe to call this the center spray point.  \n",
    "#It may be useful to get the boundaries of the spray too though\n",
    "\n",
    "spray_centers"
   ]
  },
  {
   "cell_type": "code",
   "execution_count": 78,
   "metadata": {},
   "outputs": [],
   "source": [
    "#These could come in handy if we wanted to map the area covered by each spray later \n",
    "#(like the states were mapped in class, or on tableau)\n",
    "\n",
    "min_latitude = []\n",
    "max_latitude = []\n",
    "min_longitude = []\n",
    "max_longitude = []\n",
    "\n",
    "for index in spray_centers.index:\n",
    "    min_latitude.append(spray[(spray.index == index)].Latitude.min())\n",
    "    max_latitude.append(spray[(spray.index == index)].Latitude.max())\n",
    "    min_longitude.append(spray[(spray.index == index)].Longitude.min())\n",
    "    max_longitude.append(spray[(spray.index == index)].Longitude.max())\n",
    "    "
   ]
  },
  {
   "cell_type": "code",
   "execution_count": 79,
   "metadata": {},
   "outputs": [],
   "source": [
    "spray_centers['min_latitude'] = min_latitude\n",
    "spray_centers['max_latitude'] = max_latitude\n",
    "spray_centers['min_longitude'] = min_longitude\n",
    "spray_centers['max_longitude'] = max_longitude"
   ]
  },
  {
   "cell_type": "code",
   "execution_count": 80,
   "metadata": {},
   "outputs": [
    {
     "data": {
      "text/html": [
       "<div>\n",
       "<style scoped>\n",
       "    .dataframe tbody tr th:only-of-type {\n",
       "        vertical-align: middle;\n",
       "    }\n",
       "\n",
       "    .dataframe tbody tr th {\n",
       "        vertical-align: top;\n",
       "    }\n",
       "\n",
       "    .dataframe thead th {\n",
       "        text-align: right;\n",
       "    }\n",
       "</style>\n",
       "<table border=\"1\" class=\"dataframe\">\n",
       "  <thead>\n",
       "    <tr style=\"text-align: right;\">\n",
       "      <th></th>\n",
       "      <th>Latitude</th>\n",
       "      <th>Longitude</th>\n",
       "      <th>min_latitude</th>\n",
       "      <th>max_latitude</th>\n",
       "      <th>min_longitude</th>\n",
       "      <th>max_longitude</th>\n",
       "    </tr>\n",
       "    <tr>\n",
       "      <th>Date</th>\n",
       "      <th></th>\n",
       "      <th></th>\n",
       "      <th></th>\n",
       "      <th></th>\n",
       "      <th></th>\n",
       "      <th></th>\n",
       "    </tr>\n",
       "  </thead>\n",
       "  <tbody>\n",
       "    <tr>\n",
       "      <th>2011-08-29</th>\n",
       "      <td>42.392331</td>\n",
       "      <td>-88.093370</td>\n",
       "      <td>42.389460</td>\n",
       "      <td>42.395983</td>\n",
       "      <td>-88.096468</td>\n",
       "      <td>-88.087988</td>\n",
       "    </tr>\n",
       "    <tr>\n",
       "      <th>2011-09-07</th>\n",
       "      <td>41.983344</td>\n",
       "      <td>-87.805927</td>\n",
       "      <td>41.968435</td>\n",
       "      <td>41.997028</td>\n",
       "      <td>-87.836560</td>\n",
       "      <td>-87.787710</td>\n",
       "    </tr>\n",
       "    <tr>\n",
       "      <th>2013-07-17</th>\n",
       "      <td>41.798570</td>\n",
       "      <td>-87.681137</td>\n",
       "      <td>41.714098</td>\n",
       "      <td>42.015098</td>\n",
       "      <td>-87.871023</td>\n",
       "      <td>-87.629355</td>\n",
       "    </tr>\n",
       "    <tr>\n",
       "      <th>2013-07-25</th>\n",
       "      <td>41.954535</td>\n",
       "      <td>-87.722879</td>\n",
       "      <td>41.939308</td>\n",
       "      <td>41.968097</td>\n",
       "      <td>-87.739840</td>\n",
       "      <td>-87.707987</td>\n",
       "    </tr>\n",
       "    <tr>\n",
       "      <th>2013-08-08</th>\n",
       "      <td>41.931466</td>\n",
       "      <td>-87.697035</td>\n",
       "      <td>41.917227</td>\n",
       "      <td>41.946703</td>\n",
       "      <td>-87.716847</td>\n",
       "      <td>-87.678060</td>\n",
       "    </tr>\n",
       "    <tr>\n",
       "      <th>2013-08-15</th>\n",
       "      <td>41.926007</td>\n",
       "      <td>-87.783171</td>\n",
       "      <td>41.887825</td>\n",
       "      <td>41.966532</td>\n",
       "      <td>-87.818408</td>\n",
       "      <td>-87.745625</td>\n",
       "    </tr>\n",
       "    <tr>\n",
       "      <th>2013-08-16</th>\n",
       "      <td>41.957809</td>\n",
       "      <td>-87.780646</td>\n",
       "      <td>41.911375</td>\n",
       "      <td>41.964712</td>\n",
       "      <td>-87.785792</td>\n",
       "      <td>-87.746675</td>\n",
       "    </tr>\n",
       "    <tr>\n",
       "      <th>2013-08-22</th>\n",
       "      <td>41.814052</td>\n",
       "      <td>-87.666029</td>\n",
       "      <td>41.713925</td>\n",
       "      <td>41.895475</td>\n",
       "      <td>-87.730655</td>\n",
       "      <td>-87.586727</td>\n",
       "    </tr>\n",
       "    <tr>\n",
       "      <th>2013-08-29</th>\n",
       "      <td>41.860128</td>\n",
       "      <td>-87.703237</td>\n",
       "      <td>41.758812</td>\n",
       "      <td>41.997808</td>\n",
       "      <td>-87.741315</td>\n",
       "      <td>-87.660885</td>\n",
       "    </tr>\n",
       "    <tr>\n",
       "      <th>2013-09-05</th>\n",
       "      <td>42.005436</td>\n",
       "      <td>-87.813085</td>\n",
       "      <td>41.976773</td>\n",
       "      <td>42.018907</td>\n",
       "      <td>-87.846338</td>\n",
       "      <td>-87.789812</td>\n",
       "    </tr>\n",
       "  </tbody>\n",
       "</table>\n",
       "</div>"
      ],
      "text/plain": [
       "             Latitude  Longitude  min_latitude  max_latitude  min_longitude  \\\n",
       "Date                                                                          \n",
       "2011-08-29  42.392331 -88.093370     42.389460     42.395983     -88.096468   \n",
       "2011-09-07  41.983344 -87.805927     41.968435     41.997028     -87.836560   \n",
       "2013-07-17  41.798570 -87.681137     41.714098     42.015098     -87.871023   \n",
       "2013-07-25  41.954535 -87.722879     41.939308     41.968097     -87.739840   \n",
       "2013-08-08  41.931466 -87.697035     41.917227     41.946703     -87.716847   \n",
       "2013-08-15  41.926007 -87.783171     41.887825     41.966532     -87.818408   \n",
       "2013-08-16  41.957809 -87.780646     41.911375     41.964712     -87.785792   \n",
       "2013-08-22  41.814052 -87.666029     41.713925     41.895475     -87.730655   \n",
       "2013-08-29  41.860128 -87.703237     41.758812     41.997808     -87.741315   \n",
       "2013-09-05  42.005436 -87.813085     41.976773     42.018907     -87.846338   \n",
       "\n",
       "            max_longitude  \n",
       "Date                       \n",
       "2011-08-29     -88.087988  \n",
       "2011-09-07     -87.787710  \n",
       "2013-07-17     -87.629355  \n",
       "2013-07-25     -87.707987  \n",
       "2013-08-08     -87.678060  \n",
       "2013-08-15     -87.745625  \n",
       "2013-08-16     -87.746675  \n",
       "2013-08-22     -87.586727  \n",
       "2013-08-29     -87.660885  \n",
       "2013-09-05     -87.789812  "
      ]
     },
     "execution_count": 80,
     "metadata": {},
     "output_type": "execute_result"
    }
   ],
   "source": [
    "spray_centers"
   ]
  },
  {
   "cell_type": "code",
   "execution_count": 81,
   "metadata": {},
   "outputs": [],
   "source": [
    "#Some days, spraying was concentrated in one area, other days it spread in one or both directions"
   ]
  },
  {
   "cell_type": "code",
   "execution_count": 82,
   "metadata": {},
   "outputs": [],
   "source": [
    "#This was cool, even though the value_counts are sorted, they lined up to the proper indexes.\n",
    "\n",
    "spray_centers['Total_sprays'] = spray.index.value_counts()"
   ]
  },
  {
   "cell_type": "code",
   "execution_count": 83,
   "metadata": {},
   "outputs": [
    {
     "data": {
      "text/html": [
       "<div>\n",
       "<style scoped>\n",
       "    .dataframe tbody tr th:only-of-type {\n",
       "        vertical-align: middle;\n",
       "    }\n",
       "\n",
       "    .dataframe tbody tr th {\n",
       "        vertical-align: top;\n",
       "    }\n",
       "\n",
       "    .dataframe thead th {\n",
       "        text-align: right;\n",
       "    }\n",
       "</style>\n",
       "<table border=\"1\" class=\"dataframe\">\n",
       "  <thead>\n",
       "    <tr style=\"text-align: right;\">\n",
       "      <th></th>\n",
       "      <th>Latitude</th>\n",
       "      <th>Longitude</th>\n",
       "      <th>min_latitude</th>\n",
       "      <th>max_latitude</th>\n",
       "      <th>min_longitude</th>\n",
       "      <th>max_longitude</th>\n",
       "      <th>Total_sprays</th>\n",
       "    </tr>\n",
       "    <tr>\n",
       "      <th>Date</th>\n",
       "      <th></th>\n",
       "      <th></th>\n",
       "      <th></th>\n",
       "      <th></th>\n",
       "      <th></th>\n",
       "      <th></th>\n",
       "      <th></th>\n",
       "    </tr>\n",
       "  </thead>\n",
       "  <tbody>\n",
       "    <tr>\n",
       "      <th>2011-08-29</th>\n",
       "      <td>42.392331</td>\n",
       "      <td>-88.093370</td>\n",
       "      <td>42.389460</td>\n",
       "      <td>42.395983</td>\n",
       "      <td>-88.096468</td>\n",
       "      <td>-88.087988</td>\n",
       "      <td>95</td>\n",
       "    </tr>\n",
       "    <tr>\n",
       "      <th>2011-09-07</th>\n",
       "      <td>41.983344</td>\n",
       "      <td>-87.805927</td>\n",
       "      <td>41.968435</td>\n",
       "      <td>41.997028</td>\n",
       "      <td>-87.836560</td>\n",
       "      <td>-87.787710</td>\n",
       "      <td>2114</td>\n",
       "    </tr>\n",
       "    <tr>\n",
       "      <th>2013-07-17</th>\n",
       "      <td>41.798570</td>\n",
       "      <td>-87.681137</td>\n",
       "      <td>41.714098</td>\n",
       "      <td>42.015098</td>\n",
       "      <td>-87.871023</td>\n",
       "      <td>-87.629355</td>\n",
       "      <td>2202</td>\n",
       "    </tr>\n",
       "    <tr>\n",
       "      <th>2013-07-25</th>\n",
       "      <td>41.954535</td>\n",
       "      <td>-87.722879</td>\n",
       "      <td>41.939308</td>\n",
       "      <td>41.968097</td>\n",
       "      <td>-87.739840</td>\n",
       "      <td>-87.707987</td>\n",
       "      <td>1607</td>\n",
       "    </tr>\n",
       "    <tr>\n",
       "      <th>2013-08-08</th>\n",
       "      <td>41.931466</td>\n",
       "      <td>-87.697035</td>\n",
       "      <td>41.917227</td>\n",
       "      <td>41.946703</td>\n",
       "      <td>-87.716847</td>\n",
       "      <td>-87.678060</td>\n",
       "      <td>1195</td>\n",
       "    </tr>\n",
       "    <tr>\n",
       "      <th>2013-08-15</th>\n",
       "      <td>41.926007</td>\n",
       "      <td>-87.783171</td>\n",
       "      <td>41.887825</td>\n",
       "      <td>41.966532</td>\n",
       "      <td>-87.818408</td>\n",
       "      <td>-87.745625</td>\n",
       "      <td>2668</td>\n",
       "    </tr>\n",
       "    <tr>\n",
       "      <th>2013-08-16</th>\n",
       "      <td>41.957809</td>\n",
       "      <td>-87.780646</td>\n",
       "      <td>41.911375</td>\n",
       "      <td>41.964712</td>\n",
       "      <td>-87.785792</td>\n",
       "      <td>-87.746675</td>\n",
       "      <td>141</td>\n",
       "    </tr>\n",
       "    <tr>\n",
       "      <th>2013-08-22</th>\n",
       "      <td>41.814052</td>\n",
       "      <td>-87.666029</td>\n",
       "      <td>41.713925</td>\n",
       "      <td>41.895475</td>\n",
       "      <td>-87.730655</td>\n",
       "      <td>-87.586727</td>\n",
       "      <td>1587</td>\n",
       "    </tr>\n",
       "    <tr>\n",
       "      <th>2013-08-29</th>\n",
       "      <td>41.860128</td>\n",
       "      <td>-87.703237</td>\n",
       "      <td>41.758812</td>\n",
       "      <td>41.997808</td>\n",
       "      <td>-87.741315</td>\n",
       "      <td>-87.660885</td>\n",
       "      <td>2302</td>\n",
       "    </tr>\n",
       "    <tr>\n",
       "      <th>2013-09-05</th>\n",
       "      <td>42.005436</td>\n",
       "      <td>-87.813085</td>\n",
       "      <td>41.976773</td>\n",
       "      <td>42.018907</td>\n",
       "      <td>-87.846338</td>\n",
       "      <td>-87.789812</td>\n",
       "      <td>924</td>\n",
       "    </tr>\n",
       "  </tbody>\n",
       "</table>\n",
       "</div>"
      ],
      "text/plain": [
       "             Latitude  Longitude  min_latitude  max_latitude  min_longitude  \\\n",
       "Date                                                                          \n",
       "2011-08-29  42.392331 -88.093370     42.389460     42.395983     -88.096468   \n",
       "2011-09-07  41.983344 -87.805927     41.968435     41.997028     -87.836560   \n",
       "2013-07-17  41.798570 -87.681137     41.714098     42.015098     -87.871023   \n",
       "2013-07-25  41.954535 -87.722879     41.939308     41.968097     -87.739840   \n",
       "2013-08-08  41.931466 -87.697035     41.917227     41.946703     -87.716847   \n",
       "2013-08-15  41.926007 -87.783171     41.887825     41.966532     -87.818408   \n",
       "2013-08-16  41.957809 -87.780646     41.911375     41.964712     -87.785792   \n",
       "2013-08-22  41.814052 -87.666029     41.713925     41.895475     -87.730655   \n",
       "2013-08-29  41.860128 -87.703237     41.758812     41.997808     -87.741315   \n",
       "2013-09-05  42.005436 -87.813085     41.976773     42.018907     -87.846338   \n",
       "\n",
       "            max_longitude  Total_sprays  \n",
       "Date                                     \n",
       "2011-08-29     -88.087988            95  \n",
       "2011-09-07     -87.787710          2114  \n",
       "2013-07-17     -87.629355          2202  \n",
       "2013-07-25     -87.707987          1607  \n",
       "2013-08-08     -87.678060          1195  \n",
       "2013-08-15     -87.745625          2668  \n",
       "2013-08-16     -87.746675           141  \n",
       "2013-08-22     -87.586727          1587  \n",
       "2013-08-29     -87.660885          2302  \n",
       "2013-09-05     -87.789812           924  "
      ]
     },
     "execution_count": 83,
     "metadata": {},
     "output_type": "execute_result"
    }
   ],
   "source": [
    "spray_centers"
   ]
  },
  {
   "cell_type": "markdown",
   "metadata": {},
   "source": [
    "#### Train/Test"
   ]
  },
  {
   "cell_type": "markdown",
   "metadata": {},
   "source": [
    "'train.csv, test.csv - the training and test set of the main dataset. The training set consists of data from 2007, 2009, 2011, and 2013, while in the test set you are requested to predict the test results for 2008, 2010, 2012, and 2014.' - kaggle"
   ]
  },
  {
   "cell_type": "code",
   "execution_count": 84,
   "metadata": {},
   "outputs": [
    {
     "data": {
      "text/html": [
       "<div>\n",
       "<style scoped>\n",
       "    .dataframe tbody tr th:only-of-type {\n",
       "        vertical-align: middle;\n",
       "    }\n",
       "\n",
       "    .dataframe tbody tr th {\n",
       "        vertical-align: top;\n",
       "    }\n",
       "\n",
       "    .dataframe thead th {\n",
       "        text-align: right;\n",
       "    }\n",
       "</style>\n",
       "<table border=\"1\" class=\"dataframe\">\n",
       "  <thead>\n",
       "    <tr style=\"text-align: right;\">\n",
       "      <th></th>\n",
       "      <th>Date</th>\n",
       "      <th>Address</th>\n",
       "      <th>Species</th>\n",
       "      <th>Block</th>\n",
       "      <th>Street</th>\n",
       "      <th>Trap</th>\n",
       "      <th>AddressNumberAndStreet</th>\n",
       "      <th>Latitude</th>\n",
       "      <th>Longitude</th>\n",
       "      <th>AddressAccuracy</th>\n",
       "      <th>NumMosquitos</th>\n",
       "      <th>WnvPresent</th>\n",
       "    </tr>\n",
       "  </thead>\n",
       "  <tbody>\n",
       "    <tr>\n",
       "      <th>0</th>\n",
       "      <td>2007-05-29</td>\n",
       "      <td>4100 North Oak Park Avenue, Chicago, IL 60634,...</td>\n",
       "      <td>CULEX PIPIENS/RESTUANS</td>\n",
       "      <td>41</td>\n",
       "      <td>N OAK PARK AVE</td>\n",
       "      <td>T002</td>\n",
       "      <td>4100  N OAK PARK AVE, Chicago, IL</td>\n",
       "      <td>41.95469</td>\n",
       "      <td>-87.800991</td>\n",
       "      <td>9</td>\n",
       "      <td>1</td>\n",
       "      <td>0</td>\n",
       "    </tr>\n",
       "  </tbody>\n",
       "</table>\n",
       "</div>"
      ],
      "text/plain": [
       "         Date                                            Address  \\\n",
       "0  2007-05-29  4100 North Oak Park Avenue, Chicago, IL 60634,...   \n",
       "\n",
       "                  Species  Block           Street  Trap  \\\n",
       "0  CULEX PIPIENS/RESTUANS     41   N OAK PARK AVE  T002   \n",
       "\n",
       "              AddressNumberAndStreet  Latitude  Longitude  AddressAccuracy  \\\n",
       "0  4100  N OAK PARK AVE, Chicago, IL  41.95469 -87.800991                9   \n",
       "\n",
       "   NumMosquitos  WnvPresent  \n",
       "0             1           0  "
      ]
     },
     "execution_count": 84,
     "metadata": {},
     "output_type": "execute_result"
    }
   ],
   "source": [
    "train.head(1)"
   ]
  },
  {
   "cell_type": "code",
   "execution_count": 85,
   "metadata": {},
   "outputs": [
    {
     "data": {
      "text/html": [
       "<div>\n",
       "<style scoped>\n",
       "    .dataframe tbody tr th:only-of-type {\n",
       "        vertical-align: middle;\n",
       "    }\n",
       "\n",
       "    .dataframe tbody tr th {\n",
       "        vertical-align: top;\n",
       "    }\n",
       "\n",
       "    .dataframe thead th {\n",
       "        text-align: right;\n",
       "    }\n",
       "</style>\n",
       "<table border=\"1\" class=\"dataframe\">\n",
       "  <thead>\n",
       "    <tr style=\"text-align: right;\">\n",
       "      <th></th>\n",
       "      <th>Id</th>\n",
       "      <th>Date</th>\n",
       "      <th>Address</th>\n",
       "      <th>Species</th>\n",
       "      <th>Block</th>\n",
       "      <th>Street</th>\n",
       "      <th>Trap</th>\n",
       "      <th>AddressNumberAndStreet</th>\n",
       "      <th>Latitude</th>\n",
       "      <th>Longitude</th>\n",
       "      <th>AddressAccuracy</th>\n",
       "    </tr>\n",
       "  </thead>\n",
       "  <tbody>\n",
       "    <tr>\n",
       "      <th>0</th>\n",
       "      <td>1</td>\n",
       "      <td>2008-06-11</td>\n",
       "      <td>4100 North Oak Park Avenue, Chicago, IL 60634,...</td>\n",
       "      <td>CULEX PIPIENS/RESTUANS</td>\n",
       "      <td>41</td>\n",
       "      <td>N OAK PARK AVE</td>\n",
       "      <td>T002</td>\n",
       "      <td>4100  N OAK PARK AVE, Chicago, IL</td>\n",
       "      <td>41.95469</td>\n",
       "      <td>-87.800991</td>\n",
       "      <td>9</td>\n",
       "    </tr>\n",
       "  </tbody>\n",
       "</table>\n",
       "</div>"
      ],
      "text/plain": [
       "   Id        Date                                            Address  \\\n",
       "0   1  2008-06-11  4100 North Oak Park Avenue, Chicago, IL 60634,...   \n",
       "\n",
       "                  Species  Block           Street  Trap  \\\n",
       "0  CULEX PIPIENS/RESTUANS     41   N OAK PARK AVE  T002   \n",
       "\n",
       "              AddressNumberAndStreet  Latitude  Longitude  AddressAccuracy  \n",
       "0  4100  N OAK PARK AVE, Chicago, IL  41.95469 -87.800991                9  "
      ]
     },
     "execution_count": 85,
     "metadata": {},
     "output_type": "execute_result"
    }
   ],
   "source": [
    "test.head(1)"
   ]
  },
  {
   "cell_type": "markdown",
   "metadata": {},
   "source": [
    "##### adding zipcodes."
   ]
  },
  {
   "cell_type": "code",
   "execution_count": 86,
   "metadata": {},
   "outputs": [],
   "source": [
    "## Looked through the addresses, and many do not have a zip.\n",
    "## Going to loop through and see what kind of values come back\n",
    "\n",
    "zipcodes = []\n",
    "for add in train.Address:\n",
    "    zipcodes.append(add[-10:-5])"
   ]
  },
  {
   "cell_type": "code",
   "execution_count": 87,
   "metadata": {},
   "outputs": [
    {
     "data": {
      "text/plain": [
       "51"
      ]
     },
     "execution_count": 87,
     "metadata": {},
     "output_type": "execute_result"
    }
   ],
   "source": [
    "#returned 51 zip codes, some are missing zips though\n",
    "\n",
    "len(set(zipcodes))"
   ]
  },
  {
   "cell_type": "code",
   "execution_count": 88,
   "metadata": {},
   "outputs": [
    {
     "data": {
      "text/plain": [
       "0.14353702646106986"
      ]
     },
     "execution_count": 88,
     "metadata": {},
     "output_type": "execute_result"
    }
   ],
   "source": [
    "#14.3 percent of zipcodes will be missing.  I think we can still dummy them out and \n",
    "#get value in the model, but I'll hold off on dummies for now.\n",
    "\n",
    "zipcodes.count('o, IL')/len(zipcodes)"
   ]
  },
  {
   "cell_type": "code",
   "execution_count": 89,
   "metadata": {},
   "outputs": [],
   "source": [
    "zipcodes = ['Unk' if x == 'o, IL' else x for x in zipcodes]"
   ]
  },
  {
   "cell_type": "code",
   "execution_count": 90,
   "metadata": {},
   "outputs": [],
   "source": [
    "train.insert(loc=2, column='zipcode', value=zipcodes)"
   ]
  },
  {
   "cell_type": "code",
   "execution_count": 91,
   "metadata": {},
   "outputs": [
    {
     "data": {
      "text/html": [
       "<div>\n",
       "<style scoped>\n",
       "    .dataframe tbody tr th:only-of-type {\n",
       "        vertical-align: middle;\n",
       "    }\n",
       "\n",
       "    .dataframe tbody tr th {\n",
       "        vertical-align: top;\n",
       "    }\n",
       "\n",
       "    .dataframe thead th {\n",
       "        text-align: right;\n",
       "    }\n",
       "</style>\n",
       "<table border=\"1\" class=\"dataframe\">\n",
       "  <thead>\n",
       "    <tr style=\"text-align: right;\">\n",
       "      <th></th>\n",
       "      <th>Date</th>\n",
       "      <th>Address</th>\n",
       "      <th>zipcode</th>\n",
       "      <th>Species</th>\n",
       "      <th>Block</th>\n",
       "      <th>Street</th>\n",
       "      <th>Trap</th>\n",
       "      <th>AddressNumberAndStreet</th>\n",
       "      <th>Latitude</th>\n",
       "      <th>Longitude</th>\n",
       "      <th>AddressAccuracy</th>\n",
       "      <th>NumMosquitos</th>\n",
       "      <th>WnvPresent</th>\n",
       "    </tr>\n",
       "  </thead>\n",
       "  <tbody>\n",
       "    <tr>\n",
       "      <th>0</th>\n",
       "      <td>2007-05-29</td>\n",
       "      <td>4100 North Oak Park Avenue, Chicago, IL 60634,...</td>\n",
       "      <td>60634</td>\n",
       "      <td>CULEX PIPIENS/RESTUANS</td>\n",
       "      <td>41</td>\n",
       "      <td>N OAK PARK AVE</td>\n",
       "      <td>T002</td>\n",
       "      <td>4100  N OAK PARK AVE, Chicago, IL</td>\n",
       "      <td>41.95469</td>\n",
       "      <td>-87.800991</td>\n",
       "      <td>9</td>\n",
       "      <td>1</td>\n",
       "      <td>0</td>\n",
       "    </tr>\n",
       "  </tbody>\n",
       "</table>\n",
       "</div>"
      ],
      "text/plain": [
       "         Date                                            Address zipcode  \\\n",
       "0  2007-05-29  4100 North Oak Park Avenue, Chicago, IL 60634,...   60634   \n",
       "\n",
       "                  Species  Block           Street  Trap  \\\n",
       "0  CULEX PIPIENS/RESTUANS     41   N OAK PARK AVE  T002   \n",
       "\n",
       "              AddressNumberAndStreet  Latitude  Longitude  AddressAccuracy  \\\n",
       "0  4100  N OAK PARK AVE, Chicago, IL  41.95469 -87.800991                9   \n",
       "\n",
       "   NumMosquitos  WnvPresent  \n",
       "0             1           0  "
      ]
     },
     "execution_count": 91,
     "metadata": {},
     "output_type": "execute_result"
    }
   ],
   "source": [
    "train.head(1)"
   ]
  },
  {
   "cell_type": "code",
   "execution_count": 92,
   "metadata": {},
   "outputs": [],
   "source": [
    "#repeating for test\n",
    "\n",
    "zipcodes2 = []\n",
    "for add in test.Address:\n",
    "    zipcodes2.append(add[-10:-5])"
   ]
  },
  {
   "cell_type": "code",
   "execution_count": 93,
   "metadata": {},
   "outputs": [
    {
     "data": {
      "text/plain": [
       "51"
      ]
     },
     "execution_count": 93,
     "metadata": {},
     "output_type": "execute_result"
    }
   ],
   "source": [
    "#returned 51 zip codes, some are missing zips though.\n",
    "#hopefully they're the same 51 zips for when we dummy.  we'll cross that bridge later.\n",
    "\n",
    "len(set(zipcodes2))"
   ]
  },
  {
   "cell_type": "code",
   "execution_count": 94,
   "metadata": {},
   "outputs": [
    {
     "data": {
      "text/plain": [
       "0.08542216642446235"
      ]
     },
     "execution_count": 94,
     "metadata": {},
     "output_type": "execute_result"
    }
   ],
   "source": [
    "zipcodes2.count('o, IL')/len(zipcodes2)"
   ]
  },
  {
   "cell_type": "code",
   "execution_count": 95,
   "metadata": {},
   "outputs": [],
   "source": [
    "zipcodes2 = ['Unk' if x == 'o, IL' else x for x in zipcodes2]"
   ]
  },
  {
   "cell_type": "code",
   "execution_count": 96,
   "metadata": {},
   "outputs": [],
   "source": [
    "test.insert(loc=2, column='zipcode', value=zipcodes2)"
   ]
  },
  {
   "cell_type": "code",
   "execution_count": 97,
   "metadata": {},
   "outputs": [
    {
     "data": {
      "text/html": [
       "<div>\n",
       "<style scoped>\n",
       "    .dataframe tbody tr th:only-of-type {\n",
       "        vertical-align: middle;\n",
       "    }\n",
       "\n",
       "    .dataframe tbody tr th {\n",
       "        vertical-align: top;\n",
       "    }\n",
       "\n",
       "    .dataframe thead th {\n",
       "        text-align: right;\n",
       "    }\n",
       "</style>\n",
       "<table border=\"1\" class=\"dataframe\">\n",
       "  <thead>\n",
       "    <tr style=\"text-align: right;\">\n",
       "      <th></th>\n",
       "      <th>Id</th>\n",
       "      <th>Date</th>\n",
       "      <th>zipcode</th>\n",
       "      <th>Address</th>\n",
       "      <th>Species</th>\n",
       "      <th>Block</th>\n",
       "      <th>Street</th>\n",
       "      <th>Trap</th>\n",
       "      <th>AddressNumberAndStreet</th>\n",
       "      <th>Latitude</th>\n",
       "      <th>Longitude</th>\n",
       "      <th>AddressAccuracy</th>\n",
       "    </tr>\n",
       "  </thead>\n",
       "  <tbody>\n",
       "    <tr>\n",
       "      <th>0</th>\n",
       "      <td>1</td>\n",
       "      <td>2008-06-11</td>\n",
       "      <td>60634</td>\n",
       "      <td>4100 North Oak Park Avenue, Chicago, IL 60634,...</td>\n",
       "      <td>CULEX PIPIENS/RESTUANS</td>\n",
       "      <td>41</td>\n",
       "      <td>N OAK PARK AVE</td>\n",
       "      <td>T002</td>\n",
       "      <td>4100  N OAK PARK AVE, Chicago, IL</td>\n",
       "      <td>41.95469</td>\n",
       "      <td>-87.800991</td>\n",
       "      <td>9</td>\n",
       "    </tr>\n",
       "  </tbody>\n",
       "</table>\n",
       "</div>"
      ],
      "text/plain": [
       "   Id        Date zipcode                                            Address  \\\n",
       "0   1  2008-06-11   60634  4100 North Oak Park Avenue, Chicago, IL 60634,...   \n",
       "\n",
       "                  Species  Block           Street  Trap  \\\n",
       "0  CULEX PIPIENS/RESTUANS     41   N OAK PARK AVE  T002   \n",
       "\n",
       "              AddressNumberAndStreet  Latitude  Longitude  AddressAccuracy  \n",
       "0  4100  N OAK PARK AVE, Chicago, IL  41.95469 -87.800991                9  "
      ]
     },
     "execution_count": 97,
     "metadata": {},
     "output_type": "execute_result"
    }
   ],
   "source": [
    "test.head(1)"
   ]
  },
  {
   "cell_type": "code",
   "execution_count": null,
   "metadata": {},
   "outputs": [],
   "source": []
  },
  {
   "cell_type": "code",
   "execution_count": 98,
   "metadata": {},
   "outputs": [],
   "source": [
    "train.drop(['Address', 'Street', 'AddressNumberAndStreet'], axis=1, inplace=True)"
   ]
  },
  {
   "cell_type": "code",
   "execution_count": 99,
   "metadata": {},
   "outputs": [
    {
     "data": {
      "text/html": [
       "<div>\n",
       "<style scoped>\n",
       "    .dataframe tbody tr th:only-of-type {\n",
       "        vertical-align: middle;\n",
       "    }\n",
       "\n",
       "    .dataframe tbody tr th {\n",
       "        vertical-align: top;\n",
       "    }\n",
       "\n",
       "    .dataframe thead th {\n",
       "        text-align: right;\n",
       "    }\n",
       "</style>\n",
       "<table border=\"1\" class=\"dataframe\">\n",
       "  <thead>\n",
       "    <tr style=\"text-align: right;\">\n",
       "      <th></th>\n",
       "      <th>Date</th>\n",
       "      <th>zipcode</th>\n",
       "      <th>Species</th>\n",
       "      <th>Block</th>\n",
       "      <th>Trap</th>\n",
       "      <th>Latitude</th>\n",
       "      <th>Longitude</th>\n",
       "      <th>AddressAccuracy</th>\n",
       "      <th>NumMosquitos</th>\n",
       "      <th>WnvPresent</th>\n",
       "    </tr>\n",
       "  </thead>\n",
       "  <tbody>\n",
       "    <tr>\n",
       "      <th>0</th>\n",
       "      <td>2007-05-29</td>\n",
       "      <td>60634</td>\n",
       "      <td>CULEX PIPIENS/RESTUANS</td>\n",
       "      <td>41</td>\n",
       "      <td>T002</td>\n",
       "      <td>41.95469</td>\n",
       "      <td>-87.800991</td>\n",
       "      <td>9</td>\n",
       "      <td>1</td>\n",
       "      <td>0</td>\n",
       "    </tr>\n",
       "    <tr>\n",
       "      <th>1</th>\n",
       "      <td>2007-05-29</td>\n",
       "      <td>60634</td>\n",
       "      <td>CULEX RESTUANS</td>\n",
       "      <td>41</td>\n",
       "      <td>T002</td>\n",
       "      <td>41.95469</td>\n",
       "      <td>-87.800991</td>\n",
       "      <td>9</td>\n",
       "      <td>1</td>\n",
       "      <td>0</td>\n",
       "    </tr>\n",
       "  </tbody>\n",
       "</table>\n",
       "</div>"
      ],
      "text/plain": [
       "         Date zipcode                 Species  Block  Trap  Latitude  \\\n",
       "0  2007-05-29   60634  CULEX PIPIENS/RESTUANS     41  T002  41.95469   \n",
       "1  2007-05-29   60634          CULEX RESTUANS     41  T002  41.95469   \n",
       "\n",
       "   Longitude  AddressAccuracy  NumMosquitos  WnvPresent  \n",
       "0 -87.800991                9             1           0  \n",
       "1 -87.800991                9             1           0  "
      ]
     },
     "execution_count": 99,
     "metadata": {},
     "output_type": "execute_result"
    }
   ],
   "source": [
    "train.head(2)"
   ]
  },
  {
   "cell_type": "code",
   "execution_count": 100,
   "metadata": {},
   "outputs": [],
   "source": [
    "test.drop(['Address', 'Street', 'AddressNumberAndStreet'], axis=1, inplace=True)"
   ]
  },
  {
   "cell_type": "code",
   "execution_count": 101,
   "metadata": {},
   "outputs": [
    {
     "data": {
      "text/html": [
       "<div>\n",
       "<style scoped>\n",
       "    .dataframe tbody tr th:only-of-type {\n",
       "        vertical-align: middle;\n",
       "    }\n",
       "\n",
       "    .dataframe tbody tr th {\n",
       "        vertical-align: top;\n",
       "    }\n",
       "\n",
       "    .dataframe thead th {\n",
       "        text-align: right;\n",
       "    }\n",
       "</style>\n",
       "<table border=\"1\" class=\"dataframe\">\n",
       "  <thead>\n",
       "    <tr style=\"text-align: right;\">\n",
       "      <th></th>\n",
       "      <th>Id</th>\n",
       "      <th>Date</th>\n",
       "      <th>zipcode</th>\n",
       "      <th>Species</th>\n",
       "      <th>Block</th>\n",
       "      <th>Trap</th>\n",
       "      <th>Latitude</th>\n",
       "      <th>Longitude</th>\n",
       "      <th>AddressAccuracy</th>\n",
       "    </tr>\n",
       "  </thead>\n",
       "  <tbody>\n",
       "    <tr>\n",
       "      <th>0</th>\n",
       "      <td>1</td>\n",
       "      <td>2008-06-11</td>\n",
       "      <td>60634</td>\n",
       "      <td>CULEX PIPIENS/RESTUANS</td>\n",
       "      <td>41</td>\n",
       "      <td>T002</td>\n",
       "      <td>41.95469</td>\n",
       "      <td>-87.800991</td>\n",
       "      <td>9</td>\n",
       "    </tr>\n",
       "    <tr>\n",
       "      <th>1</th>\n",
       "      <td>2</td>\n",
       "      <td>2008-06-11</td>\n",
       "      <td>60634</td>\n",
       "      <td>CULEX RESTUANS</td>\n",
       "      <td>41</td>\n",
       "      <td>T002</td>\n",
       "      <td>41.95469</td>\n",
       "      <td>-87.800991</td>\n",
       "      <td>9</td>\n",
       "    </tr>\n",
       "  </tbody>\n",
       "</table>\n",
       "</div>"
      ],
      "text/plain": [
       "   Id        Date zipcode                 Species  Block  Trap  Latitude  \\\n",
       "0   1  2008-06-11   60634  CULEX PIPIENS/RESTUANS     41  T002  41.95469   \n",
       "1   2  2008-06-11   60634          CULEX RESTUANS     41  T002  41.95469   \n",
       "\n",
       "   Longitude  AddressAccuracy  \n",
       "0 -87.800991                9  \n",
       "1 -87.800991                9  "
      ]
     },
     "execution_count": 101,
     "metadata": {},
     "output_type": "execute_result"
    }
   ],
   "source": [
    "test.head(2)"
   ]
  },
  {
   "cell_type": "code",
   "execution_count": null,
   "metadata": {},
   "outputs": [],
   "source": []
  },
  {
   "cell_type": "code",
   "execution_count": 102,
   "metadata": {},
   "outputs": [],
   "source": [
    "train = pd.get_dummies(train, columns=['Species', 'zipcode', 'Trap']) "
   ]
  },
  {
   "cell_type": "code",
   "execution_count": 103,
   "metadata": {},
   "outputs": [],
   "source": [
    "test = pd.get_dummies(test, columns=['Species', 'zipcode', 'Trap']) "
   ]
  },
  {
   "cell_type": "code",
   "execution_count": 104,
   "metadata": {},
   "outputs": [
    {
     "data": {
      "text/plain": [
       "(10506, 201)"
      ]
     },
     "execution_count": 104,
     "metadata": {},
     "output_type": "execute_result"
    }
   ],
   "source": [
    "train.shape"
   ]
  },
  {
   "cell_type": "code",
   "execution_count": 105,
   "metadata": {},
   "outputs": [
    {
     "data": {
      "text/plain": [
       "(116293, 214)"
      ]
     },
     "execution_count": 105,
     "metadata": {},
     "output_type": "execute_result"
    }
   ],
   "source": [
    "test.shape"
   ]
  },
  {
   "cell_type": "code",
   "execution_count": 106,
   "metadata": {},
   "outputs": [
    {
     "data": {
      "text/plain": [
       "{'Id',\n",
       " 'Species_UNSPECIFIED CULEX',\n",
       " 'Trap_T002A',\n",
       " 'Trap_T002B',\n",
       " 'Trap_T065A',\n",
       " 'Trap_T090A',\n",
       " 'Trap_T090B',\n",
       " 'Trap_T090C',\n",
       " 'Trap_T128A',\n",
       " 'Trap_T200A',\n",
       " 'Trap_T200B',\n",
       " 'Trap_T218A',\n",
       " 'Trap_T218B',\n",
       " 'Trap_T218C',\n",
       " 'Trap_T234'}"
      ]
     },
     "execution_count": 106,
     "metadata": {},
     "output_type": "execute_result"
    }
   ],
   "source": [
    "(set(test.columns)) - (set(train.columns))"
   ]
  },
  {
   "cell_type": "code",
   "execution_count": 107,
   "metadata": {},
   "outputs": [],
   "source": [
    "train['Species_UNSPECIFIED CULEX'] = [0] * train.shape[0]\n",
    "train['Trap_T002A'] = [0] * train.shape[0]\n",
    "train['Trap_T002B'] = [0] * train.shape[0]\n",
    "train['Trap_T065A'] = [0] * train.shape[0]\n",
    "train['Trap_T090A'] = [0] * train.shape[0]\n",
    "train['Trap_T090B'] = [0] * train.shape[0]\n",
    "train['Trap_T090C'] = [0] * train.shape[0]\n",
    "train['Trap_T128A'] = [0] * train.shape[0]\n",
    "train['Trap_T200A'] = [0] * train.shape[0]\n",
    "train['Trap_T200B'] = [0] * train.shape[0]\n",
    "train['Trap_T218A'] = [0] * train.shape[0]\n",
    "train['Trap_T218B'] = [0] * train.shape[0]\n",
    "train['Trap_T218C'] = [0] * train.shape[0]\n",
    "train['Trap_T234'] = [0] * train.shape[0]"
   ]
  },
  {
   "cell_type": "code",
   "execution_count": 108,
   "metadata": {},
   "outputs": [
    {
     "data": {
      "text/plain": [
       "(10506, 215)"
      ]
     },
     "execution_count": 108,
     "metadata": {},
     "output_type": "execute_result"
    }
   ],
   "source": [
    "train.shape"
   ]
  },
  {
   "cell_type": "code",
   "execution_count": 109,
   "metadata": {},
   "outputs": [
    {
     "data": {
      "text/plain": [
       "(116293, 214)"
      ]
     },
     "execution_count": 109,
     "metadata": {},
     "output_type": "execute_result"
    }
   ],
   "source": [
    "test.shape"
   ]
  },
  {
   "cell_type": "code",
   "execution_count": 112,
   "metadata": {},
   "outputs": [
    {
     "data": {
      "text/plain": [
       "{'Id'}"
      ]
     },
     "execution_count": 112,
     "metadata": {},
     "output_type": "execute_result"
    }
   ],
   "source": [
    "(set(test.columns)) - (set(train.columns))"
   ]
  },
  {
   "cell_type": "code",
   "execution_count": 113,
   "metadata": {},
   "outputs": [
    {
     "data": {
      "text/plain": [
       "{'NumMosquitos', 'WnvPresent'}"
      ]
     },
     "execution_count": 113,
     "metadata": {},
     "output_type": "execute_result"
    }
   ],
   "source": [
    "(set(train.columns)) - (set(test.columns))"
   ]
  },
  {
   "cell_type": "code",
   "execution_count": 118,
   "metadata": {},
   "outputs": [],
   "source": [
    "train.to_csv('west_nile_train.csv')"
   ]
  },
  {
   "cell_type": "code",
   "execution_count": null,
   "metadata": {},
   "outputs": [],
   "source": [
    "test.to_csv('west_nile_test.csv')"
   ]
  },
  {
   "cell_type": "markdown",
   "metadata": {},
   "source": [
    "^^^^^^^^^^^^^^^^^^^^^^^^^^^^^^^^^^^^^^^\n",
    "train test cleaned, dummied\n",
    "---------\n"
   ]
  },
  {
   "cell_type": "markdown",
   "metadata": {},
   "source": [
    "___________"
   ]
  },
  {
   "cell_type": "markdown",
   "metadata": {},
   "source": [
    "---------"
   ]
  },
  {
   "cell_type": "markdown",
   "metadata": {},
   "source": [
    "anything under here is unstructured/undone/meaningless"
   ]
  },
  {
   "cell_type": "markdown",
   "metadata": {},
   "source": [
    "-----------"
   ]
  },
  {
   "cell_type": "code",
   "execution_count": 37,
   "metadata": {},
   "outputs": [
    {
     "data": {
      "text/plain": [
       "136"
      ]
     },
     "execution_count": 37,
     "metadata": {},
     "output_type": "execute_result"
    }
   ],
   "source": [
    "len(train.Trap.value_counts())\n",
    "#len(train.Trap.unique()) samesame"
   ]
  },
  {
   "cell_type": "code",
   "execution_count": 38,
   "metadata": {},
   "outputs": [
    {
     "data": {
      "text/plain": [
       "149"
      ]
     },
     "execution_count": 38,
     "metadata": {},
     "output_type": "execute_result"
    }
   ],
   "source": [
    "len(test.Trap.value_counts())"
   ]
  },
  {
   "cell_type": "code",
   "execution_count": null,
   "metadata": {},
   "outputs": [],
   "source": []
  },
  {
   "cell_type": "code",
   "execution_count": 39,
   "metadata": {},
   "outputs": [
    {
     "data": {
      "text/html": [
       "<div>\n",
       "<style scoped>\n",
       "    .dataframe tbody tr th:only-of-type {\n",
       "        vertical-align: middle;\n",
       "    }\n",
       "\n",
       "    .dataframe tbody tr th {\n",
       "        vertical-align: top;\n",
       "    }\n",
       "\n",
       "    .dataframe thead th {\n",
       "        text-align: right;\n",
       "    }\n",
       "</style>\n",
       "<table border=\"1\" class=\"dataframe\">\n",
       "  <thead>\n",
       "    <tr style=\"text-align: right;\">\n",
       "      <th></th>\n",
       "      <th>Date</th>\n",
       "      <th>Address</th>\n",
       "      <th>zipcode</th>\n",
       "      <th>Species</th>\n",
       "      <th>Block</th>\n",
       "      <th>Street</th>\n",
       "      <th>Trap</th>\n",
       "      <th>AddressNumberAndStreet</th>\n",
       "      <th>Latitude</th>\n",
       "      <th>Longitude</th>\n",
       "      <th>AddressAccuracy</th>\n",
       "      <th>NumMosquitos</th>\n",
       "      <th>WnvPresent</th>\n",
       "    </tr>\n",
       "  </thead>\n",
       "  <tbody>\n",
       "    <tr>\n",
       "      <th>1233</th>\n",
       "      <td>2007-08-01</td>\n",
       "      <td>South Doty Avenue, Chicago, IL, USA</td>\n",
       "      <td>Unk</td>\n",
       "      <td>CULEX PIPIENS</td>\n",
       "      <td>12</td>\n",
       "      <td>S DOTY AVE</td>\n",
       "      <td>T115</td>\n",
       "      <td>1200  S DOTY AVE, Chicago, IL</td>\n",
       "      <td>41.673408</td>\n",
       "      <td>-87.599862</td>\n",
       "      <td>5</td>\n",
       "      <td>50</td>\n",
       "      <td>0</td>\n",
       "    </tr>\n",
       "    <tr>\n",
       "      <th>1406</th>\n",
       "      <td>2007-08-02</td>\n",
       "      <td>South Stony Island Avenue, Chicago, IL, USA</td>\n",
       "      <td>Unk</td>\n",
       "      <td>CULEX PIPIENS</td>\n",
       "      <td>10</td>\n",
       "      <td>S STONY ISLAND AVE</td>\n",
       "      <td>T138</td>\n",
       "      <td>1000  S STONY ISLAND AVE, Chicago, IL</td>\n",
       "      <td>41.726465</td>\n",
       "      <td>-87.585413</td>\n",
       "      <td>5</td>\n",
       "      <td>50</td>\n",
       "      <td>0</td>\n",
       "    </tr>\n",
       "    <tr>\n",
       "      <th>4284</th>\n",
       "      <td>2009-06-22</td>\n",
       "      <td>ORD Terminal 5, O'Hare International Airport, ...</td>\n",
       "      <td>60666</td>\n",
       "      <td>CULEX PIPIENS/RESTUANS</td>\n",
       "      <td>10</td>\n",
       "      <td>W OHARE AIRPORT</td>\n",
       "      <td>T900</td>\n",
       "      <td>1000  W OHARE AIRPORT, Chicago, IL</td>\n",
       "      <td>41.974689</td>\n",
       "      <td>-87.890615</td>\n",
       "      <td>9</td>\n",
       "      <td>50</td>\n",
       "      <td>0</td>\n",
       "    </tr>\n",
       "    <tr>\n",
       "      <th>4285</th>\n",
       "      <td>2009-06-22</td>\n",
       "      <td>ORD Terminal 5, O'Hare International Airport, ...</td>\n",
       "      <td>60666</td>\n",
       "      <td>CULEX PIPIENS/RESTUANS</td>\n",
       "      <td>10</td>\n",
       "      <td>W OHARE AIRPORT</td>\n",
       "      <td>T900</td>\n",
       "      <td>1000  W OHARE AIRPORT, Chicago, IL</td>\n",
       "      <td>41.974689</td>\n",
       "      <td>-87.890615</td>\n",
       "      <td>9</td>\n",
       "      <td>50</td>\n",
       "      <td>0</td>\n",
       "    </tr>\n",
       "    <tr>\n",
       "      <th>4287</th>\n",
       "      <td>2009-06-22</td>\n",
       "      <td>ORD Terminal 5, O'Hare International Airport, ...</td>\n",
       "      <td>60666</td>\n",
       "      <td>CULEX PIPIENS/RESTUANS</td>\n",
       "      <td>10</td>\n",
       "      <td>W OHARE AIRPORT</td>\n",
       "      <td>T900</td>\n",
       "      <td>1000  W OHARE AIRPORT, Chicago, IL</td>\n",
       "      <td>41.974689</td>\n",
       "      <td>-87.890615</td>\n",
       "      <td>9</td>\n",
       "      <td>50</td>\n",
       "      <td>0</td>\n",
       "    </tr>\n",
       "  </tbody>\n",
       "</table>\n",
       "</div>"
      ],
      "text/plain": [
       "            Date                                            Address zipcode  \\\n",
       "1233  2007-08-01                South Doty Avenue, Chicago, IL, USA     Unk   \n",
       "1406  2007-08-02        South Stony Island Avenue, Chicago, IL, USA     Unk   \n",
       "4284  2009-06-22  ORD Terminal 5, O'Hare International Airport, ...   60666   \n",
       "4285  2009-06-22  ORD Terminal 5, O'Hare International Airport, ...   60666   \n",
       "4287  2009-06-22  ORD Terminal 5, O'Hare International Airport, ...   60666   \n",
       "\n",
       "                     Species  Block               Street  Trap  \\\n",
       "1233           CULEX PIPIENS     12           S DOTY AVE  T115   \n",
       "1406           CULEX PIPIENS     10   S STONY ISLAND AVE  T138   \n",
       "4284  CULEX PIPIENS/RESTUANS     10      W OHARE AIRPORT  T900   \n",
       "4285  CULEX PIPIENS/RESTUANS     10      W OHARE AIRPORT  T900   \n",
       "4287  CULEX PIPIENS/RESTUANS     10      W OHARE AIRPORT  T900   \n",
       "\n",
       "                     AddressNumberAndStreet   Latitude  Longitude  \\\n",
       "1233          1200  S DOTY AVE, Chicago, IL  41.673408 -87.599862   \n",
       "1406  1000  S STONY ISLAND AVE, Chicago, IL  41.726465 -87.585413   \n",
       "4284     1000  W OHARE AIRPORT, Chicago, IL  41.974689 -87.890615   \n",
       "4285     1000  W OHARE AIRPORT, Chicago, IL  41.974689 -87.890615   \n",
       "4287     1000  W OHARE AIRPORT, Chicago, IL  41.974689 -87.890615   \n",
       "\n",
       "      AddressAccuracy  NumMosquitos  WnvPresent  \n",
       "1233                5            50           0  \n",
       "1406                5            50           0  \n",
       "4284                9            50           0  \n",
       "4285                9            50           0  \n",
       "4287                9            50           0  "
      ]
     },
     "execution_count": 39,
     "metadata": {},
     "output_type": "execute_result"
    }
   ],
   "source": [
    "train.sort_values(by='NumMosquitos', ascending = False).head()"
   ]
  },
  {
   "cell_type": "code",
   "execution_count": null,
   "metadata": {},
   "outputs": [],
   "source": []
  },
  {
   "cell_type": "code",
   "execution_count": 40,
   "metadata": {},
   "outputs": [
    {
     "data": {
      "text/plain": [
       "CULEX PIPIENS/RESTUANS    262\n",
       "CULEX PIPIENS             240\n",
       "CULEX RESTUANS             49\n",
       "Name: Species, dtype: int64"
      ]
     },
     "execution_count": 40,
     "metadata": {},
     "output_type": "execute_result"
    }
   ],
   "source": [
    "#Species breakdown when WNV present\n",
    "#May not be strong enough because of low count of other species.\n",
    "\n",
    "train[(train.WnvPresent == 1)].Species.value_counts()"
   ]
  },
  {
   "cell_type": "code",
   "execution_count": 41,
   "metadata": {},
   "outputs": [
    {
     "data": {
      "text/plain": [
       "CULEX PIPIENS/RESTUANS    4752\n",
       "CULEX RESTUANS            2740\n",
       "CULEX PIPIENS             2699\n",
       "CULEX TERRITANS            222\n",
       "CULEX SALINARIUS            86\n",
       "CULEX TARSALIS               6\n",
       "CULEX ERRATICUS              1\n",
       "Name: Species, dtype: int64"
      ]
     },
     "execution_count": 41,
     "metadata": {},
     "output_type": "execute_result"
    }
   ],
   "source": [
    "#total Species breakdown wnv\n",
    "\n",
    "train.Species.value_counts()"
   ]
  },
  {
   "cell_type": "code",
   "execution_count": 42,
   "metadata": {},
   "outputs": [
    {
     "data": {
      "text/plain": [
       "CULEX PIPIENS/RESTUANS    15359\n",
       "CULEX RESTUANS            14670\n",
       "CULEX PIPIENS             14521\n",
       "CULEX SALINARIUS          14355\n",
       "CULEX TERRITANS           14351\n",
       "CULEX TARSALIS            14347\n",
       "CULEX ERRATICUS           14345\n",
       "UNSPECIFIED CULEX         14345\n",
       "Name: Species, dtype: int64"
      ]
     },
     "execution_count": 42,
     "metadata": {},
     "output_type": "execute_result"
    }
   ],
   "source": [
    "#test.Species is balanced\n",
    "\n",
    "test.Species.value_counts()"
   ]
  },
  {
   "cell_type": "code",
   "execution_count": 43,
   "metadata": {},
   "outputs": [
    {
     "data": {
      "text/plain": [
       "64"
      ]
     },
     "execution_count": 43,
     "metadata": {},
     "output_type": "execute_result"
    }
   ],
   "source": [
    "len(train.Block.value_counts())"
   ]
  },
  {
   "cell_type": "code",
   "execution_count": 44,
   "metadata": {},
   "outputs": [
    {
     "data": {
      "text/plain": [
       "65"
      ]
     },
     "execution_count": 44,
     "metadata": {},
     "output_type": "execute_result"
    }
   ],
   "source": [
    "len(test.Block.value_counts())"
   ]
  },
  {
   "cell_type": "code",
   "execution_count": 45,
   "metadata": {},
   "outputs": [
    {
     "data": {
      "text/plain": [
       "1472"
      ]
     },
     "execution_count": 45,
     "metadata": {},
     "output_type": "execute_result"
    }
   ],
   "source": [
    "len(weather.Date.unique())"
   ]
  },
  {
   "cell_type": "code",
   "execution_count": null,
   "metadata": {},
   "outputs": [],
   "source": []
  }
 ],
 "metadata": {
  "kernelspec": {
   "display_name": "Python 3",
   "language": "python",
   "name": "python3"
  },
  "language_info": {
   "codemirror_mode": {
    "name": "ipython",
    "version": 3
   },
   "file_extension": ".py",
   "mimetype": "text/x-python",
   "name": "python",
   "nbconvert_exporter": "python",
   "pygments_lexer": "ipython3",
   "version": "3.6.5"
  }
 },
 "nbformat": 4,
 "nbformat_minor": 2
}
