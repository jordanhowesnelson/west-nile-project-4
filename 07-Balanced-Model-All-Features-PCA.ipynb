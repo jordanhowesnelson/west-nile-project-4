{
 "cells": [
  {
   "cell_type": "markdown",
   "metadata": {},
   "source": [
    "# Import Libraries"
   ]
  },
  {
   "cell_type": "code",
   "execution_count": 2,
   "metadata": {},
   "outputs": [],
   "source": [
    "import pandas as pd\n",
    "pd.set_option(\"display.max_columns\",500)\n",
    "pd.set_option(\"display.max_rows\",500)\n",
    "\n",
    "import matplotlib.pyplot as plt\n",
    "\n",
    "from sklearn.model_selection import train_test_split, cross_val_score\n",
    "from sklearn.metrics import accuracy_score, roc_auc_score\n",
    "from sklearn.linear_model import LogisticRegression\n",
    "from sklearn.neighbors import KNeighborsClassifier\n",
    "from sklearn.naive_bayes import MultinomialNB\n",
    "from sklearn.tree import DecisionTreeClassifier, ExtraTreeClassifier\n",
    "from sklearn.ensemble import BaggingClassifier, RandomForestClassifier, VotingClassifier, GradientBoostingClassifier, AdaBoostClassifier\n",
    "from sklearn import svm\n",
    "\n",
    "from sklearn.decomposition import PCA\n",
    "from sklearn.preprocessing import StandardScaler"
   ]
  },
  {
   "cell_type": "markdown",
   "metadata": {},
   "source": [
    "# Import Train/Test Data"
   ]
  },
  {
   "cell_type": "code",
   "execution_count": 3,
   "metadata": {},
   "outputs": [],
   "source": [
    "#import data\n",
    "train = pd.read_csv('./west-nile-project-4/data/weather-data/02_weather_spray_train.csv', index_col=0)\n",
    "test = pd.read_csv('./west-nile-project-4/data/weather-data/02_weather_spray_test.csv', index_col='Id')"
   ]
  },
  {
   "cell_type": "code",
   "execution_count": 4,
   "metadata": {},
   "outputs": [
    {
     "data": {
      "text/plain": [
       "0    9955\n",
       "1    9951\n",
       "Name: WnvPresent, dtype: int64"
      ]
     },
     "execution_count": 4,
     "metadata": {},
     "output_type": "execute_result"
    }
   ],
   "source": [
    "train.WnvPresent.value_counts()"
   ]
  },
  {
   "cell_type": "markdown",
   "metadata": {},
   "source": [
    "# Set X and y variables"
   ]
  },
  {
   "cell_type": "code",
   "execution_count": 5,
   "metadata": {},
   "outputs": [],
   "source": [
    "#id X and y\n",
    "X = train.drop(['NumMosquitos', 'WnvPresent', 'Latitude', 'Longitude', 'Sprays_In_Last_Month'], axis=1)\n",
    "y = train.WnvPresent"
   ]
  },
  {
   "cell_type": "markdown",
   "metadata": {},
   "source": [
    "# Train Test Split"
   ]
  },
  {
   "cell_type": "code",
   "execution_count": 6,
   "metadata": {},
   "outputs": [],
   "source": [
    "#train split\n",
    "X_train, X_test, y_train, y_test = train_test_split(X, y)"
   ]
  },
  {
   "cell_type": "markdown",
   "metadata": {},
   "source": [
    "# Standard Scaler"
   ]
  },
  {
   "cell_type": "code",
   "execution_count": 7,
   "metadata": {},
   "outputs": [],
   "source": [
    "ss = StandardScaler()\n",
    "X_train = ss.fit_transform(X_train)\n",
    "X_test = ss.transform(X_test)"
   ]
  },
  {
   "cell_type": "markdown",
   "metadata": {},
   "source": [
    "# PCA"
   ]
  },
  {
   "cell_type": "code",
   "execution_count": 8,
   "metadata": {},
   "outputs": [
    {
     "data": {
      "text/plain": [
       "(14929, 258)"
      ]
     },
     "execution_count": 8,
     "metadata": {},
     "output_type": "execute_result"
    }
   ],
   "source": [
    "pca = PCA()\n",
    "\n",
    "Z_train = pca.fit_transform(X_train)\n",
    "Z_test = pca.transform(X_test)\n",
    "Z_train.shape"
   ]
  },
  {
   "cell_type": "markdown",
   "metadata": {},
   "source": [
    "# Cross Val Score Potential Classification Models"
   ]
  },
  {
   "cell_type": "code",
   "execution_count": 9,
   "metadata": {},
   "outputs": [
    {
     "name": "stdout",
     "output_type": "stream",
     "text": [
      "lr 0.7431176848659246\n",
      "knn 0.865697602863849\n",
      "dt 0.9338201977757922\n",
      "et 0.929801201281522\n",
      "bag 0.954049345101077\n",
      "rf 0.9586043414928391\n",
      "gb 0.8875344672309343\n",
      "ad 0.8200822255042003\n"
     ]
    }
   ],
   "source": [
    "#cross val score all potential classification models\n",
    "lr = LogisticRegression() \n",
    "knn = KNeighborsClassifier() \n",
    "#nb = MultinomialNB() won't take neg vals\n",
    "dt = DecisionTreeClassifier() \n",
    "et = ExtraTreeClassifier()\n",
    "bag = BaggingClassifier()\n",
    "rf = RandomForestClassifier()\n",
    "gb = GradientBoostingClassifier()\n",
    "ad = AdaBoostClassifier()\n",
    "#svm1 = svm.SVC() #too slow, not strong performer\n",
    "\n",
    "\n",
    "print('lr', cross_val_score(lr, Z_train, y_train).mean())\n",
    "print('knn', cross_val_score(knn, Z_train, y_train).mean())\n",
    "#print('nb', cross_val_score(nb, X_train, y_train).mean()) \n",
    "print('dt', cross_val_score(dt, Z_train, y_train).mean()) \n",
    "print('et', cross_val_score(et, Z_train, y_train).mean()) \n",
    "print('bag', cross_val_score(bag, Z_train, y_train).mean())\n",
    "print('rf', cross_val_score(rf, Z_train, y_train).mean()) \n",
    "print('gb', cross_val_score(gb, Z_train, y_train).mean()) \n",
    "print('ad', cross_val_score(ad, Z_train, y_train).mean()) \n",
    "#print('svm', cross_val_score(svm1, X_train, y_train).mean()) #too slow, not strong performer"
   ]
  },
  {
   "cell_type": "markdown",
   "metadata": {},
   "source": [
    "# Making an Interpretable Equation"
   ]
  },
  {
   "cell_type": "markdown",
   "metadata": {},
   "source": [
    "# ROC AUC Score"
   ]
  },
  {
   "cell_type": "code",
   "execution_count": 11,
   "metadata": {
    "scrolled": true
   },
   "outputs": [
    {
     "data": {
      "text/plain": [
       "Trap_T149                         8.903825e-01\n",
       "Trap_T154                         8.277625e-01\n",
       "Trap_T151                         3.942377e-01\n",
       "zipcode_60612                     3.875950e-01\n",
       "Trap_T115                         3.771950e-01\n",
       "Trap_T129                         3.209799e-01\n",
       "Trap_T013                         3.140627e-01\n",
       "Trap_T072                         2.975615e-01\n",
       "Trap_T103                         2.819704e-01\n",
       "Trap_T073                         2.617306e-01\n",
       "Trap_T030                         2.615404e-01\n",
       "Trap_T145                         2.553208e-01\n",
       "Trap_T044                         2.538420e-01\n",
       "Trap_T049                         2.240524e-01\n",
       "Trap_T070                         2.112273e-01\n",
       "Trap_T107                         2.045096e-01\n",
       "Trap_T071                         1.991253e-01\n",
       "zipcode_60106                     1.921862e-01\n",
       "Trap_T005                         1.848916e-01\n",
       "Trap_T011                         1.700044e-01\n",
       "zipcode_60625                     1.668054e-01\n",
       "Trap_T095                         1.662869e-01\n",
       "zipcode_60605                     1.565079e-01\n",
       "Trap_T077                         1.506574e-01\n",
       "Trap_T012                         1.497955e-01\n",
       "Trap_T086                         1.362983e-01\n",
       "zipcode_60608                     1.358218e-01\n",
       "Trap_T045                         1.349176e-01\n",
       "zipcode_60632                     1.287581e-01\n",
       "Trap_T141                         1.074717e-01\n",
       "zipcode_60617                     1.052579e-01\n",
       "Trap_T089                         1.016082e-01\n",
       "Species_CULEX RESTUANS            9.560459e-02\n",
       "Trap_T091                         8.551230e-02\n",
       "zipcode_60643                     8.440850e-02\n",
       "zipcode_60619                     7.543052e-02\n",
       "Trap_T138                         6.358875e-02\n",
       "Trap_T001                         6.165029e-02\n",
       "Trap_T083                         5.837759e-02\n",
       "Trap_T142                         5.727380e-02\n",
       "zipcode_60622                     5.451485e-02\n",
       "zipcode_60631                     5.063318e-02\n",
       "Species_CULEX PIPIENS/RESTUANS    4.682887e-02\n",
       "zipcode_60652                     4.613135e-02\n",
       "zipcode_60651                     4.075909e-02\n",
       "Trap_T028                         3.904429e-02\n",
       "Trap_T016                         3.667252e-02\n",
       "zipcode_60629                     3.641457e-02\n",
       "zipcode_60620                     3.557148e-02\n",
       "zipcode_60613                     3.069748e-02\n",
       "zipcode_60649                     2.561283e-02\n",
       "Trap_T009                         2.407648e-02\n",
       "Species_CULEX TERRITANS           1.809475e-02\n",
       "Trap_T048                         1.717191e-02\n",
       "Trap_T084                         1.437323e-02\n",
       "Trap_T031                         1.223279e-02\n",
       "Trap_T060                         1.065153e-02\n",
       "zipcode_60647                     8.182379e-03\n",
       "Trap_T043                         7.323892e-03\n",
       "Trap_T099                         1.342053e-03\n",
       "Trap_T159                         3.868262e-14\n",
       "Trap_T225                         3.102427e-14\n",
       "Trap_T157                         2.918513e-14\n",
       "Trap_T002B                        2.672850e-14\n",
       "Trap_T155                         2.484350e-14\n",
       "Trap_T200                         2.208744e-14\n",
       "Trap_T158                         2.168451e-14\n",
       "Trap_T228                         2.164240e-14\n",
       "Trap_T090B                        2.097905e-14\n",
       "Trap_T200B                        1.831055e-14\n",
       "Trap_T162                         1.782094e-14\n",
       "Trap_T218                         1.692322e-14\n",
       "Trap_T223                         1.630771e-14\n",
       "Trap_T218C                        1.625434e-14\n",
       "Trap_T237                         1.533411e-14\n",
       "IC_dummy                          1.505498e-14\n",
       "FZ_dummy                          1.502264e-14\n",
       "Cool                              1.464111e-14\n",
       "RA_dummy                          1.292251e-14\n",
       "DZ_dummy                          1.251745e-14\n",
       "DewPoint                          1.221400e-14\n",
       "Trap_T206                         1.071015e-14\n",
       "+FC_dummy                         9.564089e-15\n",
       "Trap_T229                         9.486400e-15\n",
       "Depth                             6.382960e-15\n",
       "Tmin                              5.052737e-15\n",
       "FG+_dummy                         4.784672e-15\n",
       "Trap_T227                         4.778281e-15\n",
       "PY_dummy                          4.777902e-15\n",
       "HZ_dummy                          3.751365e-15\n",
       "SS_dummy                          3.724076e-15\n",
       "Trap_T234                         3.241457e-15\n",
       "FG_dummy                          3.241123e-15\n",
       "StnPressure                       3.139641e-15\n",
       "SnowFall                          2.814658e-15\n",
       "BR_dummy                          2.708539e-15\n",
       "FU_dummy                          2.628793e-15\n",
       "SN_dummy                          2.597028e-15\n",
       "PO_dummy                          2.320226e-15\n",
       "SH_dummy                          2.264902e-15\n",
       "Trap_T218A                        1.895639e-15\n",
       "Trap_T226                         1.596961e-15\n",
       "Trap_T200A                        1.397353e-15\n",
       "Trap_T212                         1.106503e-15\n",
       "Heat                              6.526362e-16\n",
       "WetBulb                          -2.343396e-16\n",
       "Trap_T218B                       -2.452795e-16\n",
       "BL_dummy                         -5.096502e-16\n",
       "Trap_T090A                       -5.409960e-16\n",
       "Trap_T219                        -5.604290e-16\n",
       "Trap_T128A                       -1.247095e-15\n",
       "VC_dummy                         -1.331465e-15\n",
       "DS_dummy                         -1.349304e-15\n",
       "TS_dummy                         -1.481241e-15\n",
       "FC_dummy                         -1.679781e-15\n",
       "Trap_T221                        -1.742603e-15\n",
       "DU_dummy                         -1.946573e-15\n",
       "Trap_T231                        -2.109197e-15\n",
       "Trap_T235                        -2.171104e-15\n",
       "GR_dummy                         -2.270084e-15\n",
       "UP_dummy                         -2.354611e-15\n",
       "Trap_T209                        -2.640076e-15\n",
       "GS_dummy                         -2.922731e-15\n",
       "Species_UNSPECIFIED CULEX        -3.338550e-15\n",
       "Trap_T903                        -3.390303e-15\n",
       "Trap_T236                        -3.468215e-15\n",
       "BC_dummy                         -3.714308e-15\n",
       "Trap_T002A                       -3.832999e-15\n",
       "ResultSpeed                      -4.338842e-15\n",
       "SG_dummy                         -4.537277e-15\n",
       "SeaLevel                         -5.203440e-15\n",
       "AvgSpeed                         -7.092884e-15\n",
       "Trap_T224                        -7.171506e-15\n",
       "PR_dummy                         -7.233953e-15\n",
       "Trap_T156                        -7.512901e-15\n",
       "VA_dummy                         -7.810570e-15\n",
       "ResultDir                        -8.013462e-15\n",
       "SQ_dummy                         -8.949670e-15\n",
       "Trap_T232                        -8.949780e-15\n",
       "PL_dummy                         -1.066123e-14\n",
       "Trap_T222                        -1.105687e-14\n",
       "Trap_T220                        -1.156421e-14\n",
       "SA_dummy                         -1.161422e-14\n",
       "DR_dummy                         -1.223772e-14\n",
       "Tmax                             -1.380903e-14\n",
       "MI_dummy                         -1.383301e-14\n",
       "Tavg                             -1.514942e-14\n",
       "PrecipTotal                      -1.903472e-14\n",
       "Trap_T900                        -1.967532e-14\n",
       "Trap_T215                        -1.969166e-14\n",
       "Trap_T230                        -2.449955e-14\n",
       "Trap_T065A                       -2.598378e-14\n",
       "Trap_T090C                       -2.681885e-14\n",
       "Trap_T233                        -3.123835e-14\n",
       "Trap_T238                        -3.301196e-14\n",
       "Trap_T161                        -4.560051e-14\n",
       "Trap_T160                        -5.665381e-14\n",
       "zipcode_60614                    -4.034492e-03\n",
       "Trap_T018                        -4.284844e-03\n",
       "Trap_T143                        -4.668155e-03\n",
       "Trap_T054                        -1.318962e-02\n",
       "zipcode_60641                    -1.375994e-02\n",
       "Trap_T025                        -1.549515e-02\n",
       "zipcode_60637                    -1.917925e-02\n",
       "zipcode_60634                    -2.121985e-02\n",
       "zipcode_60642                    -2.428059e-02\n",
       "Trap_T037                        -2.708092e-02\n",
       "zipcode_60609                    -2.718056e-02\n",
       "zipcode_60638                    -2.849604e-02\n",
       "Trap_T047                        -2.949415e-02\n",
       "Trap_T036                        -3.327919e-02\n",
       "zipcode_60623                    -3.607346e-02\n",
       "Trap_T004                        -3.750504e-02\n",
       "Trap_T019                        -3.823407e-02\n",
       "Trap_T094B                       -3.829559e-02\n",
       "Trap_T035                        -4.048911e-02\n",
       "Trap_T069                        -4.086941e-02\n",
       "zipcode_60633                    -4.914267e-02\n",
       "Trap_T051                        -5.021374e-02\n",
       "Trap_T135                        -5.034758e-02\n",
       "zipcode_Unk                      -5.212193e-02\n",
       "Trap_T063                        -5.419372e-02\n",
       "Trap_T088                        -5.706136e-02\n",
       "Species_CULEX PIPIENS            -5.956162e-02\n",
       "Trap_T062                        -6.268503e-02\n",
       "Trap_T027                        -6.277535e-02\n",
       "zipcode_60018                    -6.501753e-02\n",
       "Trap_T065                        -6.787721e-02\n",
       "Trap_T102                        -6.959508e-02\n",
       "Trap_T034                        -7.384481e-02\n",
       "zipcode_60611                    -7.886359e-02\n",
       "Trap_T017                        -8.339398e-02\n",
       "Trap_T100                        -8.512301e-02\n",
       "Trap_T079                        -8.594435e-02\n",
       "Trap_T006                        -8.658279e-02\n",
       "Trap_T096                        -8.808041e-02\n",
       "zipcode_60646                    -8.877785e-02\n",
       "Trap_T076                        -9.423426e-02\n",
       "Trap_T082                        -9.480527e-02\n",
       "Trap_T054C                       -9.493956e-02\n",
       "Trap_T092                        -1.010895e-01\n",
       "zipcode_60615                    -1.023901e-01\n",
       "Trap_T003                        -1.039512e-01\n",
       "Trap_T114                        -1.040970e-01\n",
       "Trap_T090                        -1.047685e-01\n",
       "zipcode_60639                    -1.056217e-01\n",
       "Trap_T085                        -1.082323e-01\n",
       "zipcode_60659                    -1.087601e-01\n",
       "zipcode_60655                    -1.088890e-01\n",
       "Trap_T015                        -1.097906e-01\n",
       "Trap_T033                        -1.193957e-01\n",
       "AddressAccuracy                  -1.211245e-01\n",
       "Trap_T008                        -1.253790e-01\n",
       "Trap_T040                        -1.266749e-01\n",
       "Trap_T094                        -1.269209e-01\n",
       "Trap_T144                        -1.290086e-01\n",
       "zipcode_60656                    -1.319595e-01\n",
       "zipcode_60654                    -1.372345e-01\n",
       "Trap_T007                        -1.399312e-01\n",
       "zipcode_60640                    -1.425346e-01\n",
       "Trap_T081                        -1.472662e-01\n",
       "Trap_T061                        -1.523105e-01\n",
       "Trap_T014                        -1.558406e-01\n",
       "Block                            -1.560005e-01\n",
       "zipcode_60607                    -1.602087e-01\n",
       "Trap_T074                        -1.642495e-01\n",
       "zipcode_60618                    -1.655988e-01\n",
       "Trap_T066                        -1.724120e-01\n",
       "Trap_T075                        -1.771521e-01\n",
       "zipcode_60630                    -1.828658e-01\n",
       "Trap_T097                        -1.889917e-01\n",
       "Trap_T128                        -2.026041e-01\n",
       "zipcode_60645                    -2.202811e-01\n",
       "zipcode_60621                    -2.261936e-01\n",
       "Trap_T050                        -2.285787e-01\n",
       "Trap_T039                        -2.292481e-01\n",
       "zipcode_60803                    -2.309920e-01\n",
       "zipcode_60626                    -2.501580e-01\n",
       "Trap_T067                        -2.508886e-01\n",
       "zipcode_60636                    -2.850785e-01\n",
       "Trap_T080                        -2.990094e-01\n",
       "zipcode_60628                    -3.131076e-01\n",
       "zipcode_60666                    -3.141005e-01\n",
       "Species_CULEX TARSALIS           -3.143584e-01\n",
       "Trap_T078                        -3.353230e-01\n",
       "zipcode_60660                    -3.476340e-01\n",
       "Species_CULEX ERRATICUS          -3.575014e-01\n",
       "zipcode_60827                    -3.778577e-01\n",
       "Trap_T046                        -4.193490e-01\n",
       "Species_CULEX SALINARIUS         -4.493429e-01\n",
       "Trap_T148                        -4.687258e-01\n",
       "Trap_T002                        -4.893175e-01\n",
       "Trap_T147                        -6.041996e-01\n",
       "Trap_T146                        -6.074320e-01\n",
       "zipcode_60707                    -6.085558e-01\n",
       "Trap_T150                        -6.657679e-01\n",
       "Trap_T153                        -1.101583e+00\n",
       "Trap_T152                        -1.209150e+00\n",
       "Name: coef, dtype: float64"
      ]
     },
     "execution_count": 11,
     "metadata": {},
     "output_type": "execute_result"
    }
   ],
   "source": [
    "#printing the model coefs\n",
    "lr.fit(Z_train, y_train)\n",
    "lr_coefs = pd.DataFrame(lr.coef_, columns=X.columns, index=['coef']).T\n",
    "lr_coefs.coef.sort_values(ascending=False)\n",
    "#higher coefs are more likely to indicate WNV"
   ]
  },
  {
   "cell_type": "code",
   "execution_count": 12,
   "metadata": {},
   "outputs": [
    {
     "data": {
      "text/plain": [
       "0.8044638546142754"
      ]
     },
     "execution_count": 12,
     "metadata": {},
     "output_type": "execute_result"
    }
   ],
   "source": [
    "#roc auc score\n",
    "lr_proba = lr.predict_proba(Z_test)\n",
    "roc_auc_score(y_test, lr_proba[:, 1])"
   ]
  },
  {
   "cell_type": "markdown",
   "metadata": {},
   "source": [
    "# Random Forest Model"
   ]
  },
  {
   "cell_type": "code",
   "execution_count": 13,
   "metadata": {},
   "outputs": [
    {
     "data": {
      "text/plain": [
       "RandomForestClassifier(bootstrap=True, class_weight=None, criterion='gini',\n",
       "            max_depth=None, max_features='auto', max_leaf_nodes=None,\n",
       "            min_impurity_decrease=0.0, min_impurity_split=None,\n",
       "            min_samples_leaf=1, min_samples_split=2,\n",
       "            min_weight_fraction_leaf=0.0, n_estimators=10, n_jobs=1,\n",
       "            oob_score=False, random_state=None, verbose=0,\n",
       "            warm_start=False)"
      ]
     },
     "execution_count": 13,
     "metadata": {},
     "output_type": "execute_result"
    }
   ],
   "source": [
    "rf.fit(Z_train, y_train)\n",
    "#rf.score(X_test, y_test)"
   ]
  },
  {
   "cell_type": "code",
   "execution_count": 14,
   "metadata": {},
   "outputs": [
    {
     "data": {
      "text/plain": [
       "0.9886957560842485"
      ]
     },
     "execution_count": 14,
     "metadata": {},
     "output_type": "execute_result"
    }
   ],
   "source": [
    "rf_proba = rf.predict_proba(Z_test)\n",
    "roc_auc_score(y_test, rf_proba[:, 1])"
   ]
  },
  {
   "cell_type": "markdown",
   "metadata": {},
   "source": [
    "# Gradient Boost"
   ]
  },
  {
   "cell_type": "code",
   "execution_count": 15,
   "metadata": {},
   "outputs": [
    {
     "data": {
      "text/plain": [
       "0.950856986450022"
      ]
     },
     "execution_count": 15,
     "metadata": {},
     "output_type": "execute_result"
    }
   ],
   "source": [
    "gb.fit(Z_train, y_train)\n",
    "gb_proba = gb.predict_proba(Z_test)\n",
    "roc_auc_score(y_test, gb_proba[:, 1])"
   ]
  },
  {
   "cell_type": "markdown",
   "metadata": {},
   "source": [
    "# Prepping for Export"
   ]
  },
  {
   "cell_type": "code",
   "execution_count": 16,
   "metadata": {},
   "outputs": [],
   "source": [
    "test_ss = ss.transform(test.drop(['Date', 'Latitude', 'Longitude', 'Sprays_In_Last_Month'], axis=1))\n",
    "test_pca = pca.transform(test_ss)"
   ]
  },
  {
   "cell_type": "code",
   "execution_count": 17,
   "metadata": {},
   "outputs": [
    {
     "data": {
      "text/plain": [
       "array([0, 0, 0, ..., 0, 0, 0])"
      ]
     },
     "execution_count": 17,
     "metadata": {},
     "output_type": "execute_result"
    }
   ],
   "source": [
    "gb_preds = gb.predict(test_pca)\n",
    "gb_preds"
   ]
  },
  {
   "cell_type": "code",
   "execution_count": 18,
   "metadata": {},
   "outputs": [],
   "source": [
    "#exporting to csv\n",
    "pd.DataFrame({'WnvPresent':gb_preds}, index=test.index).to_csv('./preds5.csv')"
   ]
  }
 ],
 "metadata": {
  "kernelspec": {
   "display_name": "Python 3",
   "language": "python",
   "name": "python3"
  },
  "language_info": {
   "codemirror_mode": {
    "name": "ipython",
    "version": 3
   },
   "file_extension": ".py",
   "mimetype": "text/x-python",
   "name": "python",
   "nbconvert_exporter": "python",
   "pygments_lexer": "ipython3",
   "version": "3.6.5"
  }
 },
 "nbformat": 4,
 "nbformat_minor": 2
}
