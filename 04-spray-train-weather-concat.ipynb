{
 "cells": [
  {
   "cell_type": "markdown",
   "metadata": {},
   "source": [
    "# Import Libraries"
   ]
  },
  {
   "cell_type": "code",
   "execution_count": 136,
   "metadata": {},
   "outputs": [],
   "source": [
    "import pandas as pd\n",
    "import numpy as np\n",
    "pd.set_option(\"display.max_columns\",500)\n",
    "pd.set_option(\"display.max_rows\",500)\n",
    "\n",
    "import matplotlib.pyplot as plt"
   ]
  },
  {
   "cell_type": "code",
   "execution_count": 137,
   "metadata": {},
   "outputs": [],
   "source": [
    "train = pd.read_csv('./data/west_nile_train_spray.csv', index_col='Date')\n",
    "test = pd.read_csv('./data/west_nile_test_spray.csv', index_col='Date')\n",
    "weather_1 = pd.read_csv('./data/weather-data/weather_1_UNSCALED.csv', index_col='Date')\n",
    "weather_2 = pd.read_csv('./data/weather-data/weather_2_UNSCALED.csv', index_col='Date')"
   ]
  },
  {
   "cell_type": "markdown",
   "metadata": {},
   "source": [
    "# Convert all dfs to datetime"
   ]
  },
  {
   "cell_type": "code",
   "execution_count": 138,
   "metadata": {},
   "outputs": [],
   "source": [
    "weather = pd.concat([weather_1, weather_2])\n",
    "train.drop('Unnamed: 0', axis=1, inplace=True)\n",
    "test.drop('Unnamed: 0', axis=1, inplace=True)\n",
    "\n",
    "#make this a datetime measure\n",
    "weather.index = pd.to_datetime(weather.index)\n",
    "train.index = pd.to_datetime(train.index)\n",
    "test.index = pd.to_datetime(test.index)"
   ]
  },
  {
   "cell_type": "markdown",
   "metadata": {},
   "source": [
    "# Aggregate weather station data"
   ]
  },
  {
   "cell_type": "code",
   "execution_count": 139,
   "metadata": {},
   "outputs": [],
   "source": [
    "#merge weather stations on date\n",
    "weather = weather.groupby(weather.index).agg('mean')"
   ]
  },
  {
   "cell_type": "code",
   "execution_count": 97,
   "metadata": {},
   "outputs": [],
   "source": [
    "#export a copy of the aggregated weather station data\n",
    "#weather.to_csv('./data/weather-data/01_weather_concat.csv')"
   ]
  },
  {
   "cell_type": "markdown",
   "metadata": {},
   "source": [
    "# Merged weather into train and test data"
   ]
  },
  {
   "cell_type": "code",
   "execution_count": 148,
   "metadata": {},
   "outputs": [],
   "source": [
    "df = pd.merge(train, weather, left_index=True, right_index=True)\n",
    "df_test = pd.merge(test, weather, left_index=True, right_index=True)"
   ]
  },
  {
   "cell_type": "code",
   "execution_count": 150,
   "metadata": {},
   "outputs": [],
   "source": [
    "#weather to csv\n",
    "#df.to_csv('./02_weather_spray_train.csv')\n",
    "\n",
    "#df_test to csv\n",
    "#df_test.to_csv('./02_weather_spray_test.csv')"
   ]
  },
  {
   "cell_type": "markdown",
   "metadata": {},
   "source": [
    "# Checked shape of data"
   ]
  },
  {
   "cell_type": "code",
   "execution_count": 142,
   "metadata": {},
   "outputs": [
    {
     "data": {
      "text/plain": [
       "(25, 215)"
      ]
     },
     "execution_count": 142,
     "metadata": {},
     "output_type": "execute_result"
    }
   ],
   "source": [
    "#train has 25 dates\n",
    "train[train.index == '2007-05-29'].shape"
   ]
  },
  {
   "cell_type": "code",
   "execution_count": 143,
   "metadata": {},
   "outputs": [
    {
     "data": {
      "text/plain": [
       "(1, 48)"
      ]
     },
     "execution_count": 143,
     "metadata": {},
     "output_type": "execute_result"
    }
   ],
   "source": [
    "#weather has 1 date\n",
    "weather[weather.index == '2007-05-29'].shape"
   ]
  },
  {
   "cell_type": "code",
   "execution_count": 144,
   "metadata": {},
   "outputs": [
    {
     "data": {
      "text/plain": [
       "(25, 263)"
      ]
     },
     "execution_count": 144,
     "metadata": {},
     "output_type": "execute_result"
    }
   ],
   "source": [
    "#new df has 25 dates with the same weather info\n",
    "df[df.index == '2007-05-29'].shape"
   ]
  },
  {
   "cell_type": "code",
   "execution_count": 145,
   "metadata": {},
   "outputs": [
    {
     "data": {
      "text/plain": [
       "0    9955\n",
       "1    9951\n",
       "Name: WnvPresent, dtype: int64"
      ]
     },
     "execution_count": 145,
     "metadata": {},
     "output_type": "execute_result"
    }
   ],
   "source": [
    "#classes are still balanced\n",
    "df.WnvPresent.value_counts(dropna=False)"
   ]
  }
 ],
 "metadata": {
  "kernelspec": {
   "display_name": "Python 3",
   "language": "python",
   "name": "python3"
  },
  "language_info": {
   "codemirror_mode": {
    "name": "ipython",
    "version": 3
   },
   "file_extension": ".py",
   "mimetype": "text/x-python",
   "name": "python",
   "nbconvert_exporter": "python",
   "pygments_lexer": "ipython3",
   "version": "3.6.5"
  }
 },
 "nbformat": 4,
 "nbformat_minor": 2
}
