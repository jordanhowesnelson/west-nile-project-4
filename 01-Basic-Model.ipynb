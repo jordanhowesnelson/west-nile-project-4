{
 "cells": [
  {
   "cell_type": "markdown",
   "metadata": {},
   "source": [
    "# Import Libraries"
   ]
  },
  {
   "cell_type": "code",
   "execution_count": 1,
   "metadata": {},
   "outputs": [],
   "source": [
    "import pandas as pd\n",
    "pd.set_option(\"display.max_columns\",500)\n",
    "pd.set_option(\"display.max_rows\",500)\n",
    "\n",
    "from sklearn.model_selection import train_test_split, cross_val_score\n",
    "from sklearn.metrics import accuracy_score\n",
    "from sklearn.linear_model import LogisticRegression\n",
    "from sklearn.neighbors import KNeighborsClassifier\n",
    "from sklearn.naive_bayes import MultinomialNB\n",
    "from sklearn.tree import DecisionTreeClassifier, ExtraTreeClassifier\n",
    "from sklearn.ensemble import BaggingClassifier, RandomForestClassifier, VotingClassifier, GradientBoostingClassifier, AdaBoostClassifier\n",
    "from sklearn import svm"
   ]
  },
  {
   "cell_type": "markdown",
   "metadata": {},
   "source": [
    "# Import Train/Test Data"
   ]
  },
  {
   "cell_type": "code",
   "execution_count": 2,
   "metadata": {},
   "outputs": [],
   "source": [
    "#import data\n",
    "test = pd.read_csv('./data/west_nile_test.csv', index_col=0)\n",
    "train = pd.read_csv('./data/west_nile_train.csv', index_col=0)"
   ]
  },
  {
   "cell_type": "markdown",
   "metadata": {},
   "source": [
    "# Set X and y variables"
   ]
  },
  {
   "cell_type": "code",
   "execution_count": 3,
   "metadata": {},
   "outputs": [],
   "source": [
    "#id X and y\n",
    "X = train.drop(['Date', 'NumMosquitos', 'WnvPresent'], axis=1)\n",
    "y = train.WnvPresent"
   ]
  },
  {
   "cell_type": "markdown",
   "metadata": {},
   "source": [
    "# Train Test Split"
   ]
  },
  {
   "cell_type": "code",
   "execution_count": 4,
   "metadata": {},
   "outputs": [],
   "source": [
    "#train split\n",
    "X_train, X_test, y_train, y_test = train_test_split(X, y)"
   ]
  },
  {
   "cell_type": "markdown",
   "metadata": {},
   "source": [
    "# Cross Val Score Potential Classification Models"
   ]
  },
  {
   "cell_type": "code",
   "execution_count": 5,
   "metadata": {},
   "outputs": [
    {
     "name": "stdout",
     "output_type": "stream",
     "text": [
      "lr 0.9491052742883729\n",
      "knn 0.943649113902635\n",
      "dt 0.9487246119358795\n",
      "et 0.9487246119358795\n",
      "bag 0.9479629005262807\n",
      "rf 0.9475819481453285\n",
      "gb 0.9487246119358795\n",
      "ad 0.9491052742883729\n",
      "svm 0.9491052742883729\n"
     ]
    }
   ],
   "source": [
    "#cross val score all potential classification models\n",
    "lr = LogisticRegression() \n",
    "knn = KNeighborsClassifier() \n",
    "#nb = MultinomialNB() won't take neg vals\n",
    "dt = DecisionTreeClassifier() \n",
    "et = ExtraTreeClassifier()\n",
    "bag = BaggingClassifier()\n",
    "rf = RandomForestClassifier()\n",
    "gb = GradientBoostingClassifier()\n",
    "ad = AdaBoostClassifier()\n",
    "svm1 = svm.SVC()\n",
    "\n",
    "\n",
    "print('lr', cross_val_score(lr, X_train, y_train).mean())\n",
    "print('knn', cross_val_score(knn, X_train, y_train).mean())\n",
    "#print('nb', cross_val_score(nb, X_train, y_train).mean()) \n",
    "print('dt', cross_val_score(dt, X_train, y_train).mean()) \n",
    "print('et', cross_val_score(et, X_train, y_train).mean()) \n",
    "print('bag', cross_val_score(bag, X_train, y_train).mean())\n",
    "print('rf', cross_val_score(rf, X_train, y_train).mean()) \n",
    "print('gb', cross_val_score(gb, X_train, y_train).mean()) \n",
    "print('ad', cross_val_score(ad, X_train, y_train).mean()) \n",
    "print('svm', cross_val_score(svm1, X_train, y_train).mean())"
   ]
  },
  {
   "cell_type": "markdown",
   "metadata": {},
   "source": [
    "- All models seem to reveal similar enough results. \n",
    "- LogReg choosen for ease of interpretability."
   ]
  },
  {
   "cell_type": "code",
   "execution_count": 6,
   "metadata": {},
   "outputs": [
    {
     "data": {
      "text/plain": [
       "0.9429006471259992"
      ]
     },
     "execution_count": 6,
     "metadata": {},
     "output_type": "execute_result"
    }
   ],
   "source": [
    "#fit and score\n",
    "lr.fit(X_train, y_train)\n",
    "lr.score(X_test, y_test)"
   ]
  },
  {
   "cell_type": "code",
   "execution_count": 7,
   "metadata": {},
   "outputs": [
    {
     "data": {
      "text/plain": [
       "Species_CULEX PIPIENS             1.425616\n",
       "Trap_T003                         1.238343\n",
       "Trap_T014                         1.183348\n",
       "Trap_T230                         1.062880\n",
       "Trap_T228                         1.014001\n",
       "Trap_T013                         0.970245\n",
       "zipcode_60631                     0.945441\n",
       "Trap_T128                         0.933914\n",
       "Trap_T225                         0.926353\n",
       "Trap_T002                         0.911770\n",
       "Trap_T011                         0.903604\n",
       "Trap_T070                         0.880185\n",
       "Species_CULEX PIPIENS/RESTUANS    0.842676\n",
       "Trap_T096                         0.808367\n",
       "zipcode_60656                     0.794113\n",
       "Trap_T143                         0.759946\n",
       "Trap_T103                         0.734895\n",
       "Trap_T027                         0.683868\n",
       "zipcode_60621                     0.631653\n",
       "Trap_T235                         0.631653\n",
       "Trap_T900                         0.616168\n",
       "zipcode_60666                     0.616168\n",
       "Trap_T155                         0.550944\n",
       "Trap_T015                         0.532967\n",
       "Trap_T231                         0.510107\n",
       "Trap_T115                         0.495793\n",
       "zipcode_60651                     0.489343\n",
       "Trap_T082                         0.482203\n",
       "Trap_T086                         0.481554\n",
       "Trap_T061                         0.454891\n",
       "Trap_T215                         0.452063\n",
       "Trap_T114                         0.416950\n",
       "zipcode_60614                     0.401891\n",
       "zipcode_60609                     0.400405\n",
       "Trap_T081                         0.384999\n",
       "Trap_T107                         0.362610\n",
       "Trap_T151                         0.333996\n",
       "Trap_T223                         0.314455\n",
       "zipcode_60633                     0.312759\n",
       "Trap_T221                         0.312759\n",
       "Trap_T054C                        0.304625\n",
       "zipcode_60622                     0.278993\n",
       "Trap_T008                         0.278157\n",
       "Trap_T033                         0.272290\n",
       "zipcode_60639                     0.272254\n",
       "Trap_T147                         0.271331\n",
       "zipcode_60643                     0.267490\n",
       "zipcode_60652                     0.253060\n",
       "Trap_T045                         0.247095\n",
       "Trap_T091                         0.229055\n",
       "Trap_T226                         0.226240\n",
       "Trap_T089                         0.222704\n",
       "zipcode_60018                     0.222442\n",
       "zipcode_60618                     0.209646\n",
       "zipcode_60660                     0.201040\n",
       "Trap_T048                         0.199017\n",
       "Trap_T154                         0.196803\n",
       "zipcode_60634                     0.192183\n",
       "Trap_T152                         0.183716\n",
       "zipcode_60646                     0.173151\n",
       "zipcode_60659                     0.172047\n",
       "Trap_T028                         0.172047\n",
       "Trap_T009                         0.169133\n",
       "Trap_T030                         0.155405\n",
       "zipcode_60629                     0.144409\n",
       "zipcode_60628                     0.142532\n",
       "Trap_T084                         0.142532\n",
       "Trap_T156                         0.142449\n",
       "Trap_T090                         0.140840\n",
       "zipcode_60607                     0.140840\n",
       "Trap_T233                         0.137613\n",
       "Trap_T209                         0.118030\n",
       "Trap_T159                         0.116433\n",
       "zipcode_60620                     0.116433\n",
       "Trap_T036                         0.115272\n",
       "Trap_T006                         0.106076\n",
       "Trap_T138                         0.104810\n",
       "Trap_T135                         0.099722\n",
       "zipcode_60803                     0.099722\n",
       "Trap_T035                         0.094328\n",
       "Trap_T220                         0.093843\n",
       "zipcode_60625                     0.093843\n",
       "Trap_T903                         0.086302\n",
       "zipcode_60106                     0.086302\n",
       "Trap_T097                         0.084534\n",
       "zipcode_60827                     0.084534\n",
       "Trap_T218                         0.078801\n",
       "Trap_T160                         0.076037\n",
       "Trap_T067                         0.055611\n",
       "Trap_T162                         0.049087\n",
       "zipcode_Unk                       0.044991\n",
       "Trap_T158                         0.044793\n",
       "zipcode_60632                     0.032998\n",
       "Trap_T227                         0.024394\n",
       "Trap_T077                         0.018009\n",
       "AddressAccuracy                   0.007579\n",
       "Trap_T073                         0.003828\n",
       "Block                             0.003603\n",
       "Trap_T066                         0.001961\n",
       "Trap_T218C                        0.000000\n",
       "Trap_T234                         0.000000\n",
       "Trap_T065A                        0.000000\n",
       "Trap_T090A                        0.000000\n",
       "Trap_T128A                        0.000000\n",
       "Species_UNSPECIFIED CULEX         0.000000\n",
       "Trap_T218B                        0.000000\n",
       "Trap_T002A                        0.000000\n",
       "Trap_T090C                        0.000000\n",
       "Trap_T002B                        0.000000\n",
       "Trap_T090B                        0.000000\n",
       "Trap_T200A                        0.000000\n",
       "Trap_T200B                        0.000000\n",
       "Trap_T218A                        0.000000\n",
       "zipcode_60630                    -0.017918\n",
       "Trap_T040                        -0.024146\n",
       "Species_CULEX ERRATICUS          -0.041198\n",
       "zipcode_60638                    -0.043795\n",
       "Trap_T144                        -0.046980\n",
       "Trap_T236                        -0.051631\n",
       "zipcode_60637                    -0.054226\n",
       "Trap_T016                        -0.058194\n",
       "Trap_T094B                       -0.067261\n",
       "Trap_T232                        -0.069333\n",
       "Trap_T076                        -0.076064\n",
       "Longitude                        -0.077154\n",
       "Species_CULEX TARSALIS           -0.080235\n",
       "zipcode_60619                    -0.110589\n",
       "Trap_T237                        -0.115429\n",
       "Trap_T078                        -0.117306\n",
       "Trap_T047                        -0.122169\n",
       "Trap_T054                        -0.149829\n",
       "Trap_T039                        -0.150363\n",
       "Trap_T229                        -0.153843\n",
       "Trap_T080                        -0.159676\n",
       "zipcode_60617                    -0.164006\n",
       "Trap_T085                        -0.169421\n",
       "Trap_T094                        -0.171061\n",
       "zipcode_60707                    -0.176693\n",
       "Trap_T044                        -0.177649\n",
       "zipcode_60641                    -0.189714\n",
       "Trap_T238                        -0.192345\n",
       "zipcode_60623                    -0.195283\n",
       "Trap_T069                        -0.198332\n",
       "Trap_T150                        -0.220605\n",
       "Trap_T005                        -0.239557\n",
       "Trap_T034                        -0.242913\n",
       "zipcode_60655                    -0.251129\n",
       "Latitude                         -0.265257\n",
       "Trap_T001                        -0.268515\n",
       "Trap_T051                        -0.268893\n",
       "Trap_T219                        -0.270231\n",
       "zipcode_60640                    -0.270231\n",
       "zipcode_60615                    -0.280941\n",
       "Trap_T075                        -0.280941\n",
       "Species_CULEX RESTUANS           -0.289308\n",
       "Trap_T095                        -0.295922\n",
       "Trap_T012                        -0.306574\n",
       "Trap_T149                        -0.309067\n",
       "Trap_T157                        -0.309476\n",
       "Trap_T050                        -0.313278\n",
       "zipcode_60647                    -0.313278\n",
       "zipcode_60636                    -0.315638\n",
       "Trap_T142                        -0.330765\n",
       "Trap_T083                        -0.336764\n",
       "Trap_T141                        -0.343241\n",
       "zipcode_60611                    -0.354396\n",
       "Trap_T129                        -0.354396\n",
       "Trap_T004                        -0.360318\n",
       "Trap_T088                        -0.361293\n",
       "Trap_T031                        -0.364760\n",
       "Trap_T072                        -0.365520\n",
       "Trap_T071                        -0.374669\n",
       "Trap_T062                        -0.383952\n",
       "zipcode_60605                    -0.393270\n",
       "Trap_T092                        -0.393270\n",
       "Trap_T206                        -0.396110\n",
       "zipcode_60608                    -0.398991\n",
       "Trap_T060                        -0.405662\n",
       "Trap_T212                        -0.411280\n",
       "Trap_T007                        -0.430670\n",
       "Trap_T018                        -0.433198\n",
       "Trap_T019                        -0.442151\n",
       "zipcode_60613                    -0.455886\n",
       "Trap_T224                        -0.455886\n",
       "Trap_T063                        -0.470126\n",
       "Trap_T145                        -0.472698\n",
       "Trap_T037                        -0.510689\n",
       "Trap_T074                        -0.516026\n",
       "Trap_T065                        -0.524091\n",
       "Trap_T100                        -0.540579\n",
       "Trap_T025                        -0.552701\n",
       "Trap_T102                        -0.562254\n",
       "zipcode_60645                    -0.581497\n",
       "Trap_T148                        -0.581497\n",
       "Trap_T161                        -0.614687\n",
       "Trap_T049                        -0.614818\n",
       "zipcode_60642                    -0.614818\n",
       "Trap_T146                        -0.633535\n",
       "Trap_T079                        -0.641474\n",
       "zipcode_60649                    -0.641474\n",
       "zipcode_60626                    -0.653802\n",
       "zipcode_60612                    -0.661112\n",
       "Trap_T043                        -0.676601\n",
       "Trap_T046                        -0.692117\n",
       "zipcode_60654                    -0.692117\n",
       "Trap_T099                        -0.718176\n",
       "Trap_T153                        -0.728942\n",
       "Species_CULEX SALINARIUS         -0.743433\n",
       "Trap_T222                        -0.744431\n",
       "Trap_T017                        -1.005890\n",
       "Trap_T200                        -1.076638\n",
       "Species_CULEX TERRITANS          -1.124235\n",
       "Name: coef, dtype: float64"
      ]
     },
     "execution_count": 7,
     "metadata": {},
     "output_type": "execute_result"
    }
   ],
   "source": [
    "lr_coefs = pd.DataFrame(lr.coef_, columns=X.columns, index=['coef']).T\n",
    "lr_coefs.coef.sort_values(ascending=False)\n",
    "#higher coefs are more likely to indicate WNV"
   ]
  },
  {
   "cell_type": "code",
   "execution_count": null,
   "metadata": {},
   "outputs": [],
   "source": []
  }
 ],
 "metadata": {
  "kernelspec": {
   "display_name": "Python 3",
   "language": "python",
   "name": "python3"
  },
  "language_info": {
   "codemirror_mode": {
    "name": "ipython",
    "version": 3
   },
   "file_extension": ".py",
   "mimetype": "text/x-python",
   "name": "python",
   "nbconvert_exporter": "python",
   "pygments_lexer": "ipython3",
   "version": "3.6.5"
  }
 },
 "nbformat": 4,
 "nbformat_minor": 2
}
