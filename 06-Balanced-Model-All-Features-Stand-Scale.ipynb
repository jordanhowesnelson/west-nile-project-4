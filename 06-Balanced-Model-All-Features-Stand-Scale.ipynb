{
 "cells": [
  {
   "cell_type": "markdown",
   "metadata": {},
   "source": [
    "# Import Libraries"
   ]
  },
  {
   "cell_type": "code",
   "execution_count": 4,
   "metadata": {},
   "outputs": [],
   "source": [
    "import pandas as pd\n",
    "pd.set_option(\"display.max_columns\",500)\n",
    "pd.set_option(\"display.max_rows\",500)\n",
    "\n",
    "import matplotlib.pyplot as plt\n",
    "\n",
    "from sklearn.model_selection import train_test_split, cross_val_score\n",
    "from sklearn.metrics import accuracy_score, roc_auc_score\n",
    "from sklearn.linear_model import LogisticRegression\n",
    "from sklearn.neighbors import KNeighborsClassifier\n",
    "from sklearn.naive_bayes import MultinomialNB\n",
    "from sklearn.tree import DecisionTreeClassifier, ExtraTreeClassifier\n",
    "from sklearn.ensemble import BaggingClassifier, RandomForestClassifier, VotingClassifier, GradientBoostingClassifier, AdaBoostClassifier\n",
    "from sklearn import svm\n",
    "\n",
    "from sklearn.decomposition import PCA\n",
    "from sklearn.preprocessing import StandardScaler"
   ]
  },
  {
   "cell_type": "markdown",
   "metadata": {},
   "source": [
    "# Import Train/Test Data"
   ]
  },
  {
   "cell_type": "code",
   "execution_count": 5,
   "metadata": {},
   "outputs": [],
   "source": [
    "#import data\n",
    "train = pd.read_csv('./west-nile-project-4/data/weather-data/02_weather_spray_train.csv', index_col=0)\n",
    "test = pd.read_csv('./west-nile-project-4/data/weather-data/02_weather_spray_test.csv', index_col='Id')"
   ]
  },
  {
   "cell_type": "code",
   "execution_count": 6,
   "metadata": {},
   "outputs": [
    {
     "data": {
      "text/plain": [
       "0    9955\n",
       "1    9951\n",
       "Name: WnvPresent, dtype: int64"
      ]
     },
     "execution_count": 6,
     "metadata": {},
     "output_type": "execute_result"
    }
   ],
   "source": [
    "train.WnvPresent.value_counts()"
   ]
  },
  {
   "cell_type": "markdown",
   "metadata": {},
   "source": [
    "# Set X and y variables"
   ]
  },
  {
   "cell_type": "code",
   "execution_count": 7,
   "metadata": {},
   "outputs": [],
   "source": [
    "#id X and y\n",
    "X = train.drop(['NumMosquitos', 'WnvPresent', 'Latitude', 'Longitude', 'Sprays_In_Last_Month'], axis=1)\n",
    "y = train.WnvPresent"
   ]
  },
  {
   "cell_type": "markdown",
   "metadata": {},
   "source": [
    "# Train Test Split"
   ]
  },
  {
   "cell_type": "code",
   "execution_count": 8,
   "metadata": {},
   "outputs": [],
   "source": [
    "#train split\n",
    "X_train, X_test, y_train, y_test = train_test_split(X, y)"
   ]
  },
  {
   "cell_type": "markdown",
   "metadata": {},
   "source": [
    "# Standard Scaler"
   ]
  },
  {
   "cell_type": "code",
   "execution_count": 9,
   "metadata": {},
   "outputs": [],
   "source": [
    "ss = StandardScaler()\n",
    "X_train = ss.fit_transform(X_train)\n",
    "X_test = ss.transform(X_test)"
   ]
  },
  {
   "cell_type": "markdown",
   "metadata": {},
   "source": [
    "# Cross Val Score Potential Classification Models"
   ]
  },
  {
   "cell_type": "code",
   "execution_count": 10,
   "metadata": {},
   "outputs": [
    {
     "name": "stdout",
     "output_type": "stream",
     "text": [
      "lr 0.7447239007979419\n",
      "knn 0.8621470085677198\n",
      "dt 0.931609194589921\n",
      "et 0.9335517585247247\n",
      "bag 0.9309397163299588\n",
      "rf 0.9462790073870794\n",
      "gb 0.8005243685442146\n",
      "ad 0.7711843121575327\n"
     ]
    }
   ],
   "source": [
    "#cross val score all potential classification models\n",
    "lr = LogisticRegression() \n",
    "knn = KNeighborsClassifier() \n",
    "#nb = MultinomialNB() won't take neg vals\n",
    "dt = DecisionTreeClassifier() \n",
    "et = ExtraTreeClassifier()\n",
    "bag = BaggingClassifier()\n",
    "rf = RandomForestClassifier()\n",
    "gb = GradientBoostingClassifier()\n",
    "ad = AdaBoostClassifier()\n",
    "#svm1 = svm.SVC() #too slow, not strong performer\n",
    "\n",
    "\n",
    "print('lr', cross_val_score(lr, X_train, y_train).mean())\n",
    "print('knn', cross_val_score(knn, X_train, y_train).mean())\n",
    "#print('nb', cross_val_score(nb, X_train, y_train).mean()) \n",
    "print('dt', cross_val_score(dt, X_train, y_train).mean()) \n",
    "print('et', cross_val_score(et, X_train, y_train).mean()) \n",
    "print('bag', cross_val_score(bag, X_train, y_train).mean())\n",
    "print('rf', cross_val_score(rf, X_train, y_train).mean()) \n",
    "print('gb', cross_val_score(gb, X_train, y_train).mean()) \n",
    "print('ad', cross_val_score(ad, X_train, y_train).mean()) \n",
    "#print('svm', cross_val_score(svm1, X_train, y_train).mean()) #too slow, not strong performer"
   ]
  },
  {
   "cell_type": "markdown",
   "metadata": {},
   "source": [
    "# Making an Interpretable Equation"
   ]
  },
  {
   "cell_type": "code",
   "execution_count": 11,
   "metadata": {
    "scrolled": true
   },
   "outputs": [
    {
     "data": {
      "text/plain": [
       "WetBulb                           1.384336\n",
       "SeaLevel                          1.187198\n",
       "TS_dummy                          0.561065\n",
       "FG_dummy                          0.545424\n",
       "Tmin                              0.372405\n",
       "Species_CULEX PIPIENS             0.367546\n",
       "AvgSpeed                          0.293973\n",
       "Trap_T002                         0.182876\n",
       "Trap_T003                         0.171800\n",
       "Species_CULEX PIPIENS/RESTUANS    0.149579\n",
       "ResultDir                         0.141900\n",
       "zipcode_60666                     0.141460\n",
       "Trap_T900                         0.141460\n",
       "Trap_T228                         0.139513\n",
       "Trap_T013                         0.132356\n",
       "Trap_T225                         0.129771\n",
       "Trap_T230                         0.122289\n",
       "Trap_T223                         0.122037\n",
       "Trap_T215                         0.116259\n",
       "Trap_T155                         0.114328\n",
       "Trap_T096                         0.103182\n",
       "Trap_T143                         0.103176\n",
       "zipcode_60631                     0.100405\n",
       "Trap_T027                         0.088393\n",
       "Trap_T008                         0.083843\n",
       "Trap_T011                         0.082453\n",
       "Trap_T103                         0.081075\n",
       "Trap_T114                         0.079433\n",
       "Trap_T065                         0.077643\n",
       "Trap_T015                         0.074586\n",
       "zipcode_60018                     0.071882\n",
       "Trap_T070                         0.071635\n",
       "Trap_T226                         0.069803\n",
       "Trap_T014                         0.067555\n",
       "Trap_T231                         0.067327\n",
       "zipcode_60656                     0.066726\n",
       "Trap_T095                         0.063770\n",
       "Trap_T086                         0.063176\n",
       "Trap_T115                         0.062994\n",
       "Trap_T082                         0.061665\n",
       "Trap_T107                         0.058984\n",
       "Trap_T067                         0.058123\n",
       "Trap_T903                         0.056238\n",
       "zipcode_60106                     0.056238\n",
       "Trap_T160                         0.053339\n",
       "AddressAccuracy                   0.052294\n",
       "Trap_T081                         0.051946\n",
       "Trap_T061                         0.050109\n",
       "Trap_T035                         0.050108\n",
       "zipcode_60655                     0.049512\n",
       "Trap_T028                         0.048905\n",
       "zipcode_60659                     0.048905\n",
       "Trap_T006                         0.048578\n",
       "Trap_T147                         0.047957\n",
       "zipcode_60652                     0.046591\n",
       "Trap_T047                         0.046014\n",
       "zipcode_60639                     0.044996\n",
       "DewPoint                          0.040679\n",
       "zipcode_60621                     0.040261\n",
       "Trap_T235                         0.040261\n",
       "Trap_T030                         0.038734\n",
       "Trap_T218                         0.037036\n",
       "Trap_T227                         0.036037\n",
       "Trap_T128                         0.035042\n",
       "Trap_T045                         0.031860\n",
       "zipcode_60634                     0.031697\n",
       "zipcode_60614                     0.031652\n",
       "Trap_T016                         0.030099\n",
       "zipcode_60632                     0.029147\n",
       "Trap_T156                         0.028878\n",
       "zipcode_60646                     0.027328\n",
       "zipcode_60609                     0.026183\n",
       "Trap_T233                         0.023403\n",
       "Trap_T005                         0.022242\n",
       "Trap_T135                         0.020819\n",
       "zipcode_60803                     0.020819\n",
       "Trap_T221                         0.018679\n",
       "zipcode_60633                     0.018679\n",
       "Trap_T054                         0.017277\n",
       "Trap_T097                         0.016152\n",
       "zipcode_60827                     0.016152\n",
       "zipcode_60629                     0.015771\n",
       "zipcode_60622                     0.014420\n",
       "zipcode_60651                     0.013839\n",
       "Trap_T089                         0.012007\n",
       "Trap_T031                         0.010444\n",
       "Trap_T091                         0.009197\n",
       "zipcode_60643                     0.008973\n",
       "Trap_T158                         0.008864\n",
       "zipcode_60630                     0.008292\n",
       "Trap_T073                         0.007824\n",
       "Trap_T083                         0.007165\n",
       "Trap_T151                         0.006163\n",
       "Trap_T054C                        0.006092\n",
       "Trap_T066                         0.005772\n",
       "Trap_T090                         0.004754\n",
       "zipcode_60607                     0.004754\n",
       "zipcode_60625                     0.003719\n",
       "Trap_T220                         0.003719\n",
       "zipcode_60608                     0.002346\n",
       "zipcode_60707                     0.001994\n",
       "Trap_T159                         0.001152\n",
       "zipcode_60620                     0.001152\n",
       "MI_dummy                          0.000000\n",
       "PY_dummy                          0.000000\n",
       "FC_dummy                          0.000000\n",
       "BL_dummy                          0.000000\n",
       "SS_dummy                          0.000000\n",
       "PR_dummy                          0.000000\n",
       "GR_dummy                          0.000000\n",
       "SA_dummy                          0.000000\n",
       "SN_dummy                          0.000000\n",
       "SG_dummy                          0.000000\n",
       "GS_dummy                          0.000000\n",
       "PL_dummy                          0.000000\n",
       "IC_dummy                          0.000000\n",
       "VA_dummy                          0.000000\n",
       "FG+_dummy                         0.000000\n",
       "PO_dummy                          0.000000\n",
       "DS_dummy                          0.000000\n",
       "UP_dummy                          0.000000\n",
       "BC_dummy                          0.000000\n",
       "FU_dummy                          0.000000\n",
       "+FC_dummy                         0.000000\n",
       "SQ_dummy                          0.000000\n",
       "Species_UNSPECIFIED CULEX         0.000000\n",
       "Trap_T200B                        0.000000\n",
       "Trap_T002A                        0.000000\n",
       "Trap_T002B                        0.000000\n",
       "Trap_T065A                        0.000000\n",
       "Trap_T090A                        0.000000\n",
       "Trap_T090B                        0.000000\n",
       "Trap_T090C                        0.000000\n",
       "Trap_T128A                        0.000000\n",
       "Trap_T200A                        0.000000\n",
       "Trap_T218A                        0.000000\n",
       "Trap_T218B                        0.000000\n",
       "Trap_T218C                        0.000000\n",
       "Trap_T234                         0.000000\n",
       "FZ_dummy                          0.000000\n",
       "SH_dummy                          0.000000\n",
       "Depth                             0.000000\n",
       "SnowFall                          0.000000\n",
       "DR_dummy                          0.000000\n",
       "DU_dummy                          0.000000\n",
       "Trap_T094                        -0.000680\n",
       "Trap_T036                        -0.001074\n",
       "zipcode_60628                    -0.002237\n",
       "Trap_T084                        -0.002237\n",
       "Trap_T037                        -0.009635\n",
       "Trap_T212                        -0.009737\n",
       "zipcode_60660                    -0.009874\n",
       "Trap_T142                        -0.010375\n",
       "Trap_T236                        -0.010841\n",
       "Heat                             -0.010851\n",
       "Trap_T039                        -0.010976\n",
       "zipcode_Unk                      -0.010977\n",
       "Trap_T080                        -0.011462\n",
       "Trap_T162                        -0.012178\n",
       "zipcode_60618                    -0.012939\n",
       "Trap_T232                        -0.014072\n",
       "zipcode_60619                    -0.015770\n",
       "Trap_T009                        -0.016115\n",
       "zipcode_60637                    -0.018086\n",
       "Trap_T033                        -0.018500\n",
       "Trap_T138                        -0.020877\n",
       "Trap_T077                        -0.025261\n",
       "Trap_T224                        -0.025909\n",
       "zipcode_60613                    -0.025909\n",
       "Trap_T085                        -0.028575\n",
       "Trap_T152                        -0.030915\n",
       "Trap_T154                        -0.031370\n",
       "zipcode_60641                    -0.035270\n",
       "Trap_T069                        -0.038599\n",
       "Trap_T063                        -0.041302\n",
       "Block                            -0.044183\n",
       "BR_dummy                         -0.044692\n",
       "zipcode_60642                    -0.046662\n",
       "Trap_T049                        -0.046662\n",
       "Trap_T048                        -0.048751\n",
       "Trap_T012                        -0.050709\n",
       "Trap_T102                        -0.053862\n",
       "zipcode_60623                    -0.055710\n",
       "Trap_T144                        -0.056298\n",
       "Trap_T079                        -0.056924\n",
       "zipcode_60649                    -0.056924\n",
       "Trap_T209                        -0.060670\n",
       "Species_CULEX ERRATICUS          -0.067001\n",
       "Trap_T040                        -0.070626\n",
       "Trap_T062                        -0.080038\n",
       "zipcode_60636                    -0.080923\n",
       "zipcode_60617                    -0.081721\n",
       "Trap_T074                        -0.081842\n",
       "Tavg                             -0.091355\n",
       "Trap_T222                        -0.092036\n",
       "zipcode_60638                    -0.098050\n",
       "Trap_T145                        -0.103456\n",
       "zipcode_60612                    -0.104557\n",
       "Trap_T076                        -0.108949\n",
       "Trap_T237                        -0.109871\n",
       "Trap_T094B                       -0.111743\n",
       "zipcode_60647                    -0.112192\n",
       "Trap_T050                        -0.112192\n",
       "Species_CULEX TARSALIS           -0.112816\n",
       "VC_dummy                         -0.114407\n",
       "Trap_T150                        -0.118669\n",
       "Trap_T238                        -0.124601\n",
       "Trap_T229                        -0.129068\n",
       "Trap_T075                        -0.129245\n",
       "zipcode_60615                    -0.129245\n",
       "Trap_T219                        -0.138604\n",
       "zipcode_60640                    -0.138604\n",
       "Trap_T129                        -0.139528\n",
       "zipcode_60611                    -0.139528\n",
       "Trap_T078                        -0.143341\n",
       "Trap_T200                        -0.153752\n",
       "zipcode_60605                    -0.162562\n",
       "Trap_T092                        -0.162562\n",
       "DZ_dummy                         -0.174444\n",
       "Trap_T060                        -0.177387\n",
       "Trap_T044                        -0.181544\n",
       "Trap_T018                        -0.188560\n",
       "Trap_T001                        -0.193921\n",
       "Trap_T004                        -0.198022\n",
       "Trap_T051                        -0.207836\n",
       "Trap_T149                        -0.207926\n",
       "Trap_T072                        -0.208161\n",
       "Trap_T141                        -0.214643\n",
       "Trap_T148                        -0.216883\n",
       "zipcode_60645                    -0.216883\n",
       "zipcode_60626                    -0.222897\n",
       "Trap_T157                        -0.230320\n",
       "Trap_T019                        -0.233582\n",
       "Trap_T100                        -0.234199\n",
       "Trap_T071                        -0.236410\n",
       "Trap_T034                        -0.237953\n",
       "Trap_T088                        -0.259365\n",
       "Trap_T007                        -0.260110\n",
       "Trap_T206                        -0.266266\n",
       "Trap_T025                        -0.278315\n",
       "Trap_T161                        -0.279937\n",
       "Trap_T046                        -0.282302\n",
       "zipcode_60654                    -0.282302\n",
       "Trap_T146                        -0.286545\n",
       "Trap_T153                        -0.318330\n",
       "Trap_T099                        -0.333950\n",
       "Species_CULEX RESTUANS           -0.353180\n",
       "RA_dummy                         -0.396906\n",
       "ResultSpeed                      -0.400418\n",
       "HZ_dummy                         -0.405071\n",
       "Trap_T043                        -0.424560\n",
       "PrecipTotal                      -0.428015\n",
       "Trap_T017                        -0.459234\n",
       "Species_CULEX SALINARIUS         -0.493712\n",
       "Tmax                             -0.504817\n",
       "Cool                             -0.510123\n",
       "StnPressure                      -0.709698\n",
       "Species_CULEX TERRITANS          -0.763109\n",
       "Name: coef, dtype: float64"
      ]
     },
     "execution_count": 11,
     "metadata": {},
     "output_type": "execute_result"
    }
   ],
   "source": [
    "#printing the model coefs\n",
    "lr.fit(X_train, y_train)\n",
    "lr_coefs = pd.DataFrame(lr.coef_, columns=X.columns, index=['coef']).T\n",
    "lr_coefs.coef.sort_values(ascending=False)\n",
    "#higher coefs are more likely to indicate WNV"
   ]
  },
  {
   "cell_type": "markdown",
   "metadata": {},
   "source": [
    "# ROC AUC Score"
   ]
  },
  {
   "cell_type": "code",
   "execution_count": 12,
   "metadata": {},
   "outputs": [
    {
     "data": {
      "text/plain": [
       "0.8069875020629653"
      ]
     },
     "execution_count": 12,
     "metadata": {},
     "output_type": "execute_result"
    }
   ],
   "source": [
    "#roc auc score\n",
    "lr_proba = lr.predict_proba(X_test)\n",
    "roc_auc_score(y_test, lr_proba[:, 1])"
   ]
  },
  {
   "cell_type": "markdown",
   "metadata": {},
   "source": [
    "# Random Forest Model"
   ]
  },
  {
   "cell_type": "code",
   "execution_count": 13,
   "metadata": {},
   "outputs": [
    {
     "data": {
      "text/plain": [
       "0.951979103877838"
      ]
     },
     "execution_count": 13,
     "metadata": {},
     "output_type": "execute_result"
    }
   ],
   "source": [
    "rf.fit(X_train, y_train)\n",
    "#rf.score(X_test, y_test)"
   ]
  },
  {
   "cell_type": "code",
   "execution_count": 14,
   "metadata": {},
   "outputs": [
    {
     "data": {
      "text/plain": [
       "0.9883315284740902"
      ]
     },
     "execution_count": 14,
     "metadata": {},
     "output_type": "execute_result"
    }
   ],
   "source": [
    "rf_proba = rf.predict_proba(X_test)\n",
    "roc_auc_score(y_test, rf_proba[:, 1])"
   ]
  },
  {
   "cell_type": "markdown",
   "metadata": {},
   "source": [
    "# Prepping for Export"
   ]
  },
  {
   "cell_type": "code",
   "execution_count": 15,
   "metadata": {},
   "outputs": [],
   "source": [
    "test_ss = ss.transform(test.drop(['Date', 'Latitude', 'Longitude', 'Sprays_In_Last_Month'], axis=1))"
   ]
  },
  {
   "cell_type": "code",
   "execution_count": 16,
   "metadata": {},
   "outputs": [
    {
     "data": {
      "text/plain": [
       "array([0, 0, 0, ..., 0, 0, 0])"
      ]
     },
     "execution_count": 16,
     "metadata": {},
     "output_type": "execute_result"
    }
   ],
   "source": [
    "rf_preds = rf.predict(test_ss)\n",
    "rf_preds"
   ]
  },
  {
   "cell_type": "code",
   "execution_count": 17,
   "metadata": {},
   "outputs": [],
   "source": [
    "#exporting to csv\n",
    "pd.DataFrame({'WnvPresent':rf_preds}, index=test.index).to_csv('./preds4.csv')"
   ]
  },
  {
   "cell_type": "code",
   "execution_count": null,
   "metadata": {},
   "outputs": [],
   "source": []
  }
 ],
 "metadata": {
  "kernelspec": {
   "display_name": "Python 3",
   "language": "python",
   "name": "python3"
  },
  "language_info": {
   "codemirror_mode": {
    "name": "ipython",
    "version": 3
   },
   "file_extension": ".py",
   "mimetype": "text/x-python",
   "name": "python",
   "nbconvert_exporter": "python",
   "pygments_lexer": "ipython3",
   "version": "3.6.5"
  }
 },
 "nbformat": 4,
 "nbformat_minor": 2
}
