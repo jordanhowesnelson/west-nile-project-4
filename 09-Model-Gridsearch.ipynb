{
 "cells": [
  {
   "cell_type": "markdown",
   "metadata": {},
   "source": [
    "# Import Libraries"
   ]
  },
  {
   "cell_type": "code",
   "execution_count": 1,
   "metadata": {},
   "outputs": [],
   "source": [
    "import pandas as pd\n",
    "pd.set_option(\"display.max_columns\",500)\n",
    "pd.set_option(\"display.max_rows\",500)\n",
    "\n",
    "from sklearn.model_selection import train_test_split, cross_val_score\n",
    "from sklearn.metrics import accuracy_score\n",
    "from sklearn.linear_model import LogisticRegression\n",
    "from sklearn.neighbors import KNeighborsClassifier\n",
    "from sklearn.naive_bayes import MultinomialNB\n",
    "from sklearn.tree import DecisionTreeClassifier, ExtraTreeClassifier\n",
    "from sklearn.ensemble import BaggingClassifier, RandomForestClassifier, VotingClassifier, GradientBoostingClassifier, AdaBoostClassifier\n",
    "from sklearn import svm"
   ]
  },
  {
   "cell_type": "markdown",
   "metadata": {},
   "source": [
    "# Basic Model\n",
    "## Import Train/Test Data"
   ]
  },
  {
   "cell_type": "code",
   "execution_count": 2,
   "metadata": {},
   "outputs": [],
   "source": [
    "#import data\n",
    "test = pd.read_csv('./data/west_nile_test.csv', index_col=0)\n",
    "train = pd.read_csv('./data/west_nile_train.csv', index_col=0)"
   ]
  },
  {
   "cell_type": "markdown",
   "metadata": {},
   "source": [
    "## Set X and y variables"
   ]
  },
  {
   "cell_type": "code",
   "execution_count": 3,
   "metadata": {},
   "outputs": [],
   "source": [
    "#id X and y\n",
    "X = train.drop(['Date', 'NumMosquitos', 'WnvPresent'], axis=1)\n",
    "y = train.WnvPresent"
   ]
  },
  {
   "cell_type": "markdown",
   "metadata": {},
   "source": [
    "## Train Test Split"
   ]
  },
  {
   "cell_type": "code",
   "execution_count": 4,
   "metadata": {},
   "outputs": [],
   "source": [
    "#train split\n",
    "X_train, X_test, y_train, y_test = train_test_split(X, y)"
   ]
  },
  {
   "cell_type": "markdown",
   "metadata": {},
   "source": [
    "## Cross Val Score Potential Classification Models"
   ]
  },
  {
   "cell_type": "code",
   "execution_count": 5,
   "metadata": {},
   "outputs": [
    {
     "name": "stdout",
     "output_type": "stream",
     "text": [
      "lr 0.9472014791451411\n",
      "knn 0.9436473737318808\n",
      "dt 0.9458047504244688\n",
      "et 0.9458047504244688\n",
      "bag 0.9458047504244688\n",
      "rf 0.9449162482401919\n",
      "gb 0.9465666551863735\n",
      "ad 0.9472014791451411\n",
      "svm 0.9472014791451411\n"
     ]
    }
   ],
   "source": [
    "#cross val score all potential classification models\n",
    "lr = LogisticRegression() \n",
    "knn = KNeighborsClassifier() \n",
    "#nb = MultinomialNB() won't take neg vals\n",
    "dt = DecisionTreeClassifier() \n",
    "et = ExtraTreeClassifier()\n",
    "bag = BaggingClassifier()\n",
    "rf = RandomForestClassifier()\n",
    "gb = GradientBoostingClassifier()\n",
    "ad = AdaBoostClassifier()\n",
    "svm1 = svm.SVC()\n",
    "\n",
    "\n",
    "print('lr', cross_val_score(lr, X_train, y_train).mean())\n",
    "print('knn', cross_val_score(knn, X_train, y_train).mean())\n",
    "#print('nb', cross_val_score(nb, X_train, y_train).mean()) \n",
    "print('dt', cross_val_score(dt, X_train, y_train).mean()) \n",
    "print('et', cross_val_score(et, X_train, y_train).mean()) \n",
    "print('bag', cross_val_score(bag, X_train, y_train).mean())\n",
    "print('rf', cross_val_score(rf, X_train, y_train).mean()) \n",
    "print('gb', cross_val_score(gb, X_train, y_train).mean()) \n",
    "print('ad', cross_val_score(ad, X_train, y_train).mean()) \n",
    "print('svm', cross_val_score(svm1, X_train, y_train).mean())"
   ]
  },
  {
   "cell_type": "markdown",
   "metadata": {},
   "source": [
    "- All models seem to reveal similar enough results. \n",
    "- LogReg choosen for ease of interpretability."
   ]
  },
  {
   "cell_type": "code",
   "execution_count": 6,
   "metadata": {},
   "outputs": [
    {
     "data": {
      "text/plain": [
       "0.9486105824133994"
      ]
     },
     "execution_count": 6,
     "metadata": {},
     "output_type": "execute_result"
    }
   ],
   "source": [
    "#fit and score\n",
    "lr.fit(X_train, y_train)\n",
    "lr.score(X_test, y_test)"
   ]
  },
  {
   "cell_type": "code",
   "execution_count": 7,
   "metadata": {},
   "outputs": [
    {
     "data": {
      "text/plain": [
       "Species_CULEX PIPIENS             1.415700\n",
       "zipcode_60631                     1.179664\n",
       "Trap_T003                         1.130706\n",
       "Trap_T228                         0.923288\n",
       "Species_CULEX PIPIENS/RESTUANS    0.876572\n",
       "Trap_T096                         0.825998\n",
       "Trap_T225                         0.799235\n",
       "Trap_T002                         0.776093\n",
       "zipcode_60656                     0.772163\n",
       "Trap_T061                         0.766347\n",
       "Trap_T006                         0.750869\n",
       "Trap_T231                         0.729822\n",
       "Trap_T128                         0.716716\n",
       "Trap_T107                         0.649172\n",
       "Trap_T008                         0.606829\n",
       "Trap_T005                         0.603370\n",
       "Trap_T900                         0.596111\n",
       "zipcode_60666                     0.596111\n",
       "Trap_T086                         0.566806\n",
       "Trap_T013                         0.560434\n",
       "Trap_T070                         0.551483\n",
       "Trap_T030                         0.548906\n",
       "Trap_T014                         0.526919\n",
       "Trap_T009                         0.519324\n",
       "Trap_T028                         0.515498\n",
       "zipcode_60659                     0.515498\n",
       "Trap_T143                         0.492483\n",
       "Trap_T035                         0.457165\n",
       "Trap_T235                         0.448004\n",
       "zipcode_60621                     0.448004\n",
       "zipcode_60660                     0.446248\n",
       "zipcode_60634                     0.423839\n",
       "Trap_T221                         0.415792\n",
       "zipcode_60633                     0.415792\n",
       "Trap_T114                         0.391646\n",
       "Trap_T230                         0.387939\n",
       "Trap_T089                         0.386077\n",
       "Trap_T103                         0.379974\n",
       "Trap_T082                         0.362660\n",
       "Trap_T223                         0.352493\n",
       "zipcode_60106                     0.350905\n",
       "Trap_T903                         0.350905\n",
       "Trap_T011                         0.347553\n",
       "zipcode_60639                     0.341100\n",
       "Trap_T154                         0.336084\n",
       "zipcode_60018                     0.332751\n",
       "Trap_T054C                        0.330881\n",
       "Trap_T027                         0.327973\n",
       "Trap_T115                         0.324808\n",
       "Trap_T066                         0.285701\n",
       "zipcode_60622                     0.276811\n",
       "zipcode_60643                     0.276563\n",
       "Trap_T232                         0.264446\n",
       "zipcode_60652                     0.262223\n",
       "zipcode_60646                     0.260344\n",
       "Trap_T039                         0.234624\n",
       "Trap_T090                         0.233355\n",
       "zipcode_60607                     0.233355\n",
       "Trap_T015                         0.233097\n",
       "zipcode_60651                     0.229022\n",
       "Trap_T227                         0.225939\n",
       "Trap_T147                         0.225893\n",
       "zipcode_60609                     0.217897\n",
       "Trap_T081                         0.201309\n",
       "Trap_T158                         0.187419\n",
       "Trap_T142                         0.180395\n",
       "zipcode_60655                     0.178101\n",
       "zipcode_60614                     0.175135\n",
       "Trap_T233                         0.165416\n",
       "Trap_T218                         0.153874\n",
       "zipcode_60707                     0.152430\n",
       "Trap_T036                         0.133460\n",
       "Trap_T138                         0.129263\n",
       "zipcode_60618                     0.128734\n",
       "Trap_T065                         0.124129\n",
       "zipcode_60638                     0.109072\n",
       "Trap_T212                         0.088743\n",
       "Trap_T151                         0.082961\n",
       "Trap_T160                         0.074367\n",
       "Trap_T135                         0.073935\n",
       "zipcode_60803                     0.073935\n",
       "Trap_T037                         0.069469\n",
       "Trap_T215                         0.041454\n",
       "Trap_T077                         0.040771\n",
       "Trap_T236                         0.034087\n",
       "zipcode_Unk                       0.030089\n",
       "Trap_T047                         0.019616\n",
       "Trap_T080                         0.002666\n",
       "Block                             0.000969\n",
       "Trap_T218C                        0.000000\n",
       "Species_CULEX ERRATICUS           0.000000\n",
       "Trap_T234                         0.000000\n",
       "Trap_T090C                        0.000000\n",
       "Trap_T218B                        0.000000\n",
       "Trap_T065A                        0.000000\n",
       "Trap_T002A                        0.000000\n",
       "Trap_T090A                        0.000000\n",
       "Trap_T090B                        0.000000\n",
       "Trap_T128A                        0.000000\n",
       "Trap_T200A                        0.000000\n",
       "Trap_T200B                        0.000000\n",
       "Trap_T218A                        0.000000\n",
       "Species_UNSPECIFIED CULEX         0.000000\n",
       "Trap_T002B                        0.000000\n",
       "Trap_T159                        -0.001351\n",
       "zipcode_60620                    -0.001351\n",
       "Trap_T031                        -0.004128\n",
       "AddressAccuracy                  -0.008088\n",
       "Trap_T095                        -0.009318\n",
       "Longitude                        -0.015128\n",
       "zipcode_60630                    -0.022646\n",
       "Trap_T067                        -0.025174\n",
       "Trap_T040                        -0.033945\n",
       "Trap_T045                        -0.043793\n",
       "Trap_T152                        -0.047358\n",
       "Trap_T033                        -0.062002\n",
       "Trap_T238                        -0.066335\n",
       "zipcode_60632                    -0.077540\n",
       "Trap_T076                        -0.077845\n",
       "Trap_T237                        -0.080035\n",
       "Species_CULEX TARSALIS           -0.085671\n",
       "zipcode_60629                    -0.097481\n",
       "Trap_T012                        -0.099320\n",
       "Trap_T054                        -0.111953\n",
       "Trap_T085                        -0.116565\n",
       "Trap_T229                        -0.117824\n",
       "Trap_T044                        -0.118988\n",
       "Trap_T220                        -0.119393\n",
       "zipcode_60625                    -0.119393\n",
       "Trap_T094B                       -0.123562\n",
       "Trap_T226                        -0.123862\n",
       "zipcode_60613                    -0.124962\n",
       "Trap_T224                        -0.124962\n",
       "Trap_T209                        -0.127643\n",
       "Latitude                         -0.128618\n",
       "zipcode_60623                    -0.159754\n",
       "Trap_T051                        -0.178722\n",
       "Trap_T069                        -0.187772\n",
       "Trap_T034                        -0.200284\n",
       "Trap_T078                        -0.204851\n",
       "Trap_T048                        -0.205314\n",
       "Trap_T155                        -0.210900\n",
       "Trap_T083                        -0.211814\n",
       "Trap_T063                        -0.211911\n",
       "zipcode_60641                    -0.214093\n",
       "Trap_T150                        -0.218621\n",
       "Trap_T073                        -0.224136\n",
       "Trap_T016                        -0.229103\n",
       "zipcode_60637                    -0.261210\n",
       "Trap_T094                        -0.261394\n",
       "Trap_T097                        -0.266659\n",
       "zipcode_60827                    -0.266659\n",
       "Trap_T050                        -0.273335\n",
       "zipcode_60647                    -0.273335\n",
       "Trap_T149                        -0.283574\n",
       "Trap_T079                        -0.288540\n",
       "zipcode_60649                    -0.288540\n",
       "Trap_T004                        -0.288656\n",
       "Trap_T091                        -0.299080\n",
       "Trap_T219                        -0.303620\n",
       "zipcode_60640                    -0.303620\n",
       "Species_CULEX RESTUANS           -0.312928\n",
       "zipcode_60642                    -0.316580\n",
       "Trap_T049                        -0.316580\n",
       "Trap_T206                        -0.325999\n",
       "zipcode_60605                    -0.333984\n",
       "Trap_T092                        -0.333984\n",
       "zipcode_60615                    -0.336354\n",
       "Trap_T075                        -0.336354\n",
       "Trap_T157                        -0.340894\n",
       "Trap_T060                        -0.341291\n",
       "zipcode_60628                    -0.344486\n",
       "Trap_T084                        -0.344486\n",
       "zipcode_60619                    -0.349416\n",
       "zipcode_60611                    -0.349733\n",
       "Trap_T129                        -0.349733\n",
       "Trap_T162                        -0.352082\n",
       "Trap_T141                        -0.363118\n",
       "Trap_T001                        -0.367967\n",
       "zipcode_60617                    -0.376321\n",
       "Trap_T102                        -0.379384\n",
       "Trap_T156                        -0.383181\n",
       "Trap_T072                        -0.390641\n",
       "zipcode_60636                    -0.392623\n",
       "Trap_T088                        -0.413338\n",
       "Trap_T100                        -0.416083\n",
       "Trap_T019                        -0.419123\n",
       "Trap_T071                        -0.429717\n",
       "Trap_T043                        -0.436066\n",
       "Trap_T018                        -0.452958\n",
       "Trap_T062                        -0.469185\n",
       "Trap_T145                        -0.496544\n",
       "Trap_T025                        -0.501578\n",
       "zipcode_60612                    -0.512709\n",
       "Trap_T099                        -0.521668\n",
       "Trap_T144                        -0.526917\n",
       "zipcode_60645                    -0.570915\n",
       "Trap_T148                        -0.570915\n",
       "Trap_T146                        -0.601324\n",
       "Trap_T007                        -0.609224\n",
       "Trap_T161                        -0.614720\n",
       "zipcode_60626                    -0.671580\n",
       "zipcode_60654                    -0.705652\n",
       "Trap_T046                        -0.705652\n",
       "Trap_T153                        -0.707822\n",
       "Trap_T200                        -0.753581\n",
       "Trap_T074                        -0.771128\n",
       "Trap_T222                        -0.790042\n",
       "Species_CULEX SALINARIUS         -0.803301\n",
       "Trap_T017                        -0.956655\n",
       "zipcode_60608                    -0.965682\n",
       "Species_CULEX TERRITANS          -1.101204\n",
       "Name: coef, dtype: float64"
      ]
     },
     "execution_count": 7,
     "metadata": {},
     "output_type": "execute_result"
    }
   ],
   "source": [
    "lr_coefs = pd.DataFrame(lr.coef_, columns=X.columns, index=['coef']).T\n",
    "lr_coefs.coef.sort_values(ascending=False)\n",
    "#higher coefs are more likely to indicate WNV"
   ]
  },
  {
   "cell_type": "markdown",
   "metadata": {},
   "source": [
    "# Balanced Model\n",
    "## Import Data"
   ]
  },
  {
   "cell_type": "code",
   "execution_count": 8,
   "metadata": {},
   "outputs": [],
   "source": [
    "#import data\n",
    "balenced_train = pd.read_csv('./data/BALANCED_west_nile_train.csv', index_col=0)"
   ]
  },
  {
   "cell_type": "code",
   "execution_count": 9,
   "metadata": {},
   "outputs": [
    {
     "data": {
      "text/plain": [
       "0    9955\n",
       "1    9951\n",
       "Name: WnvPresent, dtype: int64"
      ]
     },
     "execution_count": 9,
     "metadata": {},
     "output_type": "execute_result"
    }
   ],
   "source": [
    "balenced_train.WnvPresent.value_counts()"
   ]
  },
  {
   "cell_type": "markdown",
   "metadata": {},
   "source": [
    "# Set X and y variables"
   ]
  },
  {
   "cell_type": "code",
   "execution_count": 10,
   "metadata": {},
   "outputs": [],
   "source": [
    "#id X and y\n",
    "X = balenced_train.drop(['Date', 'NumMosquitos', 'WnvPresent', 'Latitude', 'Longitude'], axis=1)\n",
    "y = balenced_train.WnvPresent"
   ]
  },
  {
   "cell_type": "markdown",
   "metadata": {},
   "source": [
    "# Train Test Split"
   ]
  },
  {
   "cell_type": "code",
   "execution_count": 11,
   "metadata": {},
   "outputs": [],
   "source": [
    "#train split\n",
    "X_train, X_test, y_train, y_test = train_test_split(X, y)"
   ]
  },
  {
   "cell_type": "markdown",
   "metadata": {},
   "source": [
    "# Cross Val Score Potential Classification Models"
   ]
  },
  {
   "cell_type": "code",
   "execution_count": 12,
   "metadata": {},
   "outputs": [
    {
     "name": "stdout",
     "output_type": "stream",
     "text": [
      "lr 0.6870525825834012\n",
      "knn 0.6672926079732262\n",
      "dt 0.7043333605944128\n",
      "et 0.7039984599172947\n",
      "bag 0.7056059347033203\n",
      "rf 0.7033951755966895\n",
      "gb 0.6822958136742248\n",
      "ad 0.6680951472249737\n"
     ]
    }
   ],
   "source": [
    "#cross val score all potential classification models\n",
    "lr = LogisticRegression() \n",
    "knn = KNeighborsClassifier() \n",
    "#nb = MultinomialNB() won't take neg vals\n",
    "dt = DecisionTreeClassifier() \n",
    "et = ExtraTreeClassifier()\n",
    "bag = BaggingClassifier()\n",
    "rf = RandomForestClassifier()\n",
    "gb = GradientBoostingClassifier()\n",
    "ad = AdaBoostClassifier()\n",
    "#svm1 = svm.SVC() #takes a long time, doesn't score partic well.\n",
    "\n",
    "\n",
    "print('lr', cross_val_score(lr, X_train, y_train).mean())\n",
    "print('knn', cross_val_score(knn, X_train, y_train).mean())\n",
    "#print('nb', cross_val_score(nb, X_train, y_train).mean()) \n",
    "print('dt', cross_val_score(dt, X_train, y_train).mean()) \n",
    "print('et', cross_val_score(et, X_train, y_train).mean()) \n",
    "print('bag', cross_val_score(bag, X_train, y_train).mean())\n",
    "print('rf', cross_val_score(rf, X_train, y_train).mean()) \n",
    "print('gb', cross_val_score(gb, X_train, y_train).mean()) \n",
    "print('ad', cross_val_score(ad, X_train, y_train).mean()) \n",
    "#print('svm', cross_val_score(svm1, X_train, y_train).mean()) #.644\n"
   ]
  },
  {
   "cell_type": "code",
   "execution_count": 13,
   "metadata": {},
   "outputs": [
    {
     "data": {
      "text/plain": [
       "Trap_T225                         2.213412\n",
       "Trap_T003                         2.213201\n",
       "Species_CULEX PIPIENS             2.139395\n",
       "Trap_T228                         2.123916\n",
       "zipcode_60631                     1.579941\n",
       "Trap_T230                         1.577707\n",
       "Species_CULEX PIPIENS/RESTUANS    1.572804\n",
       "Trap_T096                         1.525884\n",
       "Trap_T231                         1.501315\n",
       "Trap_T128                         1.496060\n",
       "Trap_T014                         1.358716\n",
       "Trap_T215                         1.353844\n",
       "Trap_T155                         1.337028\n",
       "Trap_T047                         1.209893\n",
       "Trap_T002                         1.194072\n",
       "zipcode_60656                     1.152549\n",
       "Trap_T013                         1.127963\n",
       "Trap_T027                         1.088643\n",
       "Trap_T107                         1.049298\n",
       "Trap_T086                         1.033620\n",
       "Trap_T082                         0.980592\n",
       "Trap_T035                         0.967150\n",
       "Trap_T070                         0.960735\n",
       "Trap_T114                         0.952353\n",
       "Trap_T008                         0.949774\n",
       "Trap_T103                         0.939981\n",
       "Trap_T011                         0.925039\n",
       "Trap_T061                         0.917476\n",
       "Trap_T227                         0.911315\n",
       "Trap_T005                         0.843415\n",
       "zipcode_60666                     0.832372\n",
       "Trap_T900                         0.832372\n",
       "Trap_T083                         0.792666\n",
       "Trap_T081                         0.786302\n",
       "Trap_T235                         0.757564\n",
       "zipcode_60621                     0.757564\n",
       "Trap_T065                         0.716421\n",
       "Trap_T223                         0.707377\n",
       "Trap_T030                         0.703007\n",
       "Trap_T028                         0.681775\n",
       "zipcode_60659                     0.681775\n",
       "Trap_T226                         0.666974\n",
       "Trap_T143                         0.664170\n",
       "zipcode_60614                     0.643489\n",
       "zipcode_60639                     0.639354\n",
       "zipcode_60018                     0.636308\n",
       "zipcode_60655                     0.628458\n",
       "Trap_T006                         0.587519\n",
       "zipcode_60622                     0.573505\n",
       "Trap_T015                         0.551584\n",
       "Trap_T031                         0.533678\n",
       "Trap_T009                         0.529896\n",
       "Trap_T154                         0.527418\n",
       "zipcode_60633                     0.524362\n",
       "Trap_T221                         0.524362\n",
       "Trap_T091                         0.521590\n",
       "Trap_T115                         0.513435\n",
       "Trap_T045                         0.511718\n",
       "Trap_T233                         0.483931\n",
       "Trap_T147                         0.455796\n",
       "zipcode_60106                     0.453981\n",
       "Trap_T903                         0.453981\n",
       "zipcode_60629                     0.444474\n",
       "Trap_T218                         0.436146\n",
       "Trap_T162                         0.415695\n",
       "Trap_T089                         0.405482\n",
       "Trap_T066                         0.387892\n",
       "Trap_T048                         0.383820\n",
       "Trap_T220                         0.370374\n",
       "zipcode_60625                     0.370374\n",
       "zipcode_60660                     0.368576\n",
       "Trap_T067                         0.350970\n",
       "Trap_T158                         0.347159\n",
       "Trap_T033                         0.346960\n",
       "Species_CULEX RESTUANS            0.343464\n",
       "zipcode_60634                     0.339643\n",
       "Trap_T090                         0.324666\n",
       "zipcode_60607                     0.324666\n",
       "zipcode_60643                     0.319656\n",
       "zipcode_60646                     0.314602\n",
       "zipcode_60609                     0.304757\n",
       "Trap_T095                         0.281300\n",
       "Trap_T077                         0.276812\n",
       "zipcode_60619                     0.275507\n",
       "zipcode_60620                     0.273113\n",
       "Trap_T159                         0.273113\n",
       "zipcode_60651                     0.263650\n",
       "Trap_T073                         0.261292\n",
       "zipcode_60707                     0.245466\n",
       "Trap_T039                         0.243070\n",
       "Trap_T160                         0.230502\n",
       "Trap_T212                         0.208608\n",
       "Trap_T135                         0.207825\n",
       "zipcode_60803                     0.207825\n",
       "Trap_T063                         0.201824\n",
       "Trap_T138                         0.167854\n",
       "Trap_T151                         0.161297\n",
       "Trap_T094                         0.134580\n",
       "zipcode_60632                     0.129580\n",
       "Trap_T054C                        0.126719\n",
       "Trap_T142                         0.110325\n",
       "Trap_T037                         0.084169\n",
       "Trap_T012                         0.070458\n",
       "Trap_T156                         0.056582\n",
       "zipcode_60623                     0.032916\n",
       "zipcode_60637                     0.024027\n",
       "Trap_T152                         0.023971\n",
       "Trap_T054                         0.005051\n",
       "Trap_T234                         0.000000\n",
       "Trap_T200A                        0.000000\n",
       "Trap_T002A                        0.000000\n",
       "Trap_T128A                        0.000000\n",
       "Trap_T090A                        0.000000\n",
       "Trap_T200B                        0.000000\n",
       "Trap_T218C                        0.000000\n",
       "Trap_T090C                        0.000000\n",
       "Trap_T218A                        0.000000\n",
       "Trap_T090B                        0.000000\n",
       "Trap_T065A                        0.000000\n",
       "Trap_T218B                        0.000000\n",
       "Species_UNSPECIFIED CULEX         0.000000\n",
       "Trap_T002B                        0.000000\n",
       "Block                            -0.001243\n",
       "Trap_T232                        -0.003957\n",
       "zipcode_60613                    -0.034669\n",
       "Trap_T224                        -0.034669\n",
       "zipcode_60628                    -0.044081\n",
       "Trap_T084                        -0.044081\n",
       "zipcode_60652                    -0.062038\n",
       "Trap_T236                        -0.067711\n",
       "Trap_T069                        -0.073322\n",
       "zipcode_60638                    -0.075089\n",
       "Trap_T036                        -0.081292\n",
       "Trap_T040                        -0.111587\n",
       "Trap_T094B                       -0.116954\n",
       "zipcode_60649                    -0.118807\n",
       "Trap_T079                        -0.118807\n",
       "zipcode_Unk                      -0.133920\n",
       "AddressAccuracy                  -0.138821\n",
       "Trap_T080                        -0.140189\n",
       "Trap_T016                        -0.155680\n",
       "zipcode_60642                    -0.164865\n",
       "Trap_T049                        -0.164865\n",
       "zipcode_60618                    -0.181005\n",
       "zipcode_60827                    -0.246197\n",
       "Trap_T097                        -0.246197\n",
       "zipcode_60608                    -0.258978\n",
       "Species_CULEX ERRATICUS          -0.259067\n",
       "Trap_T209                        -0.322173\n",
       "Trap_T144                        -0.339382\n",
       "zipcode_60617                    -0.399915\n",
       "Trap_T237                        -0.440806\n",
       "Species_CULEX TARSALIS           -0.445422\n",
       "Trap_T085                        -0.498387\n",
       "Trap_T076                        -0.514077\n",
       "Trap_T102                        -0.544229\n",
       "zipcode_60641                    -0.621223\n",
       "Trap_T150                        -0.629552\n",
       "Trap_T238                        -0.735514\n",
       "zipcode_60630                    -0.744145\n",
       "Trap_T078                        -0.749143\n",
       "zipcode_60612                    -0.802440\n",
       "zipcode_60636                    -0.822465\n",
       "Trap_T062                        -0.822774\n",
       "Trap_T074                        -0.857624\n",
       "Trap_T004                        -0.874941\n",
       "Trap_T044                        -0.904651\n",
       "Trap_T141                        -0.922458\n",
       "zipcode_60615                    -0.955527\n",
       "Trap_T075                        -0.955527\n",
       "Trap_T145                        -0.986295\n",
       "Trap_T200                        -0.986888\n",
       "zipcode_60640                    -0.995119\n",
       "Trap_T219                        -0.995119\n",
       "zipcode_60647                    -1.002193\n",
       "Trap_T050                        -1.002193\n",
       "Trap_T001                        -1.057369\n",
       "Trap_T018                        -1.058636\n",
       "zipcode_60611                    -1.094309\n",
       "Trap_T129                        -1.094309\n",
       "Trap_T072                        -1.099129\n",
       "Trap_T088                        -1.107682\n",
       "Trap_T051                        -1.118259\n",
       "Trap_T229                        -1.123131\n",
       "Trap_T149                        -1.132739\n",
       "Trap_T025                        -1.159947\n",
       "zipcode_60605                    -1.171480\n",
       "Trap_T092                        -1.171480\n",
       "Trap_T034                        -1.217553\n",
       "Trap_T222                        -1.259097\n",
       "Trap_T019                        -1.353148\n",
       "zipcode_60645                    -1.374751\n",
       "Trap_T148                        -1.374751\n",
       "Trap_T146                        -1.407569\n",
       "Trap_T060                        -1.521989\n",
       "Trap_T046                        -1.536185\n",
       "zipcode_60654                    -1.536185\n",
       "Trap_T100                        -1.549422\n",
       "Trap_T099                        -1.565174\n",
       "Trap_T157                        -1.566452\n",
       "Trap_T071                        -1.632046\n",
       "zipcode_60626                    -1.688188\n",
       "Trap_T007                        -1.726562\n",
       "Trap_T206                        -1.754306\n",
       "Trap_T161                        -1.759086\n",
       "Species_CULEX SALINARIUS         -2.006952\n",
       "Trap_T153                        -2.017064\n",
       "Trap_T043                        -2.137600\n",
       "Trap_T017                        -2.393826\n",
       "Species_CULEX TERRITANS          -2.529321\n",
       "Name: coef, dtype: float64"
      ]
     },
     "execution_count": 13,
     "metadata": {},
     "output_type": "execute_result"
    }
   ],
   "source": [
    "lr.fit(X_train, y_train)\n",
    "lr_coefs = pd.DataFrame(lr.coef_, columns=X.columns, index=['coef']).T\n",
    "lr_coefs.coef.sort_values(ascending=False)\n",
    "#higher coefs are more likely to indicate WNV"
   ]
  },
  {
   "cell_type": "code",
   "execution_count": null,
   "metadata": {},
   "outputs": [],
   "source": []
  },
  {
   "cell_type": "markdown",
   "metadata": {},
   "source": [
    "## Gridsearch"
   ]
  },
  {
   "cell_type": "code",
   "execution_count": 14,
   "metadata": {},
   "outputs": [],
   "source": [
    "from sklearn.model_selection import GridSearchCV\n",
    "from sklearn.metrics import recall_score, make_scorer, f1_score"
   ]
  },
  {
   "cell_type": "code",
   "execution_count": 39,
   "metadata": {},
   "outputs": [
    {
     "name": "stdout",
     "output_type": "stream",
     "text": [
      "Fitting 5 folds for each of 40 candidates, totalling 200 fits\n"
     ]
    },
    {
     "name": "stderr",
     "output_type": "stream",
     "text": [
      "/anaconda3/lib/python3.6/site-packages/sklearn/linear_model/sag.py:326: ConvergenceWarning: The max_iter was reached which means the coef_ did not converge\n",
      "  \"the coef_ did not converge\", ConvergenceWarning)\n",
      "/anaconda3/lib/python3.6/site-packages/sklearn/linear_model/sag.py:326: ConvergenceWarning: The max_iter was reached which means the coef_ did not converge\n",
      "  \"the coef_ did not converge\", ConvergenceWarning)\n",
      "/anaconda3/lib/python3.6/site-packages/sklearn/linear_model/sag.py:326: ConvergenceWarning: The max_iter was reached which means the coef_ did not converge\n",
      "  \"the coef_ did not converge\", ConvergenceWarning)\n",
      "/anaconda3/lib/python3.6/site-packages/sklearn/linear_model/sag.py:326: ConvergenceWarning: The max_iter was reached which means the coef_ did not converge\n",
      "  \"the coef_ did not converge\", ConvergenceWarning)\n",
      "/anaconda3/lib/python3.6/site-packages/sklearn/linear_model/sag.py:326: ConvergenceWarning: The max_iter was reached which means the coef_ did not converge\n",
      "  \"the coef_ did not converge\", ConvergenceWarning)\n",
      "/anaconda3/lib/python3.6/site-packages/sklearn/linear_model/sag.py:326: ConvergenceWarning: The max_iter was reached which means the coef_ did not converge\n",
      "  \"the coef_ did not converge\", ConvergenceWarning)\n",
      "/anaconda3/lib/python3.6/site-packages/sklearn/linear_model/sag.py:326: ConvergenceWarning: The max_iter was reached which means the coef_ did not converge\n",
      "  \"the coef_ did not converge\", ConvergenceWarning)\n",
      "/anaconda3/lib/python3.6/site-packages/sklearn/linear_model/sag.py:326: ConvergenceWarning: The max_iter was reached which means the coef_ did not converge\n",
      "  \"the coef_ did not converge\", ConvergenceWarning)\n",
      "/anaconda3/lib/python3.6/site-packages/sklearn/linear_model/sag.py:326: ConvergenceWarning: The max_iter was reached which means the coef_ did not converge\n",
      "  \"the coef_ did not converge\", ConvergenceWarning)\n",
      "/anaconda3/lib/python3.6/site-packages/sklearn/linear_model/sag.py:326: ConvergenceWarning: The max_iter was reached which means the coef_ did not converge\n",
      "  \"the coef_ did not converge\", ConvergenceWarning)\n"
     ]
    },
    {
     "ename": "JoblibValueError",
     "evalue": "JoblibValueError\n___________________________________________________________________________\nMultiprocessing exception:\n...........................................................................\n/anaconda3/lib/python3.6/runpy.py in _run_module_as_main(mod_name='ipykernel_launcher', alter_argv=1)\n    188         sys.exit(msg)\n    189     main_globals = sys.modules[\"__main__\"].__dict__\n    190     if alter_argv:\n    191         sys.argv[0] = mod_spec.origin\n    192     return _run_code(code, main_globals, None,\n--> 193                      \"__main__\", mod_spec)\n        mod_spec = ModuleSpec(name='ipykernel_launcher', loader=<_f...b/python3.6/site-packages/ipykernel_launcher.py')\n    194 \n    195 def run_module(mod_name, init_globals=None,\n    196                run_name=None, alter_sys=False):\n    197     \"\"\"Execute a module's code without importing it\n\n...........................................................................\n/anaconda3/lib/python3.6/runpy.py in _run_code(code=<code object <module> at 0x1028306f0, file \"/ana...3.6/site-packages/ipykernel_launcher.py\", line 5>, run_globals={'__annotations__': {}, '__builtins__': <module 'builtins' (built-in)>, '__cached__': '/anaconda3/lib/python3.6/site-packages/__pycache__/ipykernel_launcher.cpython-36.pyc', '__doc__': 'Entry point for launching an IPython kernel.\\n\\nTh...orts until\\nafter removing the cwd from sys.path.\\n', '__file__': '/anaconda3/lib/python3.6/site-packages/ipykernel_launcher.py', '__loader__': <_frozen_importlib_external.SourceFileLoader object>, '__name__': '__main__', '__package__': '', '__spec__': ModuleSpec(name='ipykernel_launcher', loader=<_f...b/python3.6/site-packages/ipykernel_launcher.py'), 'app': <module 'ipykernel.kernelapp' from '/anaconda3/lib/python3.6/site-packages/ipykernel/kernelapp.py'>, ...}, init_globals=None, mod_name='__main__', mod_spec=ModuleSpec(name='ipykernel_launcher', loader=<_f...b/python3.6/site-packages/ipykernel_launcher.py'), pkg_name='', script_name=None)\n     80                        __cached__ = cached,\n     81                        __doc__ = None,\n     82                        __loader__ = loader,\n     83                        __package__ = pkg_name,\n     84                        __spec__ = mod_spec)\n---> 85     exec(code, run_globals)\n        code = <code object <module> at 0x1028306f0, file \"/ana...3.6/site-packages/ipykernel_launcher.py\", line 5>\n        run_globals = {'__annotations__': {}, '__builtins__': <module 'builtins' (built-in)>, '__cached__': '/anaconda3/lib/python3.6/site-packages/__pycache__/ipykernel_launcher.cpython-36.pyc', '__doc__': 'Entry point for launching an IPython kernel.\\n\\nTh...orts until\\nafter removing the cwd from sys.path.\\n', '__file__': '/anaconda3/lib/python3.6/site-packages/ipykernel_launcher.py', '__loader__': <_frozen_importlib_external.SourceFileLoader object>, '__name__': '__main__', '__package__': '', '__spec__': ModuleSpec(name='ipykernel_launcher', loader=<_f...b/python3.6/site-packages/ipykernel_launcher.py'), 'app': <module 'ipykernel.kernelapp' from '/anaconda3/lib/python3.6/site-packages/ipykernel/kernelapp.py'>, ...}\n     86     return run_globals\n     87 \n     88 def _run_module_code(code, init_globals=None,\n     89                     mod_name=None, mod_spec=None,\n\n...........................................................................\n/anaconda3/lib/python3.6/site-packages/ipykernel_launcher.py in <module>()\n     11     # This is added back by InteractiveShellApp.init_path()\n     12     if sys.path[0] == '':\n     13         del sys.path[0]\n     14 \n     15     from ipykernel import kernelapp as app\n---> 16     app.launch_new_instance()\n\n...........................................................................\n/anaconda3/lib/python3.6/site-packages/traitlets/config/application.py in launch_instance(cls=<class 'ipykernel.kernelapp.IPKernelApp'>, argv=None, **kwargs={})\n    653 \n    654         If a global instance already exists, this reinitializes and starts it\n    655         \"\"\"\n    656         app = cls.instance(**kwargs)\n    657         app.initialize(argv)\n--> 658         app.start()\n        app.start = <bound method IPKernelApp.start of <ipykernel.kernelapp.IPKernelApp object>>\n    659 \n    660 #-----------------------------------------------------------------------------\n    661 # utility functions, for convenience\n    662 #-----------------------------------------------------------------------------\n\n...........................................................................\n/anaconda3/lib/python3.6/site-packages/ipykernel/kernelapp.py in start(self=<ipykernel.kernelapp.IPKernelApp object>)\n    481         if self.poller is not None:\n    482             self.poller.start()\n    483         self.kernel.start()\n    484         self.io_loop = ioloop.IOLoop.current()\n    485         try:\n--> 486             self.io_loop.start()\n        self.io_loop.start = <bound method BaseAsyncIOLoop.start of <tornado.platform.asyncio.AsyncIOMainLoop object>>\n    487         except KeyboardInterrupt:\n    488             pass\n    489 \n    490 launch_new_instance = IPKernelApp.launch_instance\n\n...........................................................................\n/anaconda3/lib/python3.6/site-packages/tornado/platform/asyncio.py in start(self=<tornado.platform.asyncio.AsyncIOMainLoop object>)\n    122         except (RuntimeError, AssertionError):\n    123             old_loop = None\n    124         try:\n    125             self._setup_logging()\n    126             asyncio.set_event_loop(self.asyncio_loop)\n--> 127             self.asyncio_loop.run_forever()\n        self.asyncio_loop.run_forever = <bound method BaseEventLoop.run_forever of <_Uni...EventLoop running=True closed=False debug=False>>\n    128         finally:\n    129             asyncio.set_event_loop(old_loop)\n    130 \n    131     def stop(self):\n\n...........................................................................\n/anaconda3/lib/python3.6/asyncio/base_events.py in run_forever(self=<_UnixSelectorEventLoop running=True closed=False debug=False>)\n    417             sys.set_asyncgen_hooks(firstiter=self._asyncgen_firstiter_hook,\n    418                                    finalizer=self._asyncgen_finalizer_hook)\n    419         try:\n    420             events._set_running_loop(self)\n    421             while True:\n--> 422                 self._run_once()\n        self._run_once = <bound method BaseEventLoop._run_once of <_UnixS...EventLoop running=True closed=False debug=False>>\n    423                 if self._stopping:\n    424                     break\n    425         finally:\n    426             self._stopping = False\n\n...........................................................................\n/anaconda3/lib/python3.6/asyncio/base_events.py in _run_once(self=<_UnixSelectorEventLoop running=True closed=False debug=False>)\n   1427                         logger.warning('Executing %s took %.3f seconds',\n   1428                                        _format_handle(handle), dt)\n   1429                 finally:\n   1430                     self._current_handle = None\n   1431             else:\n-> 1432                 handle._run()\n        handle._run = <bound method Handle._run of <Handle BaseAsyncIOLoop._handle_events(15, 1)>>\n   1433         handle = None  # Needed to break cycles when an exception occurs.\n   1434 \n   1435     def _set_coroutine_wrapper(self, enabled):\n   1436         try:\n\n...........................................................................\n/anaconda3/lib/python3.6/asyncio/events.py in _run(self=<Handle BaseAsyncIOLoop._handle_events(15, 1)>)\n    140             self._callback = None\n    141             self._args = None\n    142 \n    143     def _run(self):\n    144         try:\n--> 145             self._callback(*self._args)\n        self._callback = <bound method BaseAsyncIOLoop._handle_events of <tornado.platform.asyncio.AsyncIOMainLoop object>>\n        self._args = (15, 1)\n    146         except Exception as exc:\n    147             cb = _format_callback_source(self._callback, self._args)\n    148             msg = 'Exception in callback {}'.format(cb)\n    149             context = {\n\n...........................................................................\n/anaconda3/lib/python3.6/site-packages/tornado/platform/asyncio.py in _handle_events(self=<tornado.platform.asyncio.AsyncIOMainLoop object>, fd=15, events=1)\n    112             self.writers.remove(fd)\n    113         del self.handlers[fd]\n    114 \n    115     def _handle_events(self, fd, events):\n    116         fileobj, handler_func = self.handlers[fd]\n--> 117         handler_func(fileobj, events)\n        handler_func = <function wrap.<locals>.null_wrapper>\n        fileobj = <zmq.sugar.socket.Socket object>\n        events = 1\n    118 \n    119     def start(self):\n    120         try:\n    121             old_loop = asyncio.get_event_loop()\n\n...........................................................................\n/anaconda3/lib/python3.6/site-packages/tornado/stack_context.py in null_wrapper(*args=(<zmq.sugar.socket.Socket object>, 1), **kwargs={})\n    271         # Fast path when there are no active contexts.\n    272         def null_wrapper(*args, **kwargs):\n    273             try:\n    274                 current_state = _state.contexts\n    275                 _state.contexts = cap_contexts[0]\n--> 276                 return fn(*args, **kwargs)\n        args = (<zmq.sugar.socket.Socket object>, 1)\n        kwargs = {}\n    277             finally:\n    278                 _state.contexts = current_state\n    279         null_wrapper._wrapped = True\n    280         return null_wrapper\n\n...........................................................................\n/anaconda3/lib/python3.6/site-packages/zmq/eventloop/zmqstream.py in _handle_events(self=<zmq.eventloop.zmqstream.ZMQStream object>, fd=<zmq.sugar.socket.Socket object>, events=1)\n    445             return\n    446         zmq_events = self.socket.EVENTS\n    447         try:\n    448             # dispatch events:\n    449             if zmq_events & zmq.POLLIN and self.receiving():\n--> 450                 self._handle_recv()\n        self._handle_recv = <bound method ZMQStream._handle_recv of <zmq.eventloop.zmqstream.ZMQStream object>>\n    451                 if not self.socket:\n    452                     return\n    453             if zmq_events & zmq.POLLOUT and self.sending():\n    454                 self._handle_send()\n\n...........................................................................\n/anaconda3/lib/python3.6/site-packages/zmq/eventloop/zmqstream.py in _handle_recv(self=<zmq.eventloop.zmqstream.ZMQStream object>)\n    475             else:\n    476                 raise\n    477         else:\n    478             if self._recv_callback:\n    479                 callback = self._recv_callback\n--> 480                 self._run_callback(callback, msg)\n        self._run_callback = <bound method ZMQStream._run_callback of <zmq.eventloop.zmqstream.ZMQStream object>>\n        callback = <function wrap.<locals>.null_wrapper>\n        msg = [<zmq.sugar.frame.Frame object>, <zmq.sugar.frame.Frame object>, <zmq.sugar.frame.Frame object>, <zmq.sugar.frame.Frame object>, <zmq.sugar.frame.Frame object>, <zmq.sugar.frame.Frame object>, <zmq.sugar.frame.Frame object>]\n    481         \n    482 \n    483     def _handle_send(self):\n    484         \"\"\"Handle a send event.\"\"\"\n\n...........................................................................\n/anaconda3/lib/python3.6/site-packages/zmq/eventloop/zmqstream.py in _run_callback(self=<zmq.eventloop.zmqstream.ZMQStream object>, callback=<function wrap.<locals>.null_wrapper>, *args=([<zmq.sugar.frame.Frame object>, <zmq.sugar.frame.Frame object>, <zmq.sugar.frame.Frame object>, <zmq.sugar.frame.Frame object>, <zmq.sugar.frame.Frame object>, <zmq.sugar.frame.Frame object>, <zmq.sugar.frame.Frame object>],), **kwargs={})\n    427         close our socket.\"\"\"\n    428         try:\n    429             # Use a NullContext to ensure that all StackContexts are run\n    430             # inside our blanket exception handler rather than outside.\n    431             with stack_context.NullContext():\n--> 432                 callback(*args, **kwargs)\n        callback = <function wrap.<locals>.null_wrapper>\n        args = ([<zmq.sugar.frame.Frame object>, <zmq.sugar.frame.Frame object>, <zmq.sugar.frame.Frame object>, <zmq.sugar.frame.Frame object>, <zmq.sugar.frame.Frame object>, <zmq.sugar.frame.Frame object>, <zmq.sugar.frame.Frame object>],)\n        kwargs = {}\n    433         except:\n    434             gen_log.error(\"Uncaught exception in ZMQStream callback\",\n    435                           exc_info=True)\n    436             # Re-raise the exception so that IOLoop.handle_callback_exception\n\n...........................................................................\n/anaconda3/lib/python3.6/site-packages/tornado/stack_context.py in null_wrapper(*args=([<zmq.sugar.frame.Frame object>, <zmq.sugar.frame.Frame object>, <zmq.sugar.frame.Frame object>, <zmq.sugar.frame.Frame object>, <zmq.sugar.frame.Frame object>, <zmq.sugar.frame.Frame object>, <zmq.sugar.frame.Frame object>],), **kwargs={})\n    271         # Fast path when there are no active contexts.\n    272         def null_wrapper(*args, **kwargs):\n    273             try:\n    274                 current_state = _state.contexts\n    275                 _state.contexts = cap_contexts[0]\n--> 276                 return fn(*args, **kwargs)\n        args = ([<zmq.sugar.frame.Frame object>, <zmq.sugar.frame.Frame object>, <zmq.sugar.frame.Frame object>, <zmq.sugar.frame.Frame object>, <zmq.sugar.frame.Frame object>, <zmq.sugar.frame.Frame object>, <zmq.sugar.frame.Frame object>],)\n        kwargs = {}\n    277             finally:\n    278                 _state.contexts = current_state\n    279         null_wrapper._wrapped = True\n    280         return null_wrapper\n\n...........................................................................\n/anaconda3/lib/python3.6/site-packages/ipykernel/kernelbase.py in dispatcher(msg=[<zmq.sugar.frame.Frame object>, <zmq.sugar.frame.Frame object>, <zmq.sugar.frame.Frame object>, <zmq.sugar.frame.Frame object>, <zmq.sugar.frame.Frame object>, <zmq.sugar.frame.Frame object>, <zmq.sugar.frame.Frame object>])\n    278         if self.control_stream:\n    279             self.control_stream.on_recv(self.dispatch_control, copy=False)\n    280 \n    281         def make_dispatcher(stream):\n    282             def dispatcher(msg):\n--> 283                 return self.dispatch_shell(stream, msg)\n        msg = [<zmq.sugar.frame.Frame object>, <zmq.sugar.frame.Frame object>, <zmq.sugar.frame.Frame object>, <zmq.sugar.frame.Frame object>, <zmq.sugar.frame.Frame object>, <zmq.sugar.frame.Frame object>, <zmq.sugar.frame.Frame object>]\n    284             return dispatcher\n    285 \n    286         for s in self.shell_streams:\n    287             s.on_recv(make_dispatcher(s), copy=False)\n\n...........................................................................\n/anaconda3/lib/python3.6/site-packages/ipykernel/kernelbase.py in dispatch_shell(self=<ipykernel.ipkernel.IPythonKernel object>, stream=<zmq.eventloop.zmqstream.ZMQStream object>, msg={'buffers': [], 'content': {'allow_stdin': True, 'code': \"#Logistic Regression\\ngrid_params = {\\n    'max_it...jobs = -1\\n)\\n\\ngs_results = gs.fit(X_train,y_train)\", 'silent': False, 'stop_on_error': True, 'store_history': True, 'user_expressions': {}}, 'header': {'date': datetime.datetime(2018, 9, 21, 14, 12, 58, 920945, tzinfo=tzutc()), 'msg_id': '95b8814d33034ad88654ae6c6f33099b', 'msg_type': 'execute_request', 'session': '0f4788f72e904a668b00a37e34569968', 'username': 'username', 'version': '5.2'}, 'metadata': {}, 'msg_id': '95b8814d33034ad88654ae6c6f33099b', 'msg_type': 'execute_request', 'parent_header': {}})\n    228             self.log.warn(\"Unknown message type: %r\", msg_type)\n    229         else:\n    230             self.log.debug(\"%s: %s\", msg_type, msg)\n    231             self.pre_handler_hook()\n    232             try:\n--> 233                 handler(stream, idents, msg)\n        handler = <bound method Kernel.execute_request of <ipykernel.ipkernel.IPythonKernel object>>\n        stream = <zmq.eventloop.zmqstream.ZMQStream object>\n        idents = [b'0f4788f72e904a668b00a37e34569968']\n        msg = {'buffers': [], 'content': {'allow_stdin': True, 'code': \"#Logistic Regression\\ngrid_params = {\\n    'max_it...jobs = -1\\n)\\n\\ngs_results = gs.fit(X_train,y_train)\", 'silent': False, 'stop_on_error': True, 'store_history': True, 'user_expressions': {}}, 'header': {'date': datetime.datetime(2018, 9, 21, 14, 12, 58, 920945, tzinfo=tzutc()), 'msg_id': '95b8814d33034ad88654ae6c6f33099b', 'msg_type': 'execute_request', 'session': '0f4788f72e904a668b00a37e34569968', 'username': 'username', 'version': '5.2'}, 'metadata': {}, 'msg_id': '95b8814d33034ad88654ae6c6f33099b', 'msg_type': 'execute_request', 'parent_header': {}}\n    234             except Exception:\n    235                 self.log.error(\"Exception in message handler:\", exc_info=True)\n    236             finally:\n    237                 self.post_handler_hook()\n\n...........................................................................\n/anaconda3/lib/python3.6/site-packages/ipykernel/kernelbase.py in execute_request(self=<ipykernel.ipkernel.IPythonKernel object>, stream=<zmq.eventloop.zmqstream.ZMQStream object>, ident=[b'0f4788f72e904a668b00a37e34569968'], parent={'buffers': [], 'content': {'allow_stdin': True, 'code': \"#Logistic Regression\\ngrid_params = {\\n    'max_it...jobs = -1\\n)\\n\\ngs_results = gs.fit(X_train,y_train)\", 'silent': False, 'stop_on_error': True, 'store_history': True, 'user_expressions': {}}, 'header': {'date': datetime.datetime(2018, 9, 21, 14, 12, 58, 920945, tzinfo=tzutc()), 'msg_id': '95b8814d33034ad88654ae6c6f33099b', 'msg_type': 'execute_request', 'session': '0f4788f72e904a668b00a37e34569968', 'username': 'username', 'version': '5.2'}, 'metadata': {}, 'msg_id': '95b8814d33034ad88654ae6c6f33099b', 'msg_type': 'execute_request', 'parent_header': {}})\n    394         if not silent:\n    395             self.execution_count += 1\n    396             self._publish_execute_input(code, parent, self.execution_count)\n    397 \n    398         reply_content = self.do_execute(code, silent, store_history,\n--> 399                                         user_expressions, allow_stdin)\n        user_expressions = {}\n        allow_stdin = True\n    400 \n    401         # Flush output before sending the reply.\n    402         sys.stdout.flush()\n    403         sys.stderr.flush()\n\n...........................................................................\n/anaconda3/lib/python3.6/site-packages/ipykernel/ipkernel.py in do_execute(self=<ipykernel.ipkernel.IPythonKernel object>, code=\"#Logistic Regression\\ngrid_params = {\\n    'max_it...jobs = -1\\n)\\n\\ngs_results = gs.fit(X_train,y_train)\", silent=False, store_history=True, user_expressions={}, allow_stdin=True)\n    203 \n    204         self._forward_input(allow_stdin)\n    205 \n    206         reply_content = {}\n    207         try:\n--> 208             res = shell.run_cell(code, store_history=store_history, silent=silent)\n        res = undefined\n        shell.run_cell = <bound method ZMQInteractiveShell.run_cell of <ipykernel.zmqshell.ZMQInteractiveShell object>>\n        code = \"#Logistic Regression\\ngrid_params = {\\n    'max_it...jobs = -1\\n)\\n\\ngs_results = gs.fit(X_train,y_train)\"\n        store_history = True\n        silent = False\n    209         finally:\n    210             self._restore_input()\n    211 \n    212         if res.error_before_exec is not None:\n\n...........................................................................\n/anaconda3/lib/python3.6/site-packages/ipykernel/zmqshell.py in run_cell(self=<ipykernel.zmqshell.ZMQInteractiveShell object>, *args=(\"#Logistic Regression\\ngrid_params = {\\n    'max_it...jobs = -1\\n)\\n\\ngs_results = gs.fit(X_train,y_train)\",), **kwargs={'silent': False, 'store_history': True})\n    532             )\n    533         self.payload_manager.write_payload(payload)\n    534 \n    535     def run_cell(self, *args, **kwargs):\n    536         self._last_traceback = None\n--> 537         return super(ZMQInteractiveShell, self).run_cell(*args, **kwargs)\n        self.run_cell = <bound method ZMQInteractiveShell.run_cell of <ipykernel.zmqshell.ZMQInteractiveShell object>>\n        args = (\"#Logistic Regression\\ngrid_params = {\\n    'max_it...jobs = -1\\n)\\n\\ngs_results = gs.fit(X_train,y_train)\",)\n        kwargs = {'silent': False, 'store_history': True}\n    538 \n    539     def _showtraceback(self, etype, evalue, stb):\n    540         # try to preserve ordering of tracebacks and print statements\n    541         sys.stdout.flush()\n\n...........................................................................\n/anaconda3/lib/python3.6/site-packages/IPython/core/interactiveshell.py in run_cell(self=<ipykernel.zmqshell.ZMQInteractiveShell object>, raw_cell=\"#Logistic Regression\\ngrid_params = {\\n    'max_it...jobs = -1\\n)\\n\\ngs_results = gs.fit(X_train,y_train)\", store_history=True, silent=False, shell_futures=True)\n   2657         -------\n   2658         result : :class:`ExecutionResult`\n   2659         \"\"\"\n   2660         try:\n   2661             result = self._run_cell(\n-> 2662                 raw_cell, store_history, silent, shell_futures)\n        raw_cell = \"#Logistic Regression\\ngrid_params = {\\n    'max_it...jobs = -1\\n)\\n\\ngs_results = gs.fit(X_train,y_train)\"\n        store_history = True\n        silent = False\n        shell_futures = True\n   2663         finally:\n   2664             self.events.trigger('post_execute')\n   2665             if not silent:\n   2666                 self.events.trigger('post_run_cell', result)\n\n...........................................................................\n/anaconda3/lib/python3.6/site-packages/IPython/core/interactiveshell.py in _run_cell(self=<ipykernel.zmqshell.ZMQInteractiveShell object>, raw_cell=\"#Logistic Regression\\ngrid_params = {\\n    'max_it...jobs = -1\\n)\\n\\ngs_results = gs.fit(X_train,y_train)\", store_history=True, silent=False, shell_futures=True)\n   2780                 self.displayhook.exec_result = result\n   2781 \n   2782                 # Execute the user code\n   2783                 interactivity = 'none' if silent else self.ast_node_interactivity\n   2784                 has_raised = self.run_ast_nodes(code_ast.body, cell_name,\n-> 2785                    interactivity=interactivity, compiler=compiler, result=result)\n        interactivity = 'last_expr'\n        compiler = <IPython.core.compilerop.CachingCompiler object>\n   2786                 \n   2787                 self.last_execution_succeeded = not has_raised\n   2788                 self.last_execution_result = result\n   2789 \n\n...........................................................................\n/anaconda3/lib/python3.6/site-packages/IPython/core/interactiveshell.py in run_ast_nodes(self=<ipykernel.zmqshell.ZMQInteractiveShell object>, nodelist=[<_ast.Assign object>, <_ast.Assign object>, <_ast.Assign object>], cell_name='<ipython-input-39-8716d0b5f611>', interactivity='none', compiler=<IPython.core.compilerop.CachingCompiler object>, result=<ExecutionResult object at 1a0a3f86a0, execution...rue silent=False shell_futures=True> result=None>)\n   2898 \n   2899         try:\n   2900             for i, node in enumerate(to_run_exec):\n   2901                 mod = ast.Module([node])\n   2902                 code = compiler(mod, cell_name, \"exec\")\n-> 2903                 if self.run_code(code, result):\n        self.run_code = <bound method InteractiveShell.run_code of <ipykernel.zmqshell.ZMQInteractiveShell object>>\n        code = <code object <module> at 0x1a09ff0270, file \"<ipython-input-39-8716d0b5f611>\", line 18>\n        result = <ExecutionResult object at 1a0a3f86a0, execution...rue silent=False shell_futures=True> result=None>\n   2904                     return True\n   2905 \n   2906             for i, node in enumerate(to_run_interactive):\n   2907                 mod = ast.Interactive([node])\n\n...........................................................................\n/anaconda3/lib/python3.6/site-packages/IPython/core/interactiveshell.py in run_code(self=<ipykernel.zmqshell.ZMQInteractiveShell object>, code_obj=<code object <module> at 0x1a09ff0270, file \"<ipython-input-39-8716d0b5f611>\", line 18>, result=<ExecutionResult object at 1a0a3f86a0, execution...rue silent=False shell_futures=True> result=None>)\n   2958         outflag = True  # happens in more places, so it's easier as default\n   2959         try:\n   2960             try:\n   2961                 self.hooks.pre_run_code_hook()\n   2962                 #rprint('Running code', repr(code_obj)) # dbg\n-> 2963                 exec(code_obj, self.user_global_ns, self.user_ns)\n        code_obj = <code object <module> at 0x1a09ff0270, file \"<ipython-input-39-8716d0b5f611>\", line 18>\n        self.user_global_ns = {'AdaBoostClassifier': <class 'sklearn.ensemble.weight_boosting.AdaBoostClassifier'>, 'BaggingClassifier': <class 'sklearn.ensemble.bagging.BaggingClassifier'>, 'DecisionTreeClassifier': <class 'sklearn.tree.tree.DecisionTreeClassifier'>, 'ExtraTreeClassifier': <class 'sklearn.tree.tree.ExtraTreeClassifier'>, 'GradientBoostingClassifier': <class 'sklearn.ensemble.gradient_boosting.GradientBoostingClassifier'>, 'GridSearchCV': <class 'sklearn.model_selection._search.GridSearchCV'>, 'In': ['', 'import pandas as pd\\npd.set_option(\"display.max_c...ifier, AdaBoostClassifier\\nfrom sklearn import svm', \"#import data\\ntest = pd.read_csv('./data/west_nil...ad_csv('./data/west_nile_train.csv', index_col=0)\", \"#id X and y\\nX = train.drop(['Date', 'NumMosquitos', 'WnvPresent'], axis=1)\\ny = train.WnvPresent\", '#train split\\nX_train, X_test, y_train, y_test = train_test_split(X, y)', '#cross val score all potential classification mo..., cross_val_score(svm1, X_train, y_train).mean())', '#fit and score\\nlr.fit(X_train, y_train)\\nlr.score(X_test, y_test)', 'lr_coefs = pd.DataFrame(lr.coef_, columns=X.colu...se)\\n#higher coefs are more likely to indicate WNV', \"#import data\\nbalenced_train = pd.read_csv('./data/BALANCED_west_nile_train.csv', index_col=0)\", 'balenced_train.WnvPresent.value_counts()', \"#id X and y\\nX = balenced_train.drop(['Date', 'Nu...ongitude'], axis=1)\\ny = balenced_train.WnvPresent\", '#train split\\nX_train, X_test, y_train, y_test = train_test_split(X, y)', '#cross val score all potential classification mo...s_val_score(svm1, X_train, y_train).mean()) #.644', 'lr.fit(X_train, y_train)\\nlr_coefs = pd.DataFrame...se)\\n#higher coefs are more likely to indicate WNV', 'from sklearn.model_selection import GridSearchCV...etrics import recall_score, make_scorer, f1_score', \"#Logistic Regression\\ngrid_params = {\\n    'max_it...jobs = -1\\n)\\n\\ngs_results = gs.fit(X_train,y_train)\", \"print('best param',gs.best_params_)\\nprint('best score',gs.best_score_)\", \"#knn\\ngrid_params = {\\n    'n_neighbors':[3,5,7],\\n...jobs = -1\\n)\\n\\ngs_results = gs.fit(X_train,y_train)\", \"print('best param',gs.best_params_)\\nprint('best score',gs.best_score_)\", \"#dt\\ngrid_params = {\\n    'criterion':['gini','ent...jobs = -1\\n)\\n\\ngs_results = gs.fit(X_train,y_train)\", ...], 'KNeighborsClassifier': <class 'sklearn.neighbors.classification.KNeighborsClassifier'>, 'LogisticRegression': <class 'sklearn.linear_model.logistic.LogisticRegression'>, 'MultinomialNB': <class 'sklearn.naive_bayes.MultinomialNB'>, ...}\n        self.user_ns = {'AdaBoostClassifier': <class 'sklearn.ensemble.weight_boosting.AdaBoostClassifier'>, 'BaggingClassifier': <class 'sklearn.ensemble.bagging.BaggingClassifier'>, 'DecisionTreeClassifier': <class 'sklearn.tree.tree.DecisionTreeClassifier'>, 'ExtraTreeClassifier': <class 'sklearn.tree.tree.ExtraTreeClassifier'>, 'GradientBoostingClassifier': <class 'sklearn.ensemble.gradient_boosting.GradientBoostingClassifier'>, 'GridSearchCV': <class 'sklearn.model_selection._search.GridSearchCV'>, 'In': ['', 'import pandas as pd\\npd.set_option(\"display.max_c...ifier, AdaBoostClassifier\\nfrom sklearn import svm', \"#import data\\ntest = pd.read_csv('./data/west_nil...ad_csv('./data/west_nile_train.csv', index_col=0)\", \"#id X and y\\nX = train.drop(['Date', 'NumMosquitos', 'WnvPresent'], axis=1)\\ny = train.WnvPresent\", '#train split\\nX_train, X_test, y_train, y_test = train_test_split(X, y)', '#cross val score all potential classification mo..., cross_val_score(svm1, X_train, y_train).mean())', '#fit and score\\nlr.fit(X_train, y_train)\\nlr.score(X_test, y_test)', 'lr_coefs = pd.DataFrame(lr.coef_, columns=X.colu...se)\\n#higher coefs are more likely to indicate WNV', \"#import data\\nbalenced_train = pd.read_csv('./data/BALANCED_west_nile_train.csv', index_col=0)\", 'balenced_train.WnvPresent.value_counts()', \"#id X and y\\nX = balenced_train.drop(['Date', 'Nu...ongitude'], axis=1)\\ny = balenced_train.WnvPresent\", '#train split\\nX_train, X_test, y_train, y_test = train_test_split(X, y)', '#cross val score all potential classification mo...s_val_score(svm1, X_train, y_train).mean()) #.644', 'lr.fit(X_train, y_train)\\nlr_coefs = pd.DataFrame...se)\\n#higher coefs are more likely to indicate WNV', 'from sklearn.model_selection import GridSearchCV...etrics import recall_score, make_scorer, f1_score', \"#Logistic Regression\\ngrid_params = {\\n    'max_it...jobs = -1\\n)\\n\\ngs_results = gs.fit(X_train,y_train)\", \"print('best param',gs.best_params_)\\nprint('best score',gs.best_score_)\", \"#knn\\ngrid_params = {\\n    'n_neighbors':[3,5,7],\\n...jobs = -1\\n)\\n\\ngs_results = gs.fit(X_train,y_train)\", \"print('best param',gs.best_params_)\\nprint('best score',gs.best_score_)\", \"#dt\\ngrid_params = {\\n    'criterion':['gini','ent...jobs = -1\\n)\\n\\ngs_results = gs.fit(X_train,y_train)\", ...], 'KNeighborsClassifier': <class 'sklearn.neighbors.classification.KNeighborsClassifier'>, 'LogisticRegression': <class 'sklearn.linear_model.logistic.LogisticRegression'>, 'MultinomialNB': <class 'sklearn.naive_bayes.MultinomialNB'>, ...}\n   2964             finally:\n   2965                 # Reset our crash handler in place\n   2966                 sys.excepthook = old_excepthook\n   2967         except SystemExit as e:\n\n...........................................................................\n/Users/Celis/GA_work/Assignments/7_assignment/last_updated_project/west-nile-project-4/<ipython-input-39-8716d0b5f611> in <module>()\n     13     verbose = 1,\n     14     cv = 5,\n     15     n_jobs = -1\n     16 )\n     17 \n---> 18 gs_results = gs.fit(X_train,y_train)\n\n...........................................................................\n/anaconda3/lib/python3.6/site-packages/sklearn/model_selection/_search.py in fit(self=GridSearchCV(cv=5, error_score='raise',\n       e...ain_score='warn',\n       scoring=None, verbose=1), X=       Block  AddressAccuracy  Species_CULEX ERR...       0          0  \n\n[14929 rows x 210 columns], y=94       0\n9757     1\n10237    1\n10109    0\n1009...  1\nName: WnvPresent, Length: 14929, dtype: int64, groups=None, **fit_params={})\n    634                                   return_train_score=self.return_train_score,\n    635                                   return_n_test_samples=True,\n    636                                   return_times=True, return_parameters=False,\n    637                                   error_score=self.error_score)\n    638           for parameters, (train, test) in product(candidate_params,\n--> 639                                                    cv.split(X, y, groups)))\n        cv.split = <bound method StratifiedKFold.split of Stratifie...ld(n_splits=5, random_state=None, shuffle=False)>\n        X =        Block  AddressAccuracy  Species_CULEX ERR...       0          0  \n\n[14929 rows x 210 columns]\n        y = 94       0\n9757     1\n10237    1\n10109    0\n1009...  1\nName: WnvPresent, Length: 14929, dtype: int64\n        groups = None\n    640 \n    641         # if one choose to see train score, \"out\" will contain train score info\n    642         if self.return_train_score:\n    643             (train_score_dicts, test_score_dicts, test_sample_counts, fit_time,\n\n...........................................................................\n/anaconda3/lib/python3.6/site-packages/sklearn/externals/joblib/parallel.py in __call__(self=Parallel(n_jobs=-1), iterable=<generator object BaseSearchCV.fit.<locals>.<genexpr>>)\n    784             if pre_dispatch == \"all\" or n_jobs == 1:\n    785                 # The iterable was consumed all at once by the above for loop.\n    786                 # No need to wait for async callbacks to trigger to\n    787                 # consumption.\n    788                 self._iterating = False\n--> 789             self.retrieve()\n        self.retrieve = <bound method Parallel.retrieve of Parallel(n_jobs=-1)>\n    790             # Make sure that we get a last message telling us we are done\n    791             elapsed_time = time.time() - self._start_time\n    792             self._print('Done %3i out of %3i | elapsed: %s finished',\n    793                         (len(self._output), len(self._output),\n\n---------------------------------------------------------------------------\nSub-process traceback:\n---------------------------------------------------------------------------\nValueError                                         Fri Sep 21 10:13:18 2018\nPID: 6233                               Python 3.6.5: /anaconda3/bin/python\n...........................................................................\n/anaconda3/lib/python3.6/site-packages/sklearn/externals/joblib/parallel.py in __call__(self=<sklearn.externals.joblib.parallel.BatchedCalls object>)\n    126     def __init__(self, iterator_slice):\n    127         self.items = list(iterator_slice)\n    128         self._size = len(self.items)\n    129 \n    130     def __call__(self):\n--> 131         return [func(*args, **kwargs) for func, args, kwargs in self.items]\n        self.items = [(<function _fit_and_score>, (LogisticRegression(C=1.0, class_weight='balanced...ol=0.0001, verbose=0,\n          warm_start=False),        Block  AddressAccuracy  Species_CULEX ERR...       0          0  \n\n[14929 rows x 210 columns], 94       0\n9757     1\n10237    1\n10109    0\n1009...  1\nName: WnvPresent, Length: 14929, dtype: int64, {'score': <function _passthrough_scorer>}, array([ 2941,  2942,  2943, ..., 14926, 14927, 14928]), array([   0,    1,    2, ..., 3035, 3036, 3037]), 1, {'class_weight': 'balanced', 'max_iter': 50, 'multi_class': 'multinomial', 'solver': 'liblinear'}), {'error_score': 'raise', 'fit_params': {}, 'return_n_test_samples': True, 'return_parameters': False, 'return_times': True, 'return_train_score': 'warn'})]\n    132 \n    133     def __len__(self):\n    134         return self._size\n    135 \n\n...........................................................................\n/anaconda3/lib/python3.6/site-packages/sklearn/externals/joblib/parallel.py in <listcomp>(.0=<list_iterator object>)\n    126     def __init__(self, iterator_slice):\n    127         self.items = list(iterator_slice)\n    128         self._size = len(self.items)\n    129 \n    130     def __call__(self):\n--> 131         return [func(*args, **kwargs) for func, args, kwargs in self.items]\n        func = <function _fit_and_score>\n        args = (LogisticRegression(C=1.0, class_weight='balanced...ol=0.0001, verbose=0,\n          warm_start=False),        Block  AddressAccuracy  Species_CULEX ERR...       0          0  \n\n[14929 rows x 210 columns], 94       0\n9757     1\n10237    1\n10109    0\n1009...  1\nName: WnvPresent, Length: 14929, dtype: int64, {'score': <function _passthrough_scorer>}, array([ 2941,  2942,  2943, ..., 14926, 14927, 14928]), array([   0,    1,    2, ..., 3035, 3036, 3037]), 1, {'class_weight': 'balanced', 'max_iter': 50, 'multi_class': 'multinomial', 'solver': 'liblinear'})\n        kwargs = {'error_score': 'raise', 'fit_params': {}, 'return_n_test_samples': True, 'return_parameters': False, 'return_times': True, 'return_train_score': 'warn'}\n    132 \n    133     def __len__(self):\n    134         return self._size\n    135 \n\n...........................................................................\n/anaconda3/lib/python3.6/site-packages/sklearn/model_selection/_validation.py in _fit_and_score(estimator=LogisticRegression(C=1.0, class_weight='balanced...ol=0.0001, verbose=0,\n          warm_start=False), X=       Block  AddressAccuracy  Species_CULEX ERR...       0          0  \n\n[14929 rows x 210 columns], y=94       0\n9757     1\n10237    1\n10109    0\n1009...  1\nName: WnvPresent, Length: 14929, dtype: int64, scorer={'score': <function _passthrough_scorer>}, train=array([ 2941,  2942,  2943, ..., 14926, 14927, 14928]), test=array([   0,    1,    2, ..., 3035, 3036, 3037]), verbose=1, parameters={'class_weight': 'balanced', 'max_iter': 50, 'multi_class': 'multinomial', 'solver': 'liblinear'}, fit_params={}, return_train_score='warn', return_parameters=False, return_n_test_samples=True, return_times=True, error_score='raise')\n    453 \n    454     try:\n    455         if y_train is None:\n    456             estimator.fit(X_train, **fit_params)\n    457         else:\n--> 458             estimator.fit(X_train, y_train, **fit_params)\n        estimator.fit = <bound method LogisticRegression.fit of Logistic...l=0.0001, verbose=0,\n          warm_start=False)>\n        X_train =        Block  AddressAccuracy  Species_CULEX ERR...       0          0  \n\n[11942 rows x 210 columns]\n        y_train = 970      1\n3049     1\n9532     1\n2711     1\n1423...  1\nName: WnvPresent, Length: 11942, dtype: int64\n        fit_params = {}\n    459 \n    460     except Exception as e:\n    461         # Note fit time as time until error\n    462         fit_time = time.time() - start_time\n\n...........................................................................\n/anaconda3/lib/python3.6/site-packages/sklearn/linear_model/logistic.py in fit(self=LogisticRegression(C=1.0, class_weight='balanced...ol=0.0001, verbose=0,\n          warm_start=False), X=array([[45.,  9.,  0., ...,  0.,  0.,  0.],\n    ...0.],\n       [41.,  9.,  0., ...,  0.,  0.,  0.]]), y=array([1, 1, 1, ..., 1, 1, 1]), sample_weight=None)\n   1217         check_classification_targets(y)\n   1218         self.classes_ = np.unique(y)\n   1219         n_samples, n_features = X.shape\n   1220 \n   1221         _check_solver_option(self.solver, self.multi_class, self.penalty,\n-> 1222                              self.dual)\n        self.dual = False\n   1223 \n   1224         if self.solver == 'liblinear':\n   1225             if self.n_jobs != 1:\n   1226                 warnings.warn(\"'n_jobs' > 1 does not have any effect when\"\n\n...........................................................................\n/anaconda3/lib/python3.6/site-packages/sklearn/linear_model/logistic.py in _check_solver_option(solver='liblinear', multi_class='multinomial', penalty='l2', dual=False)\n    433         raise ValueError(\"multi_class should be either multinomial or \"\n    434                          \"ovr, got %s\" % multi_class)\n    435 \n    436     if multi_class == 'multinomial' and solver == 'liblinear':\n    437         raise ValueError(\"Solver %s does not support \"\n--> 438                          \"a multinomial backend.\" % solver)\n        solver = 'liblinear'\n    439 \n    440     if solver not in ['liblinear', 'saga']:\n    441         if penalty != 'l2':\n    442             raise ValueError(\"Solver %s supports only l2 penalties, \"\n\nValueError: Solver liblinear does not support a multinomial backend.\n___________________________________________________________________________",
     "output_type": "error",
     "traceback": [
      "\u001b[0;31m---------------------------------------------------------------------------\u001b[0m",
      "\u001b[0;31mRemoteTraceback\u001b[0m                           Traceback (most recent call last)",
      "\u001b[0;31mRemoteTraceback\u001b[0m: \n\"\"\"\nTraceback (most recent call last):\n  File \"/anaconda3/lib/python3.6/site-packages/sklearn/externals/joblib/_parallel_backends.py\", line 350, in __call__\n    return self.func(*args, **kwargs)\n  File \"/anaconda3/lib/python3.6/site-packages/sklearn/externals/joblib/parallel.py\", line 131, in __call__\n    return [func(*args, **kwargs) for func, args, kwargs in self.items]\n  File \"/anaconda3/lib/python3.6/site-packages/sklearn/externals/joblib/parallel.py\", line 131, in <listcomp>\n    return [func(*args, **kwargs) for func, args, kwargs in self.items]\n  File \"/anaconda3/lib/python3.6/site-packages/sklearn/model_selection/_validation.py\", line 458, in _fit_and_score\n    estimator.fit(X_train, y_train, **fit_params)\n  File \"/anaconda3/lib/python3.6/site-packages/sklearn/linear_model/logistic.py\", line 1222, in fit\n    self.dual)\n  File \"/anaconda3/lib/python3.6/site-packages/sklearn/linear_model/logistic.py\", line 438, in _check_solver_option\n    \"a multinomial backend.\" % solver)\nValueError: Solver liblinear does not support a multinomial backend.\n\nDuring handling of the above exception, another exception occurred:\n\nTraceback (most recent call last):\n  File \"/anaconda3/lib/python3.6/multiprocessing/pool.py\", line 119, in worker\n    result = (True, func(*args, **kwds))\n  File \"/anaconda3/lib/python3.6/site-packages/sklearn/externals/joblib/_parallel_backends.py\", line 359, in __call__\n    raise TransportableException(text, e_type)\nsklearn.externals.joblib.my_exceptions.TransportableException: TransportableException\n___________________________________________________________________________\nValueError                                         Fri Sep 21 10:13:18 2018\nPID: 6233                               Python 3.6.5: /anaconda3/bin/python\n...........................................................................\n/anaconda3/lib/python3.6/site-packages/sklearn/externals/joblib/parallel.py in __call__(self=<sklearn.externals.joblib.parallel.BatchedCalls object>)\n    126     def __init__(self, iterator_slice):\n    127         self.items = list(iterator_slice)\n    128         self._size = len(self.items)\n    129 \n    130     def __call__(self):\n--> 131         return [func(*args, **kwargs) for func, args, kwargs in self.items]\n        self.items = [(<function _fit_and_score>, (LogisticRegression(C=1.0, class_weight='balanced...ol=0.0001, verbose=0,\n          warm_start=False),        Block  AddressAccuracy  Species_CULEX ERR...       0          0  \n\n[14929 rows x 210 columns], 94       0\n9757     1\n10237    1\n10109    0\n1009...  1\nName: WnvPresent, Length: 14929, dtype: int64, {'score': <function _passthrough_scorer>}, array([ 2941,  2942,  2943, ..., 14926, 14927, 14928]), array([   0,    1,    2, ..., 3035, 3036, 3037]), 1, {'class_weight': 'balanced', 'max_iter': 50, 'multi_class': 'multinomial', 'solver': 'liblinear'}), {'error_score': 'raise', 'fit_params': {}, 'return_n_test_samples': True, 'return_parameters': False, 'return_times': True, 'return_train_score': 'warn'})]\n    132 \n    133     def __len__(self):\n    134         return self._size\n    135 \n\n...........................................................................\n/anaconda3/lib/python3.6/site-packages/sklearn/externals/joblib/parallel.py in <listcomp>(.0=<list_iterator object>)\n    126     def __init__(self, iterator_slice):\n    127         self.items = list(iterator_slice)\n    128         self._size = len(self.items)\n    129 \n    130     def __call__(self):\n--> 131         return [func(*args, **kwargs) for func, args, kwargs in self.items]\n        func = <function _fit_and_score>\n        args = (LogisticRegression(C=1.0, class_weight='balanced...ol=0.0001, verbose=0,\n          warm_start=False),        Block  AddressAccuracy  Species_CULEX ERR...       0          0  \n\n[14929 rows x 210 columns], 94       0\n9757     1\n10237    1\n10109    0\n1009...  1\nName: WnvPresent, Length: 14929, dtype: int64, {'score': <function _passthrough_scorer>}, array([ 2941,  2942,  2943, ..., 14926, 14927, 14928]), array([   0,    1,    2, ..., 3035, 3036, 3037]), 1, {'class_weight': 'balanced', 'max_iter': 50, 'multi_class': 'multinomial', 'solver': 'liblinear'})\n        kwargs = {'error_score': 'raise', 'fit_params': {}, 'return_n_test_samples': True, 'return_parameters': False, 'return_times': True, 'return_train_score': 'warn'}\n    132 \n    133     def __len__(self):\n    134         return self._size\n    135 \n\n...........................................................................\n/anaconda3/lib/python3.6/site-packages/sklearn/model_selection/_validation.py in _fit_and_score(estimator=LogisticRegression(C=1.0, class_weight='balanced...ol=0.0001, verbose=0,\n          warm_start=False), X=       Block  AddressAccuracy  Species_CULEX ERR...       0          0  \n\n[14929 rows x 210 columns], y=94       0\n9757     1\n10237    1\n10109    0\n1009...  1\nName: WnvPresent, Length: 14929, dtype: int64, scorer={'score': <function _passthrough_scorer>}, train=array([ 2941,  2942,  2943, ..., 14926, 14927, 14928]), test=array([   0,    1,    2, ..., 3035, 3036, 3037]), verbose=1, parameters={'class_weight': 'balanced', 'max_iter': 50, 'multi_class': 'multinomial', 'solver': 'liblinear'}, fit_params={}, return_train_score='warn', return_parameters=False, return_n_test_samples=True, return_times=True, error_score='raise')\n    453 \n    454     try:\n    455         if y_train is None:\n    456             estimator.fit(X_train, **fit_params)\n    457         else:\n--> 458             estimator.fit(X_train, y_train, **fit_params)\n        estimator.fit = <bound method LogisticRegression.fit of Logistic...l=0.0001, verbose=0,\n          warm_start=False)>\n        X_train =        Block  AddressAccuracy  Species_CULEX ERR...       0          0  \n\n[11942 rows x 210 columns]\n        y_train = 970      1\n3049     1\n9532     1\n2711     1\n1423...  1\nName: WnvPresent, Length: 11942, dtype: int64\n        fit_params = {}\n    459 \n    460     except Exception as e:\n    461         # Note fit time as time until error\n    462         fit_time = time.time() - start_time\n\n...........................................................................\n/anaconda3/lib/python3.6/site-packages/sklearn/linear_model/logistic.py in fit(self=LogisticRegression(C=1.0, class_weight='balanced...ol=0.0001, verbose=0,\n          warm_start=False), X=array([[45.,  9.,  0., ...,  0.,  0.,  0.],\n    ...0.],\n       [41.,  9.,  0., ...,  0.,  0.,  0.]]), y=array([1, 1, 1, ..., 1, 1, 1]), sample_weight=None)\n   1217         check_classification_targets(y)\n   1218         self.classes_ = np.unique(y)\n   1219         n_samples, n_features = X.shape\n   1220 \n   1221         _check_solver_option(self.solver, self.multi_class, self.penalty,\n-> 1222                              self.dual)\n        self.dual = False\n   1223 \n   1224         if self.solver == 'liblinear':\n   1225             if self.n_jobs != 1:\n   1226                 warnings.warn(\"'n_jobs' > 1 does not have any effect when\"\n\n...........................................................................\n/anaconda3/lib/python3.6/site-packages/sklearn/linear_model/logistic.py in _check_solver_option(solver='liblinear', multi_class='multinomial', penalty='l2', dual=False)\n    433         raise ValueError(\"multi_class should be either multinomial or \"\n    434                          \"ovr, got %s\" % multi_class)\n    435 \n    436     if multi_class == 'multinomial' and solver == 'liblinear':\n    437         raise ValueError(\"Solver %s does not support \"\n--> 438                          \"a multinomial backend.\" % solver)\n        solver = 'liblinear'\n    439 \n    440     if solver not in ['liblinear', 'saga']:\n    441         if penalty != 'l2':\n    442             raise ValueError(\"Solver %s supports only l2 penalties, \"\n\nValueError: Solver liblinear does not support a multinomial backend.\n___________________________________________________________________________\n\"\"\"",
      "\nThe above exception was the direct cause of the following exception:\n",
      "\u001b[0;31mTransportableException\u001b[0m                    Traceback (most recent call last)",
      "\u001b[0;32m/anaconda3/lib/python3.6/site-packages/sklearn/externals/joblib/parallel.py\u001b[0m in \u001b[0;36mretrieve\u001b[0;34m(self)\u001b[0m\n\u001b[1;32m    698\u001b[0m                 \u001b[0;32mif\u001b[0m \u001b[0mgetattr\u001b[0m\u001b[0;34m(\u001b[0m\u001b[0mself\u001b[0m\u001b[0;34m.\u001b[0m\u001b[0m_backend\u001b[0m\u001b[0;34m,\u001b[0m \u001b[0;34m'supports_timeout'\u001b[0m\u001b[0;34m,\u001b[0m \u001b[0;32mFalse\u001b[0m\u001b[0;34m)\u001b[0m\u001b[0;34m:\u001b[0m\u001b[0;34m\u001b[0m\u001b[0m\n\u001b[0;32m--> 699\u001b[0;31m                     \u001b[0mself\u001b[0m\u001b[0;34m.\u001b[0m\u001b[0m_output\u001b[0m\u001b[0;34m.\u001b[0m\u001b[0mextend\u001b[0m\u001b[0;34m(\u001b[0m\u001b[0mjob\u001b[0m\u001b[0;34m.\u001b[0m\u001b[0mget\u001b[0m\u001b[0;34m(\u001b[0m\u001b[0mtimeout\u001b[0m\u001b[0;34m=\u001b[0m\u001b[0mself\u001b[0m\u001b[0;34m.\u001b[0m\u001b[0mtimeout\u001b[0m\u001b[0;34m)\u001b[0m\u001b[0;34m)\u001b[0m\u001b[0;34m\u001b[0m\u001b[0m\n\u001b[0m\u001b[1;32m    700\u001b[0m                 \u001b[0;32melse\u001b[0m\u001b[0;34m:\u001b[0m\u001b[0;34m\u001b[0m\u001b[0m\n",
      "\u001b[0;32m/anaconda3/lib/python3.6/multiprocessing/pool.py\u001b[0m in \u001b[0;36mget\u001b[0;34m(self, timeout)\u001b[0m\n\u001b[1;32m    643\u001b[0m         \u001b[0;32melse\u001b[0m\u001b[0;34m:\u001b[0m\u001b[0;34m\u001b[0m\u001b[0m\n\u001b[0;32m--> 644\u001b[0;31m             \u001b[0;32mraise\u001b[0m \u001b[0mself\u001b[0m\u001b[0;34m.\u001b[0m\u001b[0m_value\u001b[0m\u001b[0;34m\u001b[0m\u001b[0m\n\u001b[0m\u001b[1;32m    645\u001b[0m \u001b[0;34m\u001b[0m\u001b[0m\n",
      "\u001b[0;31mTransportableException\u001b[0m: TransportableException\n___________________________________________________________________________\nValueError                                         Fri Sep 21 10:13:18 2018\nPID: 6233                               Python 3.6.5: /anaconda3/bin/python\n...........................................................................\n/anaconda3/lib/python3.6/site-packages/sklearn/externals/joblib/parallel.py in __call__(self=<sklearn.externals.joblib.parallel.BatchedCalls object>)\n    126     def __init__(self, iterator_slice):\n    127         self.items = list(iterator_slice)\n    128         self._size = len(self.items)\n    129 \n    130     def __call__(self):\n--> 131         return [func(*args, **kwargs) for func, args, kwargs in self.items]\n        self.items = [(<function _fit_and_score>, (LogisticRegression(C=1.0, class_weight='balanced...ol=0.0001, verbose=0,\n          warm_start=False),        Block  AddressAccuracy  Species_CULEX ERR...       0          0  \n\n[14929 rows x 210 columns], 94       0\n9757     1\n10237    1\n10109    0\n1009...  1\nName: WnvPresent, Length: 14929, dtype: int64, {'score': <function _passthrough_scorer>}, array([ 2941,  2942,  2943, ..., 14926, 14927, 14928]), array([   0,    1,    2, ..., 3035, 3036, 3037]), 1, {'class_weight': 'balanced', 'max_iter': 50, 'multi_class': 'multinomial', 'solver': 'liblinear'}), {'error_score': 'raise', 'fit_params': {}, 'return_n_test_samples': True, 'return_parameters': False, 'return_times': True, 'return_train_score': 'warn'})]\n    132 \n    133     def __len__(self):\n    134         return self._size\n    135 \n\n...........................................................................\n/anaconda3/lib/python3.6/site-packages/sklearn/externals/joblib/parallel.py in <listcomp>(.0=<list_iterator object>)\n    126     def __init__(self, iterator_slice):\n    127         self.items = list(iterator_slice)\n    128         self._size = len(self.items)\n    129 \n    130     def __call__(self):\n--> 131         return [func(*args, **kwargs) for func, args, kwargs in self.items]\n        func = <function _fit_and_score>\n        args = (LogisticRegression(C=1.0, class_weight='balanced...ol=0.0001, verbose=0,\n          warm_start=False),        Block  AddressAccuracy  Species_CULEX ERR...       0          0  \n\n[14929 rows x 210 columns], 94       0\n9757     1\n10237    1\n10109    0\n1009...  1\nName: WnvPresent, Length: 14929, dtype: int64, {'score': <function _passthrough_scorer>}, array([ 2941,  2942,  2943, ..., 14926, 14927, 14928]), array([   0,    1,    2, ..., 3035, 3036, 3037]), 1, {'class_weight': 'balanced', 'max_iter': 50, 'multi_class': 'multinomial', 'solver': 'liblinear'})\n        kwargs = {'error_score': 'raise', 'fit_params': {}, 'return_n_test_samples': True, 'return_parameters': False, 'return_times': True, 'return_train_score': 'warn'}\n    132 \n    133     def __len__(self):\n    134         return self._size\n    135 \n\n...........................................................................\n/anaconda3/lib/python3.6/site-packages/sklearn/model_selection/_validation.py in _fit_and_score(estimator=LogisticRegression(C=1.0, class_weight='balanced...ol=0.0001, verbose=0,\n          warm_start=False), X=       Block  AddressAccuracy  Species_CULEX ERR...       0          0  \n\n[14929 rows x 210 columns], y=94       0\n9757     1\n10237    1\n10109    0\n1009...  1\nName: WnvPresent, Length: 14929, dtype: int64, scorer={'score': <function _passthrough_scorer>}, train=array([ 2941,  2942,  2943, ..., 14926, 14927, 14928]), test=array([   0,    1,    2, ..., 3035, 3036, 3037]), verbose=1, parameters={'class_weight': 'balanced', 'max_iter': 50, 'multi_class': 'multinomial', 'solver': 'liblinear'}, fit_params={}, return_train_score='warn', return_parameters=False, return_n_test_samples=True, return_times=True, error_score='raise')\n    453 \n    454     try:\n    455         if y_train is None:\n    456             estimator.fit(X_train, **fit_params)\n    457         else:\n--> 458             estimator.fit(X_train, y_train, **fit_params)\n        estimator.fit = <bound method LogisticRegression.fit of Logistic...l=0.0001, verbose=0,\n          warm_start=False)>\n        X_train =        Block  AddressAccuracy  Species_CULEX ERR...       0          0  \n\n[11942 rows x 210 columns]\n        y_train = 970      1\n3049     1\n9532     1\n2711     1\n1423...  1\nName: WnvPresent, Length: 11942, dtype: int64\n        fit_params = {}\n    459 \n    460     except Exception as e:\n    461         # Note fit time as time until error\n    462         fit_time = time.time() - start_time\n\n...........................................................................\n/anaconda3/lib/python3.6/site-packages/sklearn/linear_model/logistic.py in fit(self=LogisticRegression(C=1.0, class_weight='balanced...ol=0.0001, verbose=0,\n          warm_start=False), X=array([[45.,  9.,  0., ...,  0.,  0.,  0.],\n    ...0.],\n       [41.,  9.,  0., ...,  0.,  0.,  0.]]), y=array([1, 1, 1, ..., 1, 1, 1]), sample_weight=None)\n   1217         check_classification_targets(y)\n   1218         self.classes_ = np.unique(y)\n   1219         n_samples, n_features = X.shape\n   1220 \n   1221         _check_solver_option(self.solver, self.multi_class, self.penalty,\n-> 1222                              self.dual)\n        self.dual = False\n   1223 \n   1224         if self.solver == 'liblinear':\n   1225             if self.n_jobs != 1:\n   1226                 warnings.warn(\"'n_jobs' > 1 does not have any effect when\"\n\n...........................................................................\n/anaconda3/lib/python3.6/site-packages/sklearn/linear_model/logistic.py in _check_solver_option(solver='liblinear', multi_class='multinomial', penalty='l2', dual=False)\n    433         raise ValueError(\"multi_class should be either multinomial or \"\n    434                          \"ovr, got %s\" % multi_class)\n    435 \n    436     if multi_class == 'multinomial' and solver == 'liblinear':\n    437         raise ValueError(\"Solver %s does not support \"\n--> 438                          \"a multinomial backend.\" % solver)\n        solver = 'liblinear'\n    439 \n    440     if solver not in ['liblinear', 'saga']:\n    441         if penalty != 'l2':\n    442             raise ValueError(\"Solver %s supports only l2 penalties, \"\n\nValueError: Solver liblinear does not support a multinomial backend.\n___________________________________________________________________________",
      "\nDuring handling of the above exception, another exception occurred:\n",
      "\u001b[0;31mJoblibValueError\u001b[0m                          Traceback (most recent call last)",
      "\u001b[0;32m<ipython-input-39-8716d0b5f611>\u001b[0m in \u001b[0;36m<module>\u001b[0;34m()\u001b[0m\n\u001b[1;32m     16\u001b[0m )\n\u001b[1;32m     17\u001b[0m \u001b[0;34m\u001b[0m\u001b[0m\n\u001b[0;32m---> 18\u001b[0;31m \u001b[0mgs_results\u001b[0m \u001b[0;34m=\u001b[0m \u001b[0mgs\u001b[0m\u001b[0;34m.\u001b[0m\u001b[0mfit\u001b[0m\u001b[0;34m(\u001b[0m\u001b[0mX_train\u001b[0m\u001b[0;34m,\u001b[0m\u001b[0my_train\u001b[0m\u001b[0;34m)\u001b[0m\u001b[0;34m\u001b[0m\u001b[0m\n\u001b[0m",
      "\u001b[0;32m/anaconda3/lib/python3.6/site-packages/sklearn/model_selection/_search.py\u001b[0m in \u001b[0;36mfit\u001b[0;34m(self, X, y, groups, **fit_params)\u001b[0m\n\u001b[1;32m    637\u001b[0m                                   error_score=self.error_score)\n\u001b[1;32m    638\u001b[0m           for parameters, (train, test) in product(candidate_params,\n\u001b[0;32m--> 639\u001b[0;31m                                                    cv.split(X, y, groups)))\n\u001b[0m\u001b[1;32m    640\u001b[0m \u001b[0;34m\u001b[0m\u001b[0m\n\u001b[1;32m    641\u001b[0m         \u001b[0;31m# if one choose to see train score, \"out\" will contain train score info\u001b[0m\u001b[0;34m\u001b[0m\u001b[0;34m\u001b[0m\u001b[0m\n",
      "\u001b[0;32m/anaconda3/lib/python3.6/site-packages/sklearn/externals/joblib/parallel.py\u001b[0m in \u001b[0;36m__call__\u001b[0;34m(self, iterable)\u001b[0m\n\u001b[1;32m    787\u001b[0m                 \u001b[0;31m# consumption.\u001b[0m\u001b[0;34m\u001b[0m\u001b[0;34m\u001b[0m\u001b[0m\n\u001b[1;32m    788\u001b[0m                 \u001b[0mself\u001b[0m\u001b[0;34m.\u001b[0m\u001b[0m_iterating\u001b[0m \u001b[0;34m=\u001b[0m \u001b[0;32mFalse\u001b[0m\u001b[0;34m\u001b[0m\u001b[0m\n\u001b[0;32m--> 789\u001b[0;31m             \u001b[0mself\u001b[0m\u001b[0;34m.\u001b[0m\u001b[0mretrieve\u001b[0m\u001b[0;34m(\u001b[0m\u001b[0;34m)\u001b[0m\u001b[0;34m\u001b[0m\u001b[0m\n\u001b[0m\u001b[1;32m    790\u001b[0m             \u001b[0;31m# Make sure that we get a last message telling us we are done\u001b[0m\u001b[0;34m\u001b[0m\u001b[0;34m\u001b[0m\u001b[0m\n\u001b[1;32m    791\u001b[0m             \u001b[0melapsed_time\u001b[0m \u001b[0;34m=\u001b[0m \u001b[0mtime\u001b[0m\u001b[0;34m.\u001b[0m\u001b[0mtime\u001b[0m\u001b[0;34m(\u001b[0m\u001b[0;34m)\u001b[0m \u001b[0;34m-\u001b[0m \u001b[0mself\u001b[0m\u001b[0;34m.\u001b[0m\u001b[0m_start_time\u001b[0m\u001b[0;34m\u001b[0m\u001b[0m\n",
      "\u001b[0;32m/anaconda3/lib/python3.6/site-packages/sklearn/externals/joblib/parallel.py\u001b[0m in \u001b[0;36mretrieve\u001b[0;34m(self)\u001b[0m\n\u001b[1;32m    738\u001b[0m                     \u001b[0mexception\u001b[0m \u001b[0;34m=\u001b[0m \u001b[0mexception_type\u001b[0m\u001b[0;34m(\u001b[0m\u001b[0mreport\u001b[0m\u001b[0;34m)\u001b[0m\u001b[0;34m\u001b[0m\u001b[0m\n\u001b[1;32m    739\u001b[0m \u001b[0;34m\u001b[0m\u001b[0m\n\u001b[0;32m--> 740\u001b[0;31m                     \u001b[0;32mraise\u001b[0m \u001b[0mexception\u001b[0m\u001b[0;34m\u001b[0m\u001b[0m\n\u001b[0m\u001b[1;32m    741\u001b[0m \u001b[0;34m\u001b[0m\u001b[0m\n\u001b[1;32m    742\u001b[0m     \u001b[0;32mdef\u001b[0m \u001b[0m__call__\u001b[0m\u001b[0;34m(\u001b[0m\u001b[0mself\u001b[0m\u001b[0;34m,\u001b[0m \u001b[0miterable\u001b[0m\u001b[0;34m)\u001b[0m\u001b[0;34m:\u001b[0m\u001b[0;34m\u001b[0m\u001b[0m\n",
      "\u001b[0;31mJoblibValueError\u001b[0m: JoblibValueError\n___________________________________________________________________________\nMultiprocessing exception:\n...........................................................................\n/anaconda3/lib/python3.6/runpy.py in _run_module_as_main(mod_name='ipykernel_launcher', alter_argv=1)\n    188         sys.exit(msg)\n    189     main_globals = sys.modules[\"__main__\"].__dict__\n    190     if alter_argv:\n    191         sys.argv[0] = mod_spec.origin\n    192     return _run_code(code, main_globals, None,\n--> 193                      \"__main__\", mod_spec)\n        mod_spec = ModuleSpec(name='ipykernel_launcher', loader=<_f...b/python3.6/site-packages/ipykernel_launcher.py')\n    194 \n    195 def run_module(mod_name, init_globals=None,\n    196                run_name=None, alter_sys=False):\n    197     \"\"\"Execute a module's code without importing it\n\n...........................................................................\n/anaconda3/lib/python3.6/runpy.py in _run_code(code=<code object <module> at 0x1028306f0, file \"/ana...3.6/site-packages/ipykernel_launcher.py\", line 5>, run_globals={'__annotations__': {}, '__builtins__': <module 'builtins' (built-in)>, '__cached__': '/anaconda3/lib/python3.6/site-packages/__pycache__/ipykernel_launcher.cpython-36.pyc', '__doc__': 'Entry point for launching an IPython kernel.\\n\\nTh...orts until\\nafter removing the cwd from sys.path.\\n', '__file__': '/anaconda3/lib/python3.6/site-packages/ipykernel_launcher.py', '__loader__': <_frozen_importlib_external.SourceFileLoader object>, '__name__': '__main__', '__package__': '', '__spec__': ModuleSpec(name='ipykernel_launcher', loader=<_f...b/python3.6/site-packages/ipykernel_launcher.py'), 'app': <module 'ipykernel.kernelapp' from '/anaconda3/lib/python3.6/site-packages/ipykernel/kernelapp.py'>, ...}, init_globals=None, mod_name='__main__', mod_spec=ModuleSpec(name='ipykernel_launcher', loader=<_f...b/python3.6/site-packages/ipykernel_launcher.py'), pkg_name='', script_name=None)\n     80                        __cached__ = cached,\n     81                        __doc__ = None,\n     82                        __loader__ = loader,\n     83                        __package__ = pkg_name,\n     84                        __spec__ = mod_spec)\n---> 85     exec(code, run_globals)\n        code = <code object <module> at 0x1028306f0, file \"/ana...3.6/site-packages/ipykernel_launcher.py\", line 5>\n        run_globals = {'__annotations__': {}, '__builtins__': <module 'builtins' (built-in)>, '__cached__': '/anaconda3/lib/python3.6/site-packages/__pycache__/ipykernel_launcher.cpython-36.pyc', '__doc__': 'Entry point for launching an IPython kernel.\\n\\nTh...orts until\\nafter removing the cwd from sys.path.\\n', '__file__': '/anaconda3/lib/python3.6/site-packages/ipykernel_launcher.py', '__loader__': <_frozen_importlib_external.SourceFileLoader object>, '__name__': '__main__', '__package__': '', '__spec__': ModuleSpec(name='ipykernel_launcher', loader=<_f...b/python3.6/site-packages/ipykernel_launcher.py'), 'app': <module 'ipykernel.kernelapp' from '/anaconda3/lib/python3.6/site-packages/ipykernel/kernelapp.py'>, ...}\n     86     return run_globals\n     87 \n     88 def _run_module_code(code, init_globals=None,\n     89                     mod_name=None, mod_spec=None,\n\n...........................................................................\n/anaconda3/lib/python3.6/site-packages/ipykernel_launcher.py in <module>()\n     11     # This is added back by InteractiveShellApp.init_path()\n     12     if sys.path[0] == '':\n     13         del sys.path[0]\n     14 \n     15     from ipykernel import kernelapp as app\n---> 16     app.launch_new_instance()\n\n...........................................................................\n/anaconda3/lib/python3.6/site-packages/traitlets/config/application.py in launch_instance(cls=<class 'ipykernel.kernelapp.IPKernelApp'>, argv=None, **kwargs={})\n    653 \n    654         If a global instance already exists, this reinitializes and starts it\n    655         \"\"\"\n    656         app = cls.instance(**kwargs)\n    657         app.initialize(argv)\n--> 658         app.start()\n        app.start = <bound method IPKernelApp.start of <ipykernel.kernelapp.IPKernelApp object>>\n    659 \n    660 #-----------------------------------------------------------------------------\n    661 # utility functions, for convenience\n    662 #-----------------------------------------------------------------------------\n\n...........................................................................\n/anaconda3/lib/python3.6/site-packages/ipykernel/kernelapp.py in start(self=<ipykernel.kernelapp.IPKernelApp object>)\n    481         if self.poller is not None:\n    482             self.poller.start()\n    483         self.kernel.start()\n    484         self.io_loop = ioloop.IOLoop.current()\n    485         try:\n--> 486             self.io_loop.start()\n        self.io_loop.start = <bound method BaseAsyncIOLoop.start of <tornado.platform.asyncio.AsyncIOMainLoop object>>\n    487         except KeyboardInterrupt:\n    488             pass\n    489 \n    490 launch_new_instance = IPKernelApp.launch_instance\n\n...........................................................................\n/anaconda3/lib/python3.6/site-packages/tornado/platform/asyncio.py in start(self=<tornado.platform.asyncio.AsyncIOMainLoop object>)\n    122         except (RuntimeError, AssertionError):\n    123             old_loop = None\n    124         try:\n    125             self._setup_logging()\n    126             asyncio.set_event_loop(self.asyncio_loop)\n--> 127             self.asyncio_loop.run_forever()\n        self.asyncio_loop.run_forever = <bound method BaseEventLoop.run_forever of <_Uni...EventLoop running=True closed=False debug=False>>\n    128         finally:\n    129             asyncio.set_event_loop(old_loop)\n    130 \n    131     def stop(self):\n\n...........................................................................\n/anaconda3/lib/python3.6/asyncio/base_events.py in run_forever(self=<_UnixSelectorEventLoop running=True closed=False debug=False>)\n    417             sys.set_asyncgen_hooks(firstiter=self._asyncgen_firstiter_hook,\n    418                                    finalizer=self._asyncgen_finalizer_hook)\n    419         try:\n    420             events._set_running_loop(self)\n    421             while True:\n--> 422                 self._run_once()\n        self._run_once = <bound method BaseEventLoop._run_once of <_UnixS...EventLoop running=True closed=False debug=False>>\n    423                 if self._stopping:\n    424                     break\n    425         finally:\n    426             self._stopping = False\n\n...........................................................................\n/anaconda3/lib/python3.6/asyncio/base_events.py in _run_once(self=<_UnixSelectorEventLoop running=True closed=False debug=False>)\n   1427                         logger.warning('Executing %s took %.3f seconds',\n   1428                                        _format_handle(handle), dt)\n   1429                 finally:\n   1430                     self._current_handle = None\n   1431             else:\n-> 1432                 handle._run()\n        handle._run = <bound method Handle._run of <Handle BaseAsyncIOLoop._handle_events(15, 1)>>\n   1433         handle = None  # Needed to break cycles when an exception occurs.\n   1434 \n   1435     def _set_coroutine_wrapper(self, enabled):\n   1436         try:\n\n...........................................................................\n/anaconda3/lib/python3.6/asyncio/events.py in _run(self=<Handle BaseAsyncIOLoop._handle_events(15, 1)>)\n    140             self._callback = None\n    141             self._args = None\n    142 \n    143     def _run(self):\n    144         try:\n--> 145             self._callback(*self._args)\n        self._callback = <bound method BaseAsyncIOLoop._handle_events of <tornado.platform.asyncio.AsyncIOMainLoop object>>\n        self._args = (15, 1)\n    146         except Exception as exc:\n    147             cb = _format_callback_source(self._callback, self._args)\n    148             msg = 'Exception in callback {}'.format(cb)\n    149             context = {\n\n...........................................................................\n/anaconda3/lib/python3.6/site-packages/tornado/platform/asyncio.py in _handle_events(self=<tornado.platform.asyncio.AsyncIOMainLoop object>, fd=15, events=1)\n    112             self.writers.remove(fd)\n    113         del self.handlers[fd]\n    114 \n    115     def _handle_events(self, fd, events):\n    116         fileobj, handler_func = self.handlers[fd]\n--> 117         handler_func(fileobj, events)\n        handler_func = <function wrap.<locals>.null_wrapper>\n        fileobj = <zmq.sugar.socket.Socket object>\n        events = 1\n    118 \n    119     def start(self):\n    120         try:\n    121             old_loop = asyncio.get_event_loop()\n\n...........................................................................\n/anaconda3/lib/python3.6/site-packages/tornado/stack_context.py in null_wrapper(*args=(<zmq.sugar.socket.Socket object>, 1), **kwargs={})\n    271         # Fast path when there are no active contexts.\n    272         def null_wrapper(*args, **kwargs):\n    273             try:\n    274                 current_state = _state.contexts\n    275                 _state.contexts = cap_contexts[0]\n--> 276                 return fn(*args, **kwargs)\n        args = (<zmq.sugar.socket.Socket object>, 1)\n        kwargs = {}\n    277             finally:\n    278                 _state.contexts = current_state\n    279         null_wrapper._wrapped = True\n    280         return null_wrapper\n\n...........................................................................\n/anaconda3/lib/python3.6/site-packages/zmq/eventloop/zmqstream.py in _handle_events(self=<zmq.eventloop.zmqstream.ZMQStream object>, fd=<zmq.sugar.socket.Socket object>, events=1)\n    445             return\n    446         zmq_events = self.socket.EVENTS\n    447         try:\n    448             # dispatch events:\n    449             if zmq_events & zmq.POLLIN and self.receiving():\n--> 450                 self._handle_recv()\n        self._handle_recv = <bound method ZMQStream._handle_recv of <zmq.eventloop.zmqstream.ZMQStream object>>\n    451                 if not self.socket:\n    452                     return\n    453             if zmq_events & zmq.POLLOUT and self.sending():\n    454                 self._handle_send()\n\n...........................................................................\n/anaconda3/lib/python3.6/site-packages/zmq/eventloop/zmqstream.py in _handle_recv(self=<zmq.eventloop.zmqstream.ZMQStream object>)\n    475             else:\n    476                 raise\n    477         else:\n    478             if self._recv_callback:\n    479                 callback = self._recv_callback\n--> 480                 self._run_callback(callback, msg)\n        self._run_callback = <bound method ZMQStream._run_callback of <zmq.eventloop.zmqstream.ZMQStream object>>\n        callback = <function wrap.<locals>.null_wrapper>\n        msg = [<zmq.sugar.frame.Frame object>, <zmq.sugar.frame.Frame object>, <zmq.sugar.frame.Frame object>, <zmq.sugar.frame.Frame object>, <zmq.sugar.frame.Frame object>, <zmq.sugar.frame.Frame object>, <zmq.sugar.frame.Frame object>]\n    481         \n    482 \n    483     def _handle_send(self):\n    484         \"\"\"Handle a send event.\"\"\"\n\n...........................................................................\n/anaconda3/lib/python3.6/site-packages/zmq/eventloop/zmqstream.py in _run_callback(self=<zmq.eventloop.zmqstream.ZMQStream object>, callback=<function wrap.<locals>.null_wrapper>, *args=([<zmq.sugar.frame.Frame object>, <zmq.sugar.frame.Frame object>, <zmq.sugar.frame.Frame object>, <zmq.sugar.frame.Frame object>, <zmq.sugar.frame.Frame object>, <zmq.sugar.frame.Frame object>, <zmq.sugar.frame.Frame object>],), **kwargs={})\n    427         close our socket.\"\"\"\n    428         try:\n    429             # Use a NullContext to ensure that all StackContexts are run\n    430             # inside our blanket exception handler rather than outside.\n    431             with stack_context.NullContext():\n--> 432                 callback(*args, **kwargs)\n        callback = <function wrap.<locals>.null_wrapper>\n        args = ([<zmq.sugar.frame.Frame object>, <zmq.sugar.frame.Frame object>, <zmq.sugar.frame.Frame object>, <zmq.sugar.frame.Frame object>, <zmq.sugar.frame.Frame object>, <zmq.sugar.frame.Frame object>, <zmq.sugar.frame.Frame object>],)\n        kwargs = {}\n    433         except:\n    434             gen_log.error(\"Uncaught exception in ZMQStream callback\",\n    435                           exc_info=True)\n    436             # Re-raise the exception so that IOLoop.handle_callback_exception\n\n...........................................................................\n/anaconda3/lib/python3.6/site-packages/tornado/stack_context.py in null_wrapper(*args=([<zmq.sugar.frame.Frame object>, <zmq.sugar.frame.Frame object>, <zmq.sugar.frame.Frame object>, <zmq.sugar.frame.Frame object>, <zmq.sugar.frame.Frame object>, <zmq.sugar.frame.Frame object>, <zmq.sugar.frame.Frame object>],), **kwargs={})\n    271         # Fast path when there are no active contexts.\n    272         def null_wrapper(*args, **kwargs):\n    273             try:\n    274                 current_state = _state.contexts\n    275                 _state.contexts = cap_contexts[0]\n--> 276                 return fn(*args, **kwargs)\n        args = ([<zmq.sugar.frame.Frame object>, <zmq.sugar.frame.Frame object>, <zmq.sugar.frame.Frame object>, <zmq.sugar.frame.Frame object>, <zmq.sugar.frame.Frame object>, <zmq.sugar.frame.Frame object>, <zmq.sugar.frame.Frame object>],)\n        kwargs = {}\n    277             finally:\n    278                 _state.contexts = current_state\n    279         null_wrapper._wrapped = True\n    280         return null_wrapper\n\n...........................................................................\n/anaconda3/lib/python3.6/site-packages/ipykernel/kernelbase.py in dispatcher(msg=[<zmq.sugar.frame.Frame object>, <zmq.sugar.frame.Frame object>, <zmq.sugar.frame.Frame object>, <zmq.sugar.frame.Frame object>, <zmq.sugar.frame.Frame object>, <zmq.sugar.frame.Frame object>, <zmq.sugar.frame.Frame object>])\n    278         if self.control_stream:\n    279             self.control_stream.on_recv(self.dispatch_control, copy=False)\n    280 \n    281         def make_dispatcher(stream):\n    282             def dispatcher(msg):\n--> 283                 return self.dispatch_shell(stream, msg)\n        msg = [<zmq.sugar.frame.Frame object>, <zmq.sugar.frame.Frame object>, <zmq.sugar.frame.Frame object>, <zmq.sugar.frame.Frame object>, <zmq.sugar.frame.Frame object>, <zmq.sugar.frame.Frame object>, <zmq.sugar.frame.Frame object>]\n    284             return dispatcher\n    285 \n    286         for s in self.shell_streams:\n    287             s.on_recv(make_dispatcher(s), copy=False)\n\n...........................................................................\n/anaconda3/lib/python3.6/site-packages/ipykernel/kernelbase.py in dispatch_shell(self=<ipykernel.ipkernel.IPythonKernel object>, stream=<zmq.eventloop.zmqstream.ZMQStream object>, msg={'buffers': [], 'content': {'allow_stdin': True, 'code': \"#Logistic Regression\\ngrid_params = {\\n    'max_it...jobs = -1\\n)\\n\\ngs_results = gs.fit(X_train,y_train)\", 'silent': False, 'stop_on_error': True, 'store_history': True, 'user_expressions': {}}, 'header': {'date': datetime.datetime(2018, 9, 21, 14, 12, 58, 920945, tzinfo=tzutc()), 'msg_id': '95b8814d33034ad88654ae6c6f33099b', 'msg_type': 'execute_request', 'session': '0f4788f72e904a668b00a37e34569968', 'username': 'username', 'version': '5.2'}, 'metadata': {}, 'msg_id': '95b8814d33034ad88654ae6c6f33099b', 'msg_type': 'execute_request', 'parent_header': {}})\n    228             self.log.warn(\"Unknown message type: %r\", msg_type)\n    229         else:\n    230             self.log.debug(\"%s: %s\", msg_type, msg)\n    231             self.pre_handler_hook()\n    232             try:\n--> 233                 handler(stream, idents, msg)\n        handler = <bound method Kernel.execute_request of <ipykernel.ipkernel.IPythonKernel object>>\n        stream = <zmq.eventloop.zmqstream.ZMQStream object>\n        idents = [b'0f4788f72e904a668b00a37e34569968']\n        msg = {'buffers': [], 'content': {'allow_stdin': True, 'code': \"#Logistic Regression\\ngrid_params = {\\n    'max_it...jobs = -1\\n)\\n\\ngs_results = gs.fit(X_train,y_train)\", 'silent': False, 'stop_on_error': True, 'store_history': True, 'user_expressions': {}}, 'header': {'date': datetime.datetime(2018, 9, 21, 14, 12, 58, 920945, tzinfo=tzutc()), 'msg_id': '95b8814d33034ad88654ae6c6f33099b', 'msg_type': 'execute_request', 'session': '0f4788f72e904a668b00a37e34569968', 'username': 'username', 'version': '5.2'}, 'metadata': {}, 'msg_id': '95b8814d33034ad88654ae6c6f33099b', 'msg_type': 'execute_request', 'parent_header': {}}\n    234             except Exception:\n    235                 self.log.error(\"Exception in message handler:\", exc_info=True)\n    236             finally:\n    237                 self.post_handler_hook()\n\n...........................................................................\n/anaconda3/lib/python3.6/site-packages/ipykernel/kernelbase.py in execute_request(self=<ipykernel.ipkernel.IPythonKernel object>, stream=<zmq.eventloop.zmqstream.ZMQStream object>, ident=[b'0f4788f72e904a668b00a37e34569968'], parent={'buffers': [], 'content': {'allow_stdin': True, 'code': \"#Logistic Regression\\ngrid_params = {\\n    'max_it...jobs = -1\\n)\\n\\ngs_results = gs.fit(X_train,y_train)\", 'silent': False, 'stop_on_error': True, 'store_history': True, 'user_expressions': {}}, 'header': {'date': datetime.datetime(2018, 9, 21, 14, 12, 58, 920945, tzinfo=tzutc()), 'msg_id': '95b8814d33034ad88654ae6c6f33099b', 'msg_type': 'execute_request', 'session': '0f4788f72e904a668b00a37e34569968', 'username': 'username', 'version': '5.2'}, 'metadata': {}, 'msg_id': '95b8814d33034ad88654ae6c6f33099b', 'msg_type': 'execute_request', 'parent_header': {}})\n    394         if not silent:\n    395             self.execution_count += 1\n    396             self._publish_execute_input(code, parent, self.execution_count)\n    397 \n    398         reply_content = self.do_execute(code, silent, store_history,\n--> 399                                         user_expressions, allow_stdin)\n        user_expressions = {}\n        allow_stdin = True\n    400 \n    401         # Flush output before sending the reply.\n    402         sys.stdout.flush()\n    403         sys.stderr.flush()\n\n...........................................................................\n/anaconda3/lib/python3.6/site-packages/ipykernel/ipkernel.py in do_execute(self=<ipykernel.ipkernel.IPythonKernel object>, code=\"#Logistic Regression\\ngrid_params = {\\n    'max_it...jobs = -1\\n)\\n\\ngs_results = gs.fit(X_train,y_train)\", silent=False, store_history=True, user_expressions={}, allow_stdin=True)\n    203 \n    204         self._forward_input(allow_stdin)\n    205 \n    206         reply_content = {}\n    207         try:\n--> 208             res = shell.run_cell(code, store_history=store_history, silent=silent)\n        res = undefined\n        shell.run_cell = <bound method ZMQInteractiveShell.run_cell of <ipykernel.zmqshell.ZMQInteractiveShell object>>\n        code = \"#Logistic Regression\\ngrid_params = {\\n    'max_it...jobs = -1\\n)\\n\\ngs_results = gs.fit(X_train,y_train)\"\n        store_history = True\n        silent = False\n    209         finally:\n    210             self._restore_input()\n    211 \n    212         if res.error_before_exec is not None:\n\n...........................................................................\n/anaconda3/lib/python3.6/site-packages/ipykernel/zmqshell.py in run_cell(self=<ipykernel.zmqshell.ZMQInteractiveShell object>, *args=(\"#Logistic Regression\\ngrid_params = {\\n    'max_it...jobs = -1\\n)\\n\\ngs_results = gs.fit(X_train,y_train)\",), **kwargs={'silent': False, 'store_history': True})\n    532             )\n    533         self.payload_manager.write_payload(payload)\n    534 \n    535     def run_cell(self, *args, **kwargs):\n    536         self._last_traceback = None\n--> 537         return super(ZMQInteractiveShell, self).run_cell(*args, **kwargs)\n        self.run_cell = <bound method ZMQInteractiveShell.run_cell of <ipykernel.zmqshell.ZMQInteractiveShell object>>\n        args = (\"#Logistic Regression\\ngrid_params = {\\n    'max_it...jobs = -1\\n)\\n\\ngs_results = gs.fit(X_train,y_train)\",)\n        kwargs = {'silent': False, 'store_history': True}\n    538 \n    539     def _showtraceback(self, etype, evalue, stb):\n    540         # try to preserve ordering of tracebacks and print statements\n    541         sys.stdout.flush()\n\n...........................................................................\n/anaconda3/lib/python3.6/site-packages/IPython/core/interactiveshell.py in run_cell(self=<ipykernel.zmqshell.ZMQInteractiveShell object>, raw_cell=\"#Logistic Regression\\ngrid_params = {\\n    'max_it...jobs = -1\\n)\\n\\ngs_results = gs.fit(X_train,y_train)\", store_history=True, silent=False, shell_futures=True)\n   2657         -------\n   2658         result : :class:`ExecutionResult`\n   2659         \"\"\"\n   2660         try:\n   2661             result = self._run_cell(\n-> 2662                 raw_cell, store_history, silent, shell_futures)\n        raw_cell = \"#Logistic Regression\\ngrid_params = {\\n    'max_it...jobs = -1\\n)\\n\\ngs_results = gs.fit(X_train,y_train)\"\n        store_history = True\n        silent = False\n        shell_futures = True\n   2663         finally:\n   2664             self.events.trigger('post_execute')\n   2665             if not silent:\n   2666                 self.events.trigger('post_run_cell', result)\n\n...........................................................................\n/anaconda3/lib/python3.6/site-packages/IPython/core/interactiveshell.py in _run_cell(self=<ipykernel.zmqshell.ZMQInteractiveShell object>, raw_cell=\"#Logistic Regression\\ngrid_params = {\\n    'max_it...jobs = -1\\n)\\n\\ngs_results = gs.fit(X_train,y_train)\", store_history=True, silent=False, shell_futures=True)\n   2780                 self.displayhook.exec_result = result\n   2781 \n   2782                 # Execute the user code\n   2783                 interactivity = 'none' if silent else self.ast_node_interactivity\n   2784                 has_raised = self.run_ast_nodes(code_ast.body, cell_name,\n-> 2785                    interactivity=interactivity, compiler=compiler, result=result)\n        interactivity = 'last_expr'\n        compiler = <IPython.core.compilerop.CachingCompiler object>\n   2786                 \n   2787                 self.last_execution_succeeded = not has_raised\n   2788                 self.last_execution_result = result\n   2789 \n\n...........................................................................\n/anaconda3/lib/python3.6/site-packages/IPython/core/interactiveshell.py in run_ast_nodes(self=<ipykernel.zmqshell.ZMQInteractiveShell object>, nodelist=[<_ast.Assign object>, <_ast.Assign object>, <_ast.Assign object>], cell_name='<ipython-input-39-8716d0b5f611>', interactivity='none', compiler=<IPython.core.compilerop.CachingCompiler object>, result=<ExecutionResult object at 1a0a3f86a0, execution...rue silent=False shell_futures=True> result=None>)\n   2898 \n   2899         try:\n   2900             for i, node in enumerate(to_run_exec):\n   2901                 mod = ast.Module([node])\n   2902                 code = compiler(mod, cell_name, \"exec\")\n-> 2903                 if self.run_code(code, result):\n        self.run_code = <bound method InteractiveShell.run_code of <ipykernel.zmqshell.ZMQInteractiveShell object>>\n        code = <code object <module> at 0x1a09ff0270, file \"<ipython-input-39-8716d0b5f611>\", line 18>\n        result = <ExecutionResult object at 1a0a3f86a0, execution...rue silent=False shell_futures=True> result=None>\n   2904                     return True\n   2905 \n   2906             for i, node in enumerate(to_run_interactive):\n   2907                 mod = ast.Interactive([node])\n\n...........................................................................\n/anaconda3/lib/python3.6/site-packages/IPython/core/interactiveshell.py in run_code(self=<ipykernel.zmqshell.ZMQInteractiveShell object>, code_obj=<code object <module> at 0x1a09ff0270, file \"<ipython-input-39-8716d0b5f611>\", line 18>, result=<ExecutionResult object at 1a0a3f86a0, execution...rue silent=False shell_futures=True> result=None>)\n   2958         outflag = True  # happens in more places, so it's easier as default\n   2959         try:\n   2960             try:\n   2961                 self.hooks.pre_run_code_hook()\n   2962                 #rprint('Running code', repr(code_obj)) # dbg\n-> 2963                 exec(code_obj, self.user_global_ns, self.user_ns)\n        code_obj = <code object <module> at 0x1a09ff0270, file \"<ipython-input-39-8716d0b5f611>\", line 18>\n        self.user_global_ns = {'AdaBoostClassifier': <class 'sklearn.ensemble.weight_boosting.AdaBoostClassifier'>, 'BaggingClassifier': <class 'sklearn.ensemble.bagging.BaggingClassifier'>, 'DecisionTreeClassifier': <class 'sklearn.tree.tree.DecisionTreeClassifier'>, 'ExtraTreeClassifier': <class 'sklearn.tree.tree.ExtraTreeClassifier'>, 'GradientBoostingClassifier': <class 'sklearn.ensemble.gradient_boosting.GradientBoostingClassifier'>, 'GridSearchCV': <class 'sklearn.model_selection._search.GridSearchCV'>, 'In': ['', 'import pandas as pd\\npd.set_option(\"display.max_c...ifier, AdaBoostClassifier\\nfrom sklearn import svm', \"#import data\\ntest = pd.read_csv('./data/west_nil...ad_csv('./data/west_nile_train.csv', index_col=0)\", \"#id X and y\\nX = train.drop(['Date', 'NumMosquitos', 'WnvPresent'], axis=1)\\ny = train.WnvPresent\", '#train split\\nX_train, X_test, y_train, y_test = train_test_split(X, y)', '#cross val score all potential classification mo..., cross_val_score(svm1, X_train, y_train).mean())', '#fit and score\\nlr.fit(X_train, y_train)\\nlr.score(X_test, y_test)', 'lr_coefs = pd.DataFrame(lr.coef_, columns=X.colu...se)\\n#higher coefs are more likely to indicate WNV', \"#import data\\nbalenced_train = pd.read_csv('./data/BALANCED_west_nile_train.csv', index_col=0)\", 'balenced_train.WnvPresent.value_counts()', \"#id X and y\\nX = balenced_train.drop(['Date', 'Nu...ongitude'], axis=1)\\ny = balenced_train.WnvPresent\", '#train split\\nX_train, X_test, y_train, y_test = train_test_split(X, y)', '#cross val score all potential classification mo...s_val_score(svm1, X_train, y_train).mean()) #.644', 'lr.fit(X_train, y_train)\\nlr_coefs = pd.DataFrame...se)\\n#higher coefs are more likely to indicate WNV', 'from sklearn.model_selection import GridSearchCV...etrics import recall_score, make_scorer, f1_score', \"#Logistic Regression\\ngrid_params = {\\n    'max_it...jobs = -1\\n)\\n\\ngs_results = gs.fit(X_train,y_train)\", \"print('best param',gs.best_params_)\\nprint('best score',gs.best_score_)\", \"#knn\\ngrid_params = {\\n    'n_neighbors':[3,5,7],\\n...jobs = -1\\n)\\n\\ngs_results = gs.fit(X_train,y_train)\", \"print('best param',gs.best_params_)\\nprint('best score',gs.best_score_)\", \"#dt\\ngrid_params = {\\n    'criterion':['gini','ent...jobs = -1\\n)\\n\\ngs_results = gs.fit(X_train,y_train)\", ...], 'KNeighborsClassifier': <class 'sklearn.neighbors.classification.KNeighborsClassifier'>, 'LogisticRegression': <class 'sklearn.linear_model.logistic.LogisticRegression'>, 'MultinomialNB': <class 'sklearn.naive_bayes.MultinomialNB'>, ...}\n        self.user_ns = {'AdaBoostClassifier': <class 'sklearn.ensemble.weight_boosting.AdaBoostClassifier'>, 'BaggingClassifier': <class 'sklearn.ensemble.bagging.BaggingClassifier'>, 'DecisionTreeClassifier': <class 'sklearn.tree.tree.DecisionTreeClassifier'>, 'ExtraTreeClassifier': <class 'sklearn.tree.tree.ExtraTreeClassifier'>, 'GradientBoostingClassifier': <class 'sklearn.ensemble.gradient_boosting.GradientBoostingClassifier'>, 'GridSearchCV': <class 'sklearn.model_selection._search.GridSearchCV'>, 'In': ['', 'import pandas as pd\\npd.set_option(\"display.max_c...ifier, AdaBoostClassifier\\nfrom sklearn import svm', \"#import data\\ntest = pd.read_csv('./data/west_nil...ad_csv('./data/west_nile_train.csv', index_col=0)\", \"#id X and y\\nX = train.drop(['Date', 'NumMosquitos', 'WnvPresent'], axis=1)\\ny = train.WnvPresent\", '#train split\\nX_train, X_test, y_train, y_test = train_test_split(X, y)', '#cross val score all potential classification mo..., cross_val_score(svm1, X_train, y_train).mean())', '#fit and score\\nlr.fit(X_train, y_train)\\nlr.score(X_test, y_test)', 'lr_coefs = pd.DataFrame(lr.coef_, columns=X.colu...se)\\n#higher coefs are more likely to indicate WNV', \"#import data\\nbalenced_train = pd.read_csv('./data/BALANCED_west_nile_train.csv', index_col=0)\", 'balenced_train.WnvPresent.value_counts()', \"#id X and y\\nX = balenced_train.drop(['Date', 'Nu...ongitude'], axis=1)\\ny = balenced_train.WnvPresent\", '#train split\\nX_train, X_test, y_train, y_test = train_test_split(X, y)', '#cross val score all potential classification mo...s_val_score(svm1, X_train, y_train).mean()) #.644', 'lr.fit(X_train, y_train)\\nlr_coefs = pd.DataFrame...se)\\n#higher coefs are more likely to indicate WNV', 'from sklearn.model_selection import GridSearchCV...etrics import recall_score, make_scorer, f1_score', \"#Logistic Regression\\ngrid_params = {\\n    'max_it...jobs = -1\\n)\\n\\ngs_results = gs.fit(X_train,y_train)\", \"print('best param',gs.best_params_)\\nprint('best score',gs.best_score_)\", \"#knn\\ngrid_params = {\\n    'n_neighbors':[3,5,7],\\n...jobs = -1\\n)\\n\\ngs_results = gs.fit(X_train,y_train)\", \"print('best param',gs.best_params_)\\nprint('best score',gs.best_score_)\", \"#dt\\ngrid_params = {\\n    'criterion':['gini','ent...jobs = -1\\n)\\n\\ngs_results = gs.fit(X_train,y_train)\", ...], 'KNeighborsClassifier': <class 'sklearn.neighbors.classification.KNeighborsClassifier'>, 'LogisticRegression': <class 'sklearn.linear_model.logistic.LogisticRegression'>, 'MultinomialNB': <class 'sklearn.naive_bayes.MultinomialNB'>, ...}\n   2964             finally:\n   2965                 # Reset our crash handler in place\n   2966                 sys.excepthook = old_excepthook\n   2967         except SystemExit as e:\n\n...........................................................................\n/Users/Celis/GA_work/Assignments/7_assignment/last_updated_project/west-nile-project-4/<ipython-input-39-8716d0b5f611> in <module>()\n     13     verbose = 1,\n     14     cv = 5,\n     15     n_jobs = -1\n     16 )\n     17 \n---> 18 gs_results = gs.fit(X_train,y_train)\n\n...........................................................................\n/anaconda3/lib/python3.6/site-packages/sklearn/model_selection/_search.py in fit(self=GridSearchCV(cv=5, error_score='raise',\n       e...ain_score='warn',\n       scoring=None, verbose=1), X=       Block  AddressAccuracy  Species_CULEX ERR...       0          0  \n\n[14929 rows x 210 columns], y=94       0\n9757     1\n10237    1\n10109    0\n1009...  1\nName: WnvPresent, Length: 14929, dtype: int64, groups=None, **fit_params={})\n    634                                   return_train_score=self.return_train_score,\n    635                                   return_n_test_samples=True,\n    636                                   return_times=True, return_parameters=False,\n    637                                   error_score=self.error_score)\n    638           for parameters, (train, test) in product(candidate_params,\n--> 639                                                    cv.split(X, y, groups)))\n        cv.split = <bound method StratifiedKFold.split of Stratifie...ld(n_splits=5, random_state=None, shuffle=False)>\n        X =        Block  AddressAccuracy  Species_CULEX ERR...       0          0  \n\n[14929 rows x 210 columns]\n        y = 94       0\n9757     1\n10237    1\n10109    0\n1009...  1\nName: WnvPresent, Length: 14929, dtype: int64\n        groups = None\n    640 \n    641         # if one choose to see train score, \"out\" will contain train score info\n    642         if self.return_train_score:\n    643             (train_score_dicts, test_score_dicts, test_sample_counts, fit_time,\n\n...........................................................................\n/anaconda3/lib/python3.6/site-packages/sklearn/externals/joblib/parallel.py in __call__(self=Parallel(n_jobs=-1), iterable=<generator object BaseSearchCV.fit.<locals>.<genexpr>>)\n    784             if pre_dispatch == \"all\" or n_jobs == 1:\n    785                 # The iterable was consumed all at once by the above for loop.\n    786                 # No need to wait for async callbacks to trigger to\n    787                 # consumption.\n    788                 self._iterating = False\n--> 789             self.retrieve()\n        self.retrieve = <bound method Parallel.retrieve of Parallel(n_jobs=-1)>\n    790             # Make sure that we get a last message telling us we are done\n    791             elapsed_time = time.time() - self._start_time\n    792             self._print('Done %3i out of %3i | elapsed: %s finished',\n    793                         (len(self._output), len(self._output),\n\n---------------------------------------------------------------------------\nSub-process traceback:\n---------------------------------------------------------------------------\nValueError                                         Fri Sep 21 10:13:18 2018\nPID: 6233                               Python 3.6.5: /anaconda3/bin/python\n...........................................................................\n/anaconda3/lib/python3.6/site-packages/sklearn/externals/joblib/parallel.py in __call__(self=<sklearn.externals.joblib.parallel.BatchedCalls object>)\n    126     def __init__(self, iterator_slice):\n    127         self.items = list(iterator_slice)\n    128         self._size = len(self.items)\n    129 \n    130     def __call__(self):\n--> 131         return [func(*args, **kwargs) for func, args, kwargs in self.items]\n        self.items = [(<function _fit_and_score>, (LogisticRegression(C=1.0, class_weight='balanced...ol=0.0001, verbose=0,\n          warm_start=False),        Block  AddressAccuracy  Species_CULEX ERR...       0          0  \n\n[14929 rows x 210 columns], 94       0\n9757     1\n10237    1\n10109    0\n1009...  1\nName: WnvPresent, Length: 14929, dtype: int64, {'score': <function _passthrough_scorer>}, array([ 2941,  2942,  2943, ..., 14926, 14927, 14928]), array([   0,    1,    2, ..., 3035, 3036, 3037]), 1, {'class_weight': 'balanced', 'max_iter': 50, 'multi_class': 'multinomial', 'solver': 'liblinear'}), {'error_score': 'raise', 'fit_params': {}, 'return_n_test_samples': True, 'return_parameters': False, 'return_times': True, 'return_train_score': 'warn'})]\n    132 \n    133     def __len__(self):\n    134         return self._size\n    135 \n\n...........................................................................\n/anaconda3/lib/python3.6/site-packages/sklearn/externals/joblib/parallel.py in <listcomp>(.0=<list_iterator object>)\n    126     def __init__(self, iterator_slice):\n    127         self.items = list(iterator_slice)\n    128         self._size = len(self.items)\n    129 \n    130     def __call__(self):\n--> 131         return [func(*args, **kwargs) for func, args, kwargs in self.items]\n        func = <function _fit_and_score>\n        args = (LogisticRegression(C=1.0, class_weight='balanced...ol=0.0001, verbose=0,\n          warm_start=False),        Block  AddressAccuracy  Species_CULEX ERR...       0          0  \n\n[14929 rows x 210 columns], 94       0\n9757     1\n10237    1\n10109    0\n1009...  1\nName: WnvPresent, Length: 14929, dtype: int64, {'score': <function _passthrough_scorer>}, array([ 2941,  2942,  2943, ..., 14926, 14927, 14928]), array([   0,    1,    2, ..., 3035, 3036, 3037]), 1, {'class_weight': 'balanced', 'max_iter': 50, 'multi_class': 'multinomial', 'solver': 'liblinear'})\n        kwargs = {'error_score': 'raise', 'fit_params': {}, 'return_n_test_samples': True, 'return_parameters': False, 'return_times': True, 'return_train_score': 'warn'}\n    132 \n    133     def __len__(self):\n    134         return self._size\n    135 \n\n...........................................................................\n/anaconda3/lib/python3.6/site-packages/sklearn/model_selection/_validation.py in _fit_and_score(estimator=LogisticRegression(C=1.0, class_weight='balanced...ol=0.0001, verbose=0,\n          warm_start=False), X=       Block  AddressAccuracy  Species_CULEX ERR...       0          0  \n\n[14929 rows x 210 columns], y=94       0\n9757     1\n10237    1\n10109    0\n1009...  1\nName: WnvPresent, Length: 14929, dtype: int64, scorer={'score': <function _passthrough_scorer>}, train=array([ 2941,  2942,  2943, ..., 14926, 14927, 14928]), test=array([   0,    1,    2, ..., 3035, 3036, 3037]), verbose=1, parameters={'class_weight': 'balanced', 'max_iter': 50, 'multi_class': 'multinomial', 'solver': 'liblinear'}, fit_params={}, return_train_score='warn', return_parameters=False, return_n_test_samples=True, return_times=True, error_score='raise')\n    453 \n    454     try:\n    455         if y_train is None:\n    456             estimator.fit(X_train, **fit_params)\n    457         else:\n--> 458             estimator.fit(X_train, y_train, **fit_params)\n        estimator.fit = <bound method LogisticRegression.fit of Logistic...l=0.0001, verbose=0,\n          warm_start=False)>\n        X_train =        Block  AddressAccuracy  Species_CULEX ERR...       0          0  \n\n[11942 rows x 210 columns]\n        y_train = 970      1\n3049     1\n9532     1\n2711     1\n1423...  1\nName: WnvPresent, Length: 11942, dtype: int64\n        fit_params = {}\n    459 \n    460     except Exception as e:\n    461         # Note fit time as time until error\n    462         fit_time = time.time() - start_time\n\n...........................................................................\n/anaconda3/lib/python3.6/site-packages/sklearn/linear_model/logistic.py in fit(self=LogisticRegression(C=1.0, class_weight='balanced...ol=0.0001, verbose=0,\n          warm_start=False), X=array([[45.,  9.,  0., ...,  0.,  0.,  0.],\n    ...0.],\n       [41.,  9.,  0., ...,  0.,  0.,  0.]]), y=array([1, 1, 1, ..., 1, 1, 1]), sample_weight=None)\n   1217         check_classification_targets(y)\n   1218         self.classes_ = np.unique(y)\n   1219         n_samples, n_features = X.shape\n   1220 \n   1221         _check_solver_option(self.solver, self.multi_class, self.penalty,\n-> 1222                              self.dual)\n        self.dual = False\n   1223 \n   1224         if self.solver == 'liblinear':\n   1225             if self.n_jobs != 1:\n   1226                 warnings.warn(\"'n_jobs' > 1 does not have any effect when\"\n\n...........................................................................\n/anaconda3/lib/python3.6/site-packages/sklearn/linear_model/logistic.py in _check_solver_option(solver='liblinear', multi_class='multinomial', penalty='l2', dual=False)\n    433         raise ValueError(\"multi_class should be either multinomial or \"\n    434                          \"ovr, got %s\" % multi_class)\n    435 \n    436     if multi_class == 'multinomial' and solver == 'liblinear':\n    437         raise ValueError(\"Solver %s does not support \"\n--> 438                          \"a multinomial backend.\" % solver)\n        solver = 'liblinear'\n    439 \n    440     if solver not in ['liblinear', 'saga']:\n    441         if penalty != 'l2':\n    442             raise ValueError(\"Solver %s supports only l2 penalties, \"\n\nValueError: Solver liblinear does not support a multinomial backend.\n___________________________________________________________________________"
     ]
    }
   ],
   "source": [
    "#Logistic Regression\n",
    "grid_params = {\n",
    "    'max_iter': [50,100,300,1000],\n",
    "    'class_weight':['balanced'],\n",
    "    'solver':['newton-cg','lbfgs','liblinear','sag','saga'],\n",
    "    'multi_class':['ovr','multinomial']\n",
    "    \n",
    "}\n",
    "\n",
    "gs = GridSearchCV(\n",
    "    LogisticRegression(),\n",
    "    grid_params,\n",
    "    verbose = 1,\n",
    "    cv = 5,\n",
    "    n_jobs = -1\n",
    ")\n",
    "\n",
    "gs_results = gs.fit(X_train,y_train)"
   ]
  },
  {
   "cell_type": "code",
   "execution_count": null,
   "metadata": {},
   "outputs": [],
   "source": [
    "print('best param',gs.best_params_)\n",
    "print('best score',gs.best_score_)"
   ]
  },
  {
   "cell_type": "code",
   "execution_count": 17,
   "metadata": {},
   "outputs": [
    {
     "name": "stdout",
     "output_type": "stream",
     "text": [
      "Fitting 5 folds for each of 6 candidates, totalling 30 fits\n"
     ]
    },
    {
     "name": "stderr",
     "output_type": "stream",
     "text": [
      "[Parallel(n_jobs=-1)]: Done  30 out of  30 | elapsed:   28.3s finished\n"
     ]
    }
   ],
   "source": [
    "#knn\n",
    "grid_params = {\n",
    "    'n_neighbors':[3,5,7],\n",
    "    'weights':['uniform','distance'],\n",
    "    'metric':['minkowski']\n",
    "}\n",
    "\n",
    "gs = GridSearchCV(\n",
    "    KNeighborsClassifier(),\n",
    "    grid_params,\n",
    "    verbose = 1,\n",
    "    cv = 5,\n",
    "    n_jobs = -1\n",
    ")\n",
    "\n",
    "gs_results = gs.fit(X_train,y_train)"
   ]
  },
  {
   "cell_type": "code",
   "execution_count": 18,
   "metadata": {},
   "outputs": [
    {
     "name": "stdout",
     "output_type": "stream",
     "text": [
      "best param {'metric': 'minkowski', 'n_neighbors': 7, 'weights': 'distance'}\n",
      "best score 0.6779422600308125\n"
     ]
    }
   ],
   "source": [
    "print('best param',gs.best_params_)\n",
    "print('best score',gs.best_score_)"
   ]
  },
  {
   "cell_type": "code",
   "execution_count": 19,
   "metadata": {},
   "outputs": [
    {
     "name": "stdout",
     "output_type": "stream",
     "text": [
      "Fitting 5 folds for each of 108 candidates, totalling 540 fits\n"
     ]
    },
    {
     "name": "stderr",
     "output_type": "stream",
     "text": [
      "[Parallel(n_jobs=-1)]: Done  42 tasks      | elapsed:    3.9s\n",
      "[Parallel(n_jobs=-1)]: Done 192 tasks      | elapsed:   17.6s\n",
      "[Parallel(n_jobs=-1)]: Done 442 tasks      | elapsed:   43.3s\n",
      "[Parallel(n_jobs=-1)]: Done 540 out of 540 | elapsed:   54.4s finished\n"
     ]
    }
   ],
   "source": [
    "#dt\n",
    "grid_params = {\n",
    "    'criterion':['gini','entropy'],\n",
    "    'splitter':['best','random'],\n",
    "    'min_samples_leaf':[1,2,4],\n",
    "    'max_depth':[50,100,115,200,300],\n",
    "    'min_samples_split':[2,3,5]\n",
    "}\n",
    "\n",
    "gs = GridSearchCV(\n",
    "    DecisionTreeClassifier(),\n",
    "    grid_params,\n",
    "    verbose = 1,\n",
    "    cv = 5,\n",
    "    n_jobs = -1\n",
    ")\n",
    "\n",
    "gs_results = gs.fit(X_train,y_train)"
   ]
  },
  {
   "cell_type": "code",
   "execution_count": 20,
   "metadata": {},
   "outputs": [
    {
     "name": "stdout",
     "output_type": "stream",
     "text": [
      "best param {'criterion': 'gini', 'max_depth': 100, 'min_samples_leaf': 1, 'min_samples_split': 2, 'splitter': 'best'}\n",
      "best score 0.7079509679147967\n"
     ]
    }
   ],
   "source": [
    "print('best param',gs.best_params_)\n",
    "print('best score',gs.best_score_)"
   ]
  },
  {
   "cell_type": "code",
   "execution_count": 21,
   "metadata": {},
   "outputs": [
    {
     "name": "stdout",
     "output_type": "stream",
     "text": [
      "Fitting 5 folds for each of 240 candidates, totalling 1200 fits\n"
     ]
    },
    {
     "name": "stderr",
     "output_type": "stream",
     "text": [
      "[Parallel(n_jobs=-1)]: Done  42 tasks      | elapsed:    1.7s\n",
      "[Parallel(n_jobs=-1)]: Done 192 tasks      | elapsed:    7.5s\n",
      "[Parallel(n_jobs=-1)]: Done 442 tasks      | elapsed:   17.4s\n",
      "[Parallel(n_jobs=-1)]: Done 792 tasks      | elapsed:   30.9s\n",
      "[Parallel(n_jobs=-1)]: Done 1200 out of 1200 | elapsed:   46.8s finished\n"
     ]
    }
   ],
   "source": [
    "#et\n",
    "grid_params = {\n",
    "    'criterion':['gini','entropy'],\n",
    "    'splitter':['best','random'],\n",
    "    'min_samples_leaf':[1,2,4,5,8,],\n",
    "    'max_depth':[50,100,300,500],\n",
    "    'min_samples_split':[2,3,5]\n",
    "    \n",
    "}\n",
    "\n",
    "gs = GridSearchCV(\n",
    "    ExtraTreeClassifier(),\n",
    "    grid_params,\n",
    "    verbose = 1,\n",
    "    cv = 5,\n",
    "    n_jobs = -1\n",
    ")\n",
    "\n",
    "gs_results = gs.fit(X_train,y_train)"
   ]
  },
  {
   "cell_type": "code",
   "execution_count": 22,
   "metadata": {},
   "outputs": [
    {
     "name": "stdout",
     "output_type": "stream",
     "text": [
      "best param {'criterion': 'entropy', 'max_depth': 100, 'min_samples_leaf': 1, 'min_samples_split': 5, 'splitter': 'random'}\n",
      "best score 0.7083528702525287\n"
     ]
    }
   ],
   "source": [
    "print('best param',gs.best_params_)\n",
    "print('best score',gs.best_score_)"
   ]
  },
  {
   "cell_type": "code",
   "execution_count": 34,
   "metadata": {},
   "outputs": [
    {
     "name": "stdout",
     "output_type": "stream",
     "text": [
      "Fitting 5 folds for each of 30 candidates, totalling 150 fits\n"
     ]
    },
    {
     "name": "stderr",
     "output_type": "stream",
     "text": [
      "[Parallel(n_jobs=-1)]: Done  42 tasks      | elapsed:    4.9s\n",
      "[Parallel(n_jobs=-1)]: Done 150 out of 150 | elapsed:   15.8s finished\n"
     ]
    }
   ],
   "source": [
    "#bag\n",
    "grid_params = {\n",
    "    'n_estimators':[5,10,13],\n",
    "    'max_samples':[3,5,10,50,100],\n",
    "    #'max_features':[0,2,3],\n",
    "    'bootstrap_features':['False','True'],\n",
    "    \n",
    "}\n",
    "\n",
    "gs = GridSearchCV(\n",
    "    BaggingClassifier(),\n",
    "    grid_params,\n",
    "    verbose = 1,\n",
    "    cv = 5,\n",
    "    n_jobs = -1\n",
    ")\n",
    "\n",
    "gs_results = gs.fit(X_train,y_train)"
   ]
  },
  {
   "cell_type": "code",
   "execution_count": 35,
   "metadata": {},
   "outputs": [
    {
     "name": "stdout",
     "output_type": "stream",
     "text": [
      "best param {'bootstrap_features': 'False', 'max_samples': 100, 'n_estimators': 10}\n",
      "best score 0.638086944872396\n"
     ]
    }
   ],
   "source": [
    "print('best param',gs.best_params_)\n",
    "print('best score',gs.best_score_)"
   ]
  },
  {
   "cell_type": "code",
   "execution_count": 25,
   "metadata": {},
   "outputs": [
    {
     "name": "stdout",
     "output_type": "stream",
     "text": [
      "Fitting 5 folds for each of 360 candidates, totalling 1800 fits\n"
     ]
    },
    {
     "name": "stderr",
     "output_type": "stream",
     "text": [
      "[Parallel(n_jobs=-1)]: Done  42 tasks      | elapsed:    4.9s\n",
      "[Parallel(n_jobs=-1)]: Done 192 tasks      | elapsed:   21.3s\n",
      "[Parallel(n_jobs=-1)]: Done 442 tasks      | elapsed:   51.3s\n",
      "[Parallel(n_jobs=-1)]: Done 792 tasks      | elapsed:  1.5min\n",
      "[Parallel(n_jobs=-1)]: Done 1242 tasks      | elapsed:  2.3min\n",
      "[Parallel(n_jobs=-1)]: Done 1792 tasks      | elapsed:  3.3min\n",
      "[Parallel(n_jobs=-1)]: Done 1800 out of 1800 | elapsed:  3.4min finished\n"
     ]
    }
   ],
   "source": [
    "#rf\n",
    "grid_params = {\n",
    "    'criterion':['gini','entropy'],\n",
    "    'n_estimators':[5,10,15],\n",
    "    'min_samples_leaf':[1,2,4,5,8,],\n",
    "    'max_depth':[50,100,300,500],\n",
    "    'min_samples_split':[2,3,5]\n",
    "    \n",
    "}\n",
    "\n",
    "gs = GridSearchCV(\n",
    "    RandomForestClassifier(),\n",
    "    grid_params,\n",
    "    verbose = 1,\n",
    "    cv = 5,\n",
    "    n_jobs = -1\n",
    ")\n",
    "\n",
    "gs_results = gs.fit(X_train,y_train)"
   ]
  },
  {
   "cell_type": "code",
   "execution_count": 26,
   "metadata": {},
   "outputs": [
    {
     "name": "stdout",
     "output_type": "stream",
     "text": [
      "best param {'criterion': 'gini', 'max_depth': 300, 'min_samples_leaf': 2, 'min_samples_split': 5, 'n_estimators': 10}\n",
      "best score 0.7106973005559649\n"
     ]
    }
   ],
   "source": [
    "print('best param',gs.best_params_)\n",
    "print('best score',gs.best_score_)"
   ]
  },
  {
   "cell_type": "code",
   "execution_count": null,
   "metadata": {},
   "outputs": [],
   "source": [
    "#gb\n",
    "#hadn't looked at this because nothing has had a better score"
   ]
  },
  {
   "cell_type": "code",
   "execution_count": null,
   "metadata": {},
   "outputs": [],
   "source": []
  },
  {
   "cell_type": "code",
   "execution_count": null,
   "metadata": {},
   "outputs": [],
   "source": [
    "#ad\n",
    "##hadn't looked at this because nothing has had a better score"
   ]
  },
  {
   "cell_type": "code",
   "execution_count": null,
   "metadata": {},
   "outputs": [],
   "source": []
  },
  {
   "cell_type": "code",
   "execution_count": null,
   "metadata": {},
   "outputs": [],
   "source": []
  }
 ],
 "metadata": {
  "kernelspec": {
   "display_name": "Python 3",
   "language": "python",
   "name": "python3"
  },
  "language_info": {
   "codemirror_mode": {
    "name": "ipython",
    "version": 3
   },
   "file_extension": ".py",
   "mimetype": "text/x-python",
   "name": "python",
   "nbconvert_exporter": "python",
   "pygments_lexer": "ipython3",
   "version": "3.6.5"
  }
 },
 "nbformat": 4,
 "nbformat_minor": 2
}
